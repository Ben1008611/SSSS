{
 "cells": [
  {
   "cell_type": "code",
   "execution_count": 16,
   "metadata": {},
   "outputs": [],
   "source": [
    "using Zygote\n",
    "using Statistics: var\n",
    "using LinearAlgebra: norm"
   ]
  },
  {
   "cell_type": "code",
   "execution_count": 17,
   "metadata": {},
   "outputs": [
    {
     "data": {
      "text/plain": [
       "16.333333333333336"
      ]
     },
     "execution_count": 17,
     "metadata": {},
     "output_type": "execute_result"
    }
   ],
   "source": [
    "var((x^2 for x in [1,2,3]))"
   ]
  },
  {
   "cell_type": "code",
   "execution_count": 72,
   "metadata": {},
   "outputs": [
    {
     "data": {
      "text/plain": [
       "loss (generic function with 1 method)"
      ]
     },
     "execution_count": 72,
     "metadata": {},
     "output_type": "execute_result"
    }
   ],
   "source": [
    "mynorm(x) = sqrt(x'*x)\n",
    "\n",
    "function loss(x)\n",
    "    l1_pairs = [(1,5), (2,6), (3,7), (4,8)]\n",
    "    l2_pairs = [(1,2), (2,3), (3,4), (4,1), (5,6), (6,7), (7,8), (8,5),\n",
    "                (1,6), (1, 8), (2,7), (2,5), (3,6), (3,8), (4,7),(4,5)]\n",
    "    l3_pairs = [(1,3), (2,4), (1,7), (2,8), (3,5), (4,6), (5,7), (8,6)]\n",
    "    l1 = 0#var([mynorm(x[i]-x[j]) for (i, j) in l1_pairs])\n",
    "    l2 = 0#var([mynorm(x[i]-x[j]) for (i, j) in l2_pairs])\n",
    "    l3 = var([mynorm(x[i]-x[j]) for (i, j) in l3_pairs])\n",
    "    l1+l2+l3\n",
    "end"
   ]
  },
  {
   "cell_type": "code",
   "execution_count": 73,
   "metadata": {},
   "outputs": [
    {
     "data": {
      "text/plain": [
       "0.3238615008797181"
      ]
     },
     "execution_count": 73,
     "metadata": {},
     "output_type": "execute_result"
    }
   ],
   "source": [
    "loss(randn(2, 8))"
   ]
  },
  {
   "cell_type": "code",
   "execution_count": 74,
   "metadata": {},
   "outputs": [],
   "source": [
    "Zygote.refresh()"
   ]
  },
  {
   "cell_type": "code",
   "execution_count": 75,
   "metadata": {},
   "outputs": [
    {
     "data": {
      "text/plain": [
       "2×8 Array{Float64,2}:\n",
       " -0.441401  -0.116648   0.648425  -0.0903769  0.0  0.0  0.0  0.0\n",
       " -0.460555   0.443511  -0.219443   0.236487   0.0  0.0  0.0  0.0"
      ]
     },
     "execution_count": 75,
     "metadata": {},
     "output_type": "execute_result"
    }
   ],
   "source": [
    "loss'(randn(2, 8))"
   ]
  },
  {
   "cell_type": "code",
   "execution_count": null,
   "metadata": {},
   "outputs": [],
   "source": []
  }
 ],
 "metadata": {
  "kernelspec": {
   "display_name": "Julia 1.1.0",
   "language": "julia",
   "name": "julia-1.1"
  },
  "language_info": {
   "file_extension": ".jl",
   "mimetype": "application/julia",
   "name": "julia",
   "version": "1.1.0"
  }
 },
 "nbformat": 4,
 "nbformat_minor": 2
}
