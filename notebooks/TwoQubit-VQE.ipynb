{
 "cells": [
  {
   "cell_type": "code",
   "execution_count": 1,
   "metadata": {},
   "outputs": [],
   "source": [
    "using Yao\n",
    "using Statistics: mean\n",
    "using LinearAlgebra"
   ]
  },
  {
   "cell_type": "code",
   "execution_count": 2,
   "metadata": {},
   "outputs": [
    {
     "data": {
      "text/plain": [
       "twoqubit_circuit (generic function with 1 method)"
      ]
     },
     "execution_count": 2,
     "metadata": {},
     "output_type": "execute_result"
    }
   ],
   "source": [
    "rotor(noleading::Bool=false, notrailing::Bool=false) = noleading ? (notrailing ? Rx(0) : chain(Rx(0), Rz(0))) : (notrailing ? chain(Rz(0), Rx(0)) : chain(Rz(0), Rx(0), Rz(0)))\n",
    "\n",
    "function twoqubit_circuit(nlayer::Int, nrepeat::Int)\n",
    "    nbit_measure = nbit_virtual = 1\n",
    "    nbit_used = nbit_measure + nbit_virtual\n",
    "    circuit = chain(nbit_used)\n",
    "\n",
    "    for i=1:nrepeat\n",
    "        unit = chain(nbit_used)\n",
    "        for j=1:nlayer\n",
    "            push!(unit, put(nbit_used, 1=>rotor(true, false)))\n",
    "            push!(unit, control(nbit_used, 1, 2=>(j%2==1 ? X : Z)))\n",
    "            j == nlayer && push!(unit, put(nbit_used, 1=>rotor(false, true)))\n",
    "        end\n",
    "        push!(unit, Measure{nbit_used, 1, AbstractBlock}(Z, (1,), 0, false))\n",
    "        if i==nrepeat\n",
    "            for k=2:nbit_used\n",
    "                push!(unit, Measure{nbit_used, 1, AbstractBlock}(Z, (k,), 0, false))\n",
    "            end\n",
    "        end\n",
    "        push!(circuit, unit)\n",
    "    end\n",
    "    dispatch!(circuit, :random)\n",
    "end"
   ]
  },
  {
   "cell_type": "code",
   "execution_count": 3,
   "metadata": {},
   "outputs": [
    {
     "data": {
      "text/plain": [
       "\u001b[36mnqubits: 2, datatype: Complex{Float64}\u001b[39m\n",
       "\u001b[34m\u001b[1mchain\u001b[22m\u001b[39m\n",
       "├─ \u001b[34m\u001b[1mchain\u001b[22m\u001b[39m\n",
       "│  ├─ \u001b[36m\u001b[1mput on (\u001b[22m\u001b[39m\u001b[36m\u001b[1m1\u001b[22m\u001b[39m\u001b[36m\u001b[1m)\u001b[22m\u001b[39m\n",
       "│  │  └─ \u001b[34m\u001b[1mchain\u001b[22m\u001b[39m\n",
       "│  │     ├─ rot(X gate, 0.84570445572993)\n",
       "│  │     └─ rot(Z gate, 0.4318469396717437)\n",
       "│  ├─ \u001b[31m\u001b[1mcontrol(\u001b[22m\u001b[39m\u001b[31m\u001b[1m1\u001b[22m\u001b[39m\u001b[31m\u001b[1m)\u001b[22m\u001b[39m\n",
       "│  │  └─ \u001b[37m\u001b[1m(2,)\u001b[22m\u001b[39mX gate\n",
       "│  ├─ \u001b[36m\u001b[1mput on (\u001b[22m\u001b[39m\u001b[36m\u001b[1m1\u001b[22m\u001b[39m\u001b[36m\u001b[1m)\u001b[22m\u001b[39m\n",
       "│  │  └─ \u001b[34m\u001b[1mchain\u001b[22m\u001b[39m\n",
       "│  │     ├─ rot(X gate, 0.6605822615388279)\n",
       "│  │     └─ rot(Z gate, 0.22101235663174257)\n",
       "│  ├─ \u001b[31m\u001b[1mcontrol(\u001b[22m\u001b[39m\u001b[31m\u001b[1m1\u001b[22m\u001b[39m\u001b[31m\u001b[1m)\u001b[22m\u001b[39m\n",
       "│  │  └─ \u001b[37m\u001b[1m(2,)\u001b[22m\u001b[39mZ gate\n",
       "│  ├─ \u001b[36m\u001b[1mput on (\u001b[22m\u001b[39m\u001b[36m\u001b[1m1\u001b[22m\u001b[39m\u001b[36m\u001b[1m)\u001b[22m\u001b[39m\n",
       "│  │  └─ \u001b[34m\u001b[1mchain\u001b[22m\u001b[39m\n",
       "│  │     ├─ rot(Z gate, 0.49914112233806573)\n",
       "│  │     └─ rot(X gate, 0.04810499026441151)\n",
       "│  └─ Measure{2,1,AbstractBlock}\n",
       "├─ \u001b[34m\u001b[1mchain\u001b[22m\u001b[39m\n",
       "│  ├─ \u001b[36m\u001b[1mput on (\u001b[22m\u001b[39m\u001b[36m\u001b[1m1\u001b[22m\u001b[39m\u001b[36m\u001b[1m)\u001b[22m\u001b[39m\n",
       "│  │  └─ \u001b[34m\u001b[1mchain\u001b[22m\u001b[39m\n",
       "│  │     ├─ rot(X gate, 0.28418220191407983)\n",
       "│  │     └─ rot(Z gate, 0.9350756615919091)\n",
       "│  ├─ \u001b[31m\u001b[1mcontrol(\u001b[22m\u001b[39m\u001b[31m\u001b[1m1\u001b[22m\u001b[39m\u001b[31m\u001b[1m)\u001b[22m\u001b[39m\n",
       "│  │  └─ \u001b[37m\u001b[1m(2,)\u001b[22m\u001b[39mX gate\n",
       "│  ├─ \u001b[36m\u001b[1mput on (\u001b[22m\u001b[39m\u001b[36m\u001b[1m1\u001b[22m\u001b[39m\u001b[36m\u001b[1m)\u001b[22m\u001b[39m\n",
       "│  │  └─ \u001b[34m\u001b[1mchain\u001b[22m\u001b[39m\n",
       "│  │     ├─ rot(X gate, 0.9010875863516428)\n",
       "│  │     └─ rot(Z gate, 0.7208934347561435)\n",
       "│  ├─ \u001b[31m\u001b[1mcontrol(\u001b[22m\u001b[39m\u001b[31m\u001b[1m1\u001b[22m\u001b[39m\u001b[31m\u001b[1m)\u001b[22m\u001b[39m\n",
       "│  │  └─ \u001b[37m\u001b[1m(2,)\u001b[22m\u001b[39mZ gate\n",
       "│  ├─ \u001b[36m\u001b[1mput on (\u001b[22m\u001b[39m\u001b[36m\u001b[1m1\u001b[22m\u001b[39m\u001b[36m\u001b[1m)\u001b[22m\u001b[39m\n",
       "│  │  └─ \u001b[34m\u001b[1mchain\u001b[22m\u001b[39m\n",
       "│  │     ├─ rot(Z gate, 0.6851329727888991)\n",
       "│  │     └─ rot(X gate, 0.03416087157102243)\n",
       "│  └─ Measure{2,1,AbstractBlock}\n",
       "└─ \u001b[34m\u001b[1mchain\u001b[22m\u001b[39m\n",
       "   ├─ \u001b[36m\u001b[1mput on (\u001b[22m\u001b[39m\u001b[36m\u001b[1m1\u001b[22m\u001b[39m\u001b[36m\u001b[1m)\u001b[22m\u001b[39m\n",
       "   │  └─ \u001b[34m\u001b[1mchain\u001b[22m\u001b[39m\n",
       "   │     ├─ rot(X gate, 0.3179205071934694)\n",
       "   │     └─ rot(Z gate, 0.2953897672611683)\n",
       "   ├─ \u001b[31m\u001b[1mcontrol(\u001b[22m\u001b[39m\u001b[31m\u001b[1m1\u001b[22m\u001b[39m\u001b[31m\u001b[1m)\u001b[22m\u001b[39m\n",
       "   │  └─ \u001b[37m\u001b[1m(2,)\u001b[22m\u001b[39mX gate\n",
       "   ├─ \u001b[36m\u001b[1mput on (\u001b[22m\u001b[39m\u001b[36m\u001b[1m1\u001b[22m\u001b[39m\u001b[36m\u001b[1m)\u001b[22m\u001b[39m\n",
       "   │  └─ \u001b[34m\u001b[1mchain\u001b[22m\u001b[39m\n",
       "   │     ├─ rot(X gate, 0.7470630969970518)\n",
       "   │     └─ rot(Z gate, 0.13368115040836037)\n",
       "   ├─ \u001b[31m\u001b[1mcontrol(\u001b[22m\u001b[39m\u001b[31m\u001b[1m1\u001b[22m\u001b[39m\u001b[31m\u001b[1m)\u001b[22m\u001b[39m\n",
       "   │  └─ \u001b[37m\u001b[1m(2,)\u001b[22m\u001b[39mZ gate\n",
       "   ├─ \u001b[36m\u001b[1mput on (\u001b[22m\u001b[39m\u001b[36m\u001b[1m1\u001b[22m\u001b[39m\u001b[36m\u001b[1m)\u001b[22m\u001b[39m\n",
       "   │  └─ \u001b[34m\u001b[1mchain\u001b[22m\u001b[39m\n",
       "   │     ├─ rot(Z gate, 0.32690686736163044)\n",
       "   │     └─ rot(X gate, 0.7394353412729671)\n",
       "   ├─ Measure{2,1,AbstractBlock}\n",
       "   └─ Measure{2,1,AbstractBlock}\n"
      ]
     },
     "execution_count": 3,
     "metadata": {},
     "output_type": "execute_result"
    }
   ],
   "source": [
    "circuit = twoqubit_circuit(2, 3)"
   ]
  },
  {
   "cell_type": "code",
   "execution_count": 4,
   "metadata": {},
   "outputs": [
    {
     "data": {
      "text/plain": [
       "gensample (generic function with 1 method)"
      ]
     },
     "execution_count": 4,
     "metadata": {},
     "output_type": "execute_result"
    }
   ],
   "source": [
    "function gensample(circuit, basis; nbatch=1024)\n",
    "    mblocks = collect_blocks(Measure, circuit)\n",
    "    for m in mblocks\n",
    "        m.operator = basis\n",
    "    end\n",
    "    reg = zero_state(nqubits(circuit); nbatch=nbatch)\n",
    "    reg |> circuit\n",
    "    mblocks\n",
    "end"
   ]
  },
  {
   "cell_type": "code",
   "execution_count": 5,
   "metadata": {},
   "outputs": [
    {
     "data": {
      "text/plain": [
       "4-element Array{Measure,1}:\n",
       " Measure{2,1,AbstractBlock}\n",
       " Measure{2,1,AbstractBlock}\n",
       " Measure{2,1,AbstractBlock}\n",
       " Measure{2,1,AbstractBlock}"
      ]
     },
     "execution_count": 5,
     "metadata": {},
     "output_type": "execute_result"
    }
   ],
   "source": [
    "res = gensample(circuit, X; nbatch=1024)"
   ]
  },
  {
   "cell_type": "code",
   "execution_count": 6,
   "metadata": {},
   "outputs": [
    {
     "data": {
      "text/plain": [
       "1024-element Array{Int64,1}:\n",
       " -1\n",
       "  1\n",
       "  1\n",
       "  1\n",
       "  1\n",
       "  1\n",
       " -1\n",
       " -1\n",
       " -1\n",
       "  1\n",
       "  1\n",
       " -1\n",
       "  1\n",
       "  ⋮\n",
       "  1\n",
       "  1\n",
       "  1\n",
       "  1\n",
       "  1\n",
       " -1\n",
       "  1\n",
       "  1\n",
       "  1\n",
       "  1\n",
       "  1\n",
       "  1"
      ]
     },
     "execution_count": 6,
     "metadata": {},
     "output_type": "execute_result"
    }
   ],
   "source": [
    "res[1].results"
   ]
  },
  {
   "cell_type": "code",
   "execution_count": 7,
   "metadata": {},
   "outputs": [],
   "source": [
    "struct TFIChain\n",
    "    length::Int\n",
    "    h::Float64\n",
    "    TFIChain(length::Int; h::Real) = new(length, Float64(h))\n",
    "end"
   ]
  },
  {
   "cell_type": "code",
   "execution_count": 8,
   "metadata": {},
   "outputs": [
    {
     "data": {
      "text/plain": [
       "TFIChain(4, 0.5)"
      ]
     },
     "execution_count": 8,
     "metadata": {},
     "output_type": "execute_result"
    }
   ],
   "source": [
    "model = TFIChain(4; h=0.5)"
   ]
  },
  {
   "cell_type": "code",
   "execution_count": 9,
   "metadata": {},
   "outputs": [
    {
     "data": {
      "text/plain": [
       "energy (generic function with 1 method)"
      ]
     },
     "execution_count": 9,
     "metadata": {},
     "output_type": "execute_result"
    }
   ],
   "source": [
    "function energy(circuit, model::TFIChain; nbatch=1024)\n",
    "    # measuring Z basis\n",
    "    mblocks = gensample(circuit, Z; nbatch=nbatch)\n",
    "    local eng = 0.0\n",
    "    for (a, b, v) in ((i, i+1, 1.0) for i=1:model.length-1)\n",
    "        eng += v*mean(mblocks[a].results .* mblocks[b].results)\n",
    "    end\n",
    "    eng/=4\n",
    "\n",
    "    # measuring X basis\n",
    "    mblocks = gensample(circuit, X; nbatch=nbatch)\n",
    "    engx = sum(mean.([m.results for m in mblocks]))\n",
    "    eng + model.h*engx/2\n",
    "end"
   ]
  },
  {
   "cell_type": "code",
   "execution_count": 10,
   "metadata": {},
   "outputs": [
    {
     "data": {
      "text/plain": [
       "0.27734375"
      ]
     },
     "execution_count": 10,
     "metadata": {},
     "output_type": "execute_result"
    }
   ],
   "source": [
    "energy(circuit, model)"
   ]
  },
  {
   "cell_type": "code",
   "execution_count": 11,
   "metadata": {},
   "outputs": [
    {
     "data": {
      "text/plain": [
       "chem2circuit (generic function with 1 method)"
      ]
     },
     "execution_count": 11,
     "metadata": {},
     "output_type": "execute_result"
    }
   ],
   "source": [
    "function chem2circuit(circuit)\n",
    "    nbit = length(collect_blocks(Measure, circuit))\n",
    "    nm = 1\n",
    "    nv = 1\n",
    "    c = chain(nbit)\n",
    "    for (i, blk) in enumerate(circuit)\n",
    "        blk = chain([b for b in blk if !(b isa Measure)]...)\n",
    "        push!(c, concentrate(nbit, blk, [(i-1)*nm+1:i*nm..., nbit-nv+1:nbit...]))\n",
    "    end\n",
    "    c\n",
    "end"
   ]
  },
  {
   "cell_type": "code",
   "execution_count": 12,
   "metadata": {},
   "outputs": [
    {
     "data": {
      "text/plain": [
       "\u001b[36mnqubits: 4, datatype: Complex{Float64}\u001b[39m\n",
       "\u001b[34m\u001b[1mchain\u001b[22m\u001b[39m\n",
       "├─ Concentrator: (1, 4)\n",
       "│  └─ \u001b[34m\u001b[1mchain\u001b[22m\u001b[39m\n",
       "│     ├─ \u001b[36m\u001b[1mput on (\u001b[22m\u001b[39m\u001b[36m\u001b[1m1\u001b[22m\u001b[39m\u001b[36m\u001b[1m)\u001b[22m\u001b[39m\n",
       "│     │  └─ \u001b[34m\u001b[1mchain\u001b[22m\u001b[39m\n",
       "│     │     ├─ rot(X gate, 0.84570445572993)\n",
       "│     │     └─ rot(Z gate, 0.4318469396717437)\n",
       "│     ├─ \u001b[31m\u001b[1mcontrol(\u001b[22m\u001b[39m\u001b[31m\u001b[1m1\u001b[22m\u001b[39m\u001b[31m\u001b[1m)\u001b[22m\u001b[39m\n",
       "│     │  └─ \u001b[37m\u001b[1m(2,)\u001b[22m\u001b[39mX gate\n",
       "│     ├─ \u001b[36m\u001b[1mput on (\u001b[22m\u001b[39m\u001b[36m\u001b[1m1\u001b[22m\u001b[39m\u001b[36m\u001b[1m)\u001b[22m\u001b[39m\n",
       "│     │  └─ \u001b[34m\u001b[1mchain\u001b[22m\u001b[39m\n",
       "│     │     ├─ rot(X gate, 0.6605822615388279)\n",
       "│     │     └─ rot(Z gate, 0.22101235663174257)\n",
       "│     ├─ \u001b[31m\u001b[1mcontrol(\u001b[22m\u001b[39m\u001b[31m\u001b[1m1\u001b[22m\u001b[39m\u001b[31m\u001b[1m)\u001b[22m\u001b[39m\n",
       "│     │  └─ \u001b[37m\u001b[1m(2,)\u001b[22m\u001b[39mZ gate\n",
       "│     └─ \u001b[36m\u001b[1mput on (\u001b[22m\u001b[39m\u001b[36m\u001b[1m1\u001b[22m\u001b[39m\u001b[36m\u001b[1m)\u001b[22m\u001b[39m\n",
       "│        └─ \u001b[34m\u001b[1mchain\u001b[22m\u001b[39m\n",
       "│           ├─ rot(Z gate, 0.49914112233806573)\n",
       "│           └─ rot(X gate, 0.04810499026441151)\n",
       "├─ Concentrator: (2, 4)\n",
       "│  └─ \u001b[34m\u001b[1mchain\u001b[22m\u001b[39m\n",
       "│     ├─ \u001b[36m\u001b[1mput on (\u001b[22m\u001b[39m\u001b[36m\u001b[1m1\u001b[22m\u001b[39m\u001b[36m\u001b[1m)\u001b[22m\u001b[39m\n",
       "│     │  └─ \u001b[34m\u001b[1mchain\u001b[22m\u001b[39m\n",
       "│     │     ├─ rot(X gate, 0.28418220191407983)\n",
       "│     │     └─ rot(Z gate, 0.9350756615919091)\n",
       "│     ├─ \u001b[31m\u001b[1mcontrol(\u001b[22m\u001b[39m\u001b[31m\u001b[1m1\u001b[22m\u001b[39m\u001b[31m\u001b[1m)\u001b[22m\u001b[39m\n",
       "│     │  └─ \u001b[37m\u001b[1m(2,)\u001b[22m\u001b[39mX gate\n",
       "│     ├─ \u001b[36m\u001b[1mput on (\u001b[22m\u001b[39m\u001b[36m\u001b[1m1\u001b[22m\u001b[39m\u001b[36m\u001b[1m)\u001b[22m\u001b[39m\n",
       "│     │  └─ \u001b[34m\u001b[1mchain\u001b[22m\u001b[39m\n",
       "│     │     ├─ rot(X gate, 0.9010875863516428)\n",
       "│     │     └─ rot(Z gate, 0.7208934347561435)\n",
       "│     ├─ \u001b[31m\u001b[1mcontrol(\u001b[22m\u001b[39m\u001b[31m\u001b[1m1\u001b[22m\u001b[39m\u001b[31m\u001b[1m)\u001b[22m\u001b[39m\n",
       "│     │  └─ \u001b[37m\u001b[1m(2,)\u001b[22m\u001b[39mZ gate\n",
       "│     └─ \u001b[36m\u001b[1mput on (\u001b[22m\u001b[39m\u001b[36m\u001b[1m1\u001b[22m\u001b[39m\u001b[36m\u001b[1m)\u001b[22m\u001b[39m\n",
       "│        └─ \u001b[34m\u001b[1mchain\u001b[22m\u001b[39m\n",
       "│           ├─ rot(Z gate, 0.6851329727888991)\n",
       "│           └─ rot(X gate, 0.03416087157102243)\n",
       "└─ Concentrator: (3, 4)\n",
       "   └─ \u001b[34m\u001b[1mchain\u001b[22m\u001b[39m\n",
       "      ├─ \u001b[36m\u001b[1mput on (\u001b[22m\u001b[39m\u001b[36m\u001b[1m1\u001b[22m\u001b[39m\u001b[36m\u001b[1m)\u001b[22m\u001b[39m\n",
       "      │  └─ \u001b[34m\u001b[1mchain\u001b[22m\u001b[39m\n",
       "      │     ├─ rot(X gate, 0.3179205071934694)\n",
       "      │     └─ rot(Z gate, 0.2953897672611683)\n",
       "      ├─ \u001b[31m\u001b[1mcontrol(\u001b[22m\u001b[39m\u001b[31m\u001b[1m1\u001b[22m\u001b[39m\u001b[31m\u001b[1m)\u001b[22m\u001b[39m\n",
       "      │  └─ \u001b[37m\u001b[1m(2,)\u001b[22m\u001b[39mX gate\n",
       "      ├─ \u001b[36m\u001b[1mput on (\u001b[22m\u001b[39m\u001b[36m\u001b[1m1\u001b[22m\u001b[39m\u001b[36m\u001b[1m)\u001b[22m\u001b[39m\n",
       "      │  └─ \u001b[34m\u001b[1mchain\u001b[22m\u001b[39m\n",
       "      │     ├─ rot(X gate, 0.7470630969970518)\n",
       "      │     └─ rot(Z gate, 0.13368115040836037)\n",
       "      ├─ \u001b[31m\u001b[1mcontrol(\u001b[22m\u001b[39m\u001b[31m\u001b[1m1\u001b[22m\u001b[39m\u001b[31m\u001b[1m)\u001b[22m\u001b[39m\n",
       "      │  └─ \u001b[37m\u001b[1m(2,)\u001b[22m\u001b[39mZ gate\n",
       "      └─ \u001b[36m\u001b[1mput on (\u001b[22m\u001b[39m\u001b[36m\u001b[1m1\u001b[22m\u001b[39m\u001b[36m\u001b[1m)\u001b[22m\u001b[39m\n",
       "         └─ \u001b[34m\u001b[1mchain\u001b[22m\u001b[39m\n",
       "            ├─ rot(Z gate, 0.32690686736163044)\n",
       "            └─ rot(X gate, 0.7394353412729671)\n"
      ]
     },
     "execution_count": 12,
     "metadata": {},
     "output_type": "execute_result"
    }
   ],
   "source": [
    "bigc = chem2circuit(circuit)"
   ]
  },
  {
   "cell_type": "code",
   "execution_count": 13,
   "metadata": {},
   "outputs": [
    {
     "data": {
      "text/plain": [
       "hamiltonian (generic function with 1 method)"
      ]
     },
     "execution_count": 13,
     "metadata": {},
     "output_type": "execute_result"
    }
   ],
   "source": [
    "function hamiltonian(model::TFIChain)\n",
    "    nbit = model.length\n",
    "    sum(repeat(nbit, Z, (i,i+1)) for i=1:nbit-1)*0.25 +\n",
    "    sum(put(nbit, i=>X) for i=1:nbit)*0.5model.h\n",
    "end"
   ]
  },
  {
   "cell_type": "code",
   "execution_count": 14,
   "metadata": {},
   "outputs": [
    {
     "data": {
      "text/plain": [
       "\u001b[36mnqubits: 4, datatype: Complex{Float64}\u001b[39m\n",
       "\u001b[34m\u001b[1msum\u001b[22m\u001b[39m\n",
       "├─ \u001b[33m\u001b[1m[scale: 0.25] \u001b[22m\u001b[39m\u001b[34m\u001b[1msum\u001b[22m\u001b[39m\n",
       "│     ├─ \u001b[36m\u001b[1mrepeat on (\u001b[22m\u001b[39m\u001b[36m\u001b[1m1\u001b[22m\u001b[39m\u001b[36m\u001b[1m, \u001b[22m\u001b[39m\u001b[36m\u001b[1m2\u001b[22m\u001b[39m\u001b[36m\u001b[1m)\u001b[22m\u001b[39m\n",
       "│     │  └─ Z gate\n",
       "│     ├─ \u001b[36m\u001b[1mrepeat on (\u001b[22m\u001b[39m\u001b[36m\u001b[1m2\u001b[22m\u001b[39m\u001b[36m\u001b[1m, \u001b[22m\u001b[39m\u001b[36m\u001b[1m3\u001b[22m\u001b[39m\u001b[36m\u001b[1m)\u001b[22m\u001b[39m\n",
       "│     │  └─ Z gate\n",
       "│     └─ \u001b[36m\u001b[1mrepeat on (\u001b[22m\u001b[39m\u001b[36m\u001b[1m3\u001b[22m\u001b[39m\u001b[36m\u001b[1m, \u001b[22m\u001b[39m\u001b[36m\u001b[1m4\u001b[22m\u001b[39m\u001b[36m\u001b[1m)\u001b[22m\u001b[39m\n",
       "│        └─ Z gate\n",
       "└─ \u001b[33m\u001b[1m[scale: 0.25] \u001b[22m\u001b[39m\u001b[34m\u001b[1msum\u001b[22m\u001b[39m\n",
       "      ├─ \u001b[36m\u001b[1mput on (\u001b[22m\u001b[39m\u001b[36m\u001b[1m1\u001b[22m\u001b[39m\u001b[36m\u001b[1m)\u001b[22m\u001b[39m\n",
       "      │  └─ X gate\n",
       "      ├─ \u001b[36m\u001b[1mput on (\u001b[22m\u001b[39m\u001b[36m\u001b[1m2\u001b[22m\u001b[39m\u001b[36m\u001b[1m)\u001b[22m\u001b[39m\n",
       "      │  └─ X gate\n",
       "      ├─ \u001b[36m\u001b[1mput on (\u001b[22m\u001b[39m\u001b[36m\u001b[1m3\u001b[22m\u001b[39m\u001b[36m\u001b[1m)\u001b[22m\u001b[39m\n",
       "      │  └─ X gate\n",
       "      └─ \u001b[36m\u001b[1mput on (\u001b[22m\u001b[39m\u001b[36m\u001b[1m4\u001b[22m\u001b[39m\u001b[36m\u001b[1m)\u001b[22m\u001b[39m\n",
       "         └─ X gate\n"
      ]
     },
     "execution_count": 14,
     "metadata": {},
     "output_type": "execute_result"
    }
   ],
   "source": [
    "h = hamiltonian(model)"
   ]
  },
  {
   "cell_type": "code",
   "execution_count": 15,
   "metadata": {},
   "outputs": [
    {
     "data": {
      "text/plain": [
       "0.2757396782114322"
      ]
     },
     "execution_count": 15,
     "metadata": {},
     "output_type": "execute_result"
    }
   ],
   "source": [
    "expect(h, zero_state(nqubits(bigc)) |> bigc) |> real"
   ]
  },
  {
   "cell_type": "code",
   "execution_count": 18,
   "metadata": {},
   "outputs": [
    {
     "data": {
      "text/plain": [
       "train (generic function with 1 method)"
      ]
     },
     "execution_count": 18,
     "metadata": {},
     "output_type": "execute_result"
    }
   ],
   "source": [
    "function train(circuit, model; maxiter=200, α=0.3, nbatch=1024)\n",
    "    rots = collect(RotationGate, circuit)\n",
    "    for i in 1:maxiter\n",
    "        for r in rots\n",
    "            r.theta += π/2\n",
    "            E₊ = energy(circuit, model; nbatch=nbatch)\n",
    "            r.theta -= π\n",
    "            E₋ = energy(circuit, model; nbatch=nbatch)\n",
    "            r.theta += π/2\n",
    "            g = 0.5(E₊ - E₋)\n",
    "            r.theta -= g*α\n",
    "        end\n",
    "        println(\"Iter $i, E/N = $(energy(circuit, model, nbatch=nbatch)/model.length)\")\n",
    "    end\n",
    "    circuit\n",
    "end"
   ]
  },
  {
   "cell_type": "code",
   "execution_count": 19,
   "metadata": {},
   "outputs": [
    {
     "name": "stderr",
     "output_type": "stream",
     "text": [
      "┌ Warning: `collect(t::Type, x::AbstractBlock)` is deprecated, use `collect_blocks(t, x)` instead.\n",
      "│   caller = #train#20(::Int64, ::Float64, ::Int64, ::Function, ::ChainBlock{2,Complex{Float64}}, ::TFIChain) at In[18]:2\n",
      "└ @ Main ./In[18]:2\n"
     ]
    },
    {
     "name": "stdout",
     "output_type": "stream",
     "text": [
      "Iter 1, E/N = -0.2568359375\n",
      "Iter 2, E/N = -0.2574462890625\n",
      "Iter 3, E/N = -0.2666015625\n",
      "Iter 4, E/N = -0.266357421875\n",
      "Iter 5, E/N = -0.262451171875\n",
      "Iter 6, E/N = -0.263916015625\n",
      "Iter 7, E/N = -0.264404296875\n",
      "Iter 8, E/N = -0.2657470703125\n",
      "Iter 9, E/N = -0.26806640625\n",
      "Iter 10, E/N = -0.266357421875\n",
      "Iter 11, E/N = -0.26513671875\n",
      "Iter 12, E/N = -0.25732421875\n",
      "Iter 13, E/N = -0.2615966796875\n",
      "Iter 14, E/N = -0.263427734375\n",
      "Iter 15, E/N = -0.2657470703125\n",
      "Iter 16, E/N = -0.259521484375\n",
      "Iter 17, E/N = -0.268798828125\n",
      "Iter 18, E/N = -0.26416015625\n",
      "Iter 19, E/N = -0.261962890625\n",
      "Iter 20, E/N = -0.26953125\n",
      "Iter 21, E/N = -0.267822265625\n",
      "Iter 22, E/N = -0.2694091796875\n",
      "Iter 23, E/N = -0.2657470703125\n",
      "Iter 24, E/N = -0.2666015625\n",
      "Iter 25, E/N = -0.2730712890625\n",
      "Iter 26, E/N = -0.2628173828125\n",
      "Iter 27, E/N = -0.265869140625\n",
      "Iter 28, E/N = -0.26953125\n",
      "Iter 29, E/N = -0.2685546875\n",
      "Iter 30, E/N = -0.2686767578125\n",
      "Iter 31, E/N = -0.2689208984375\n",
      "Iter 32, E/N = -0.276123046875\n",
      "Iter 33, E/N = -0.270751953125\n",
      "Iter 34, E/N = -0.2681884765625\n",
      "Iter 35, E/N = -0.2752685546875\n",
      "Iter 36, E/N = -0.269287109375\n",
      "Iter 37, E/N = -0.2686767578125\n",
      "Iter 38, E/N = -0.2677001953125\n",
      "Iter 39, E/N = -0.2691650390625\n",
      "Iter 40, E/N = -0.265625\n",
      "Iter 41, E/N = -0.2705078125\n",
      "Iter 42, E/N = -0.2694091796875\n",
      "Iter 43, E/N = -0.27099609375\n",
      "Iter 44, E/N = -0.2733154296875\n",
      "Iter 45, E/N = -0.2725830078125\n",
      "Iter 46, E/N = -0.2684326171875\n",
      "Iter 47, E/N = -0.2698974609375\n",
      "Iter 48, E/N = -0.2769775390625\n",
      "Iter 49, E/N = -0.2705078125\n",
      "Iter 50, E/N = -0.27490234375\n",
      "Iter 51, E/N = -0.2728271484375\n",
      "Iter 52, E/N = -0.2706298828125\n",
      "Iter 53, E/N = -0.27392578125\n",
      "Iter 54, E/N = -0.2674560546875\n",
      "Iter 55, E/N = -0.2783203125\n",
      "Iter 56, E/N = -0.2626953125\n",
      "Iter 57, E/N = -0.2740478515625\n",
      "Iter 58, E/N = -0.2703857421875\n",
      "Iter 59, E/N = -0.2730712890625\n",
      "Iter 60, E/N = -0.2691650390625\n",
      "Iter 61, E/N = -0.27392578125\n",
      "Iter 62, E/N = -0.279296875\n",
      "Iter 63, E/N = -0.266357421875\n",
      "Iter 64, E/N = -0.279296875\n",
      "Iter 65, E/N = -0.269287109375\n",
      "Iter 66, E/N = -0.2706298828125\n",
      "Iter 67, E/N = -0.271484375\n",
      "Iter 68, E/N = -0.2802734375\n",
      "Iter 69, E/N = -0.27197265625\n",
      "Iter 70, E/N = -0.2725830078125\n",
      "Iter 71, E/N = -0.2796630859375\n",
      "Iter 72, E/N = -0.2806396484375\n",
      "Iter 73, E/N = -0.279296875\n",
      "Iter 74, E/N = -0.265625\n",
      "Iter 75, E/N = -0.276123046875\n",
      "Iter 76, E/N = -0.270263671875\n",
      "Iter 77, E/N = -0.2713623046875\n",
      "Iter 78, E/N = -0.271240234375\n",
      "Iter 79, E/N = -0.2728271484375\n",
      "Iter 80, E/N = -0.267578125\n",
      "Iter 81, E/N = -0.2724609375\n",
      "Iter 82, E/N = -0.278564453125\n",
      "Iter 83, E/N = -0.26806640625\n",
      "Iter 84, E/N = -0.27392578125\n",
      "Iter 85, E/N = -0.2786865234375\n",
      "Iter 86, E/N = -0.2689208984375\n",
      "Iter 87, E/N = -0.2757568359375\n",
      "Iter 88, E/N = -0.2841796875\n",
      "Iter 89, E/N = -0.2747802734375\n",
      "Iter 90, E/N = -0.271484375\n",
      "Iter 91, E/N = -0.2706298828125\n",
      "Iter 92, E/N = -0.27685546875\n",
      "Iter 93, E/N = -0.2723388671875\n",
      "Iter 94, E/N = -0.27880859375\n",
      "Iter 95, E/N = -0.276123046875\n",
      "Iter 96, E/N = -0.2740478515625\n",
      "Iter 97, E/N = -0.284912109375\n",
      "Iter 98, E/N = -0.280517578125\n",
      "Iter 99, E/N = -0.27587890625\n",
      "Iter 100, E/N = -0.27783203125\n",
      "Iter 101, E/N = -0.2744140625\n",
      "Iter 102, E/N = -0.2799072265625\n",
      "Iter 103, E/N = -0.269775390625\n",
      "Iter 104, E/N = -0.2818603515625\n",
      "Iter 105, E/N = -0.2740478515625\n",
      "Iter 106, E/N = -0.274658203125\n",
      "Iter 107, E/N = -0.285400390625\n",
      "Iter 108, E/N = -0.2706298828125\n",
      "Iter 109, E/N = -0.279541015625\n",
      "Iter 110, E/N = -0.2762451171875\n",
      "Iter 111, E/N = -0.2806396484375\n",
      "Iter 112, E/N = -0.2791748046875\n",
      "Iter 113, E/N = -0.28076171875\n",
      "Iter 114, E/N = -0.286376953125\n",
      "Iter 115, E/N = -0.27392578125\n",
      "Iter 116, E/N = -0.279052734375\n",
      "Iter 117, E/N = -0.28076171875\n",
      "Iter 118, E/N = -0.281005859375\n",
      "Iter 119, E/N = -0.2806396484375\n",
      "Iter 120, E/N = -0.2808837890625\n",
      "Iter 121, E/N = -0.279052734375\n",
      "Iter 122, E/N = -0.28369140625\n",
      "Iter 123, E/N = -0.2728271484375\n",
      "Iter 124, E/N = -0.274658203125\n",
      "Iter 125, E/N = -0.281982421875\n",
      "Iter 126, E/N = -0.276611328125\n",
      "Iter 127, E/N = -0.274658203125\n",
      "Iter 128, E/N = -0.2803955078125\n",
      "Iter 129, E/N = -0.278076171875\n",
      "Iter 130, E/N = -0.2718505859375\n",
      "Iter 131, E/N = -0.2781982421875\n",
      "Iter 132, E/N = -0.2786865234375\n",
      "Iter 133, E/N = -0.280517578125\n",
      "Iter 134, E/N = -0.2716064453125\n",
      "Iter 135, E/N = -0.27734375\n",
      "Iter 136, E/N = -0.279296875\n",
      "Iter 137, E/N = -0.27734375\n",
      "Iter 138, E/N = -0.274658203125\n",
      "Iter 139, E/N = -0.2689208984375\n",
      "Iter 140, E/N = -0.27294921875\n",
      "Iter 141, E/N = -0.27392578125\n",
      "Iter 142, E/N = -0.2806396484375\n",
      "Iter 143, E/N = -0.2799072265625\n",
      "Iter 144, E/N = -0.286865234375\n",
      "Iter 145, E/N = -0.2763671875\n",
      "Iter 146, E/N = -0.2763671875\n",
      "Iter 147, E/N = -0.2777099609375\n",
      "Iter 148, E/N = -0.274169921875\n",
      "Iter 149, E/N = -0.2801513671875\n",
      "Iter 150, E/N = -0.2733154296875\n",
      "Iter 151, E/N = -0.27490234375\n",
      "Iter 152, E/N = -0.2799072265625\n",
      "Iter 153, E/N = -0.2822265625\n",
      "Iter 154, E/N = -0.280517578125\n",
      "Iter 155, E/N = -0.276123046875\n",
      "Iter 156, E/N = -0.2783203125\n",
      "Iter 157, E/N = -0.2701416015625\n",
      "Iter 158, E/N = -0.2825927734375\n",
      "Iter 159, E/N = -0.2789306640625\n",
      "Iter 160, E/N = -0.2781982421875\n",
      "Iter 161, E/N = -0.2833251953125\n",
      "Iter 162, E/N = -0.2838134765625\n",
      "Iter 163, E/N = -0.2762451171875\n",
      "Iter 164, E/N = -0.2735595703125\n",
      "Iter 165, E/N = -0.27880859375\n",
      "Iter 166, E/N = -0.2740478515625\n",
      "Iter 167, E/N = -0.2799072265625\n",
      "Iter 168, E/N = -0.27978515625\n",
      "Iter 169, E/N = -0.282958984375\n",
      "Iter 170, E/N = -0.2830810546875\n",
      "Iter 171, E/N = -0.272216796875\n",
      "Iter 172, E/N = -0.273681640625\n",
      "Iter 173, E/N = -0.2716064453125\n",
      "Iter 174, E/N = -0.274658203125\n",
      "Iter 175, E/N = -0.282470703125\n",
      "Iter 176, E/N = -0.2857666015625\n",
      "Iter 177, E/N = -0.282470703125\n",
      "Iter 178, E/N = -0.276123046875\n",
      "Iter 179, E/N = -0.2783203125\n",
      "Iter 180, E/N = -0.27392578125\n",
      "Iter 181, E/N = -0.280029296875\n",
      "Iter 182, E/N = -0.2860107421875\n",
      "Iter 183, E/N = -0.27587890625\n",
      "Iter 184, E/N = -0.28369140625\n",
      "Iter 185, E/N = -0.276123046875\n",
      "Iter 186, E/N = -0.2769775390625\n",
      "Iter 187, E/N = -0.282958984375\n",
      "Iter 188, E/N = -0.2763671875\n",
      "Iter 189, E/N = -0.278564453125\n",
      "Iter 190, E/N = -0.2742919921875\n",
      "Iter 191, E/N = -0.2763671875\n",
      "Iter 192, E/N = -0.271240234375\n",
      "Iter 193, E/N = -0.273681640625\n",
      "Iter 194, E/N = -0.2789306640625\n",
      "Iter 195, E/N = -0.27734375\n",
      "Iter 196, E/N = -0.27294921875\n",
      "Iter 197, E/N = -0.280517578125\n",
      "Iter 198, E/N = -0.278564453125\n",
      "Iter 199, E/N = -0.2734375\n",
      "Iter 200, E/N = -0.27978515625\n"
     ]
    },
    {
     "data": {
      "text/plain": [
       "\u001b[36mnqubits: 2, datatype: Complex{Float64}\u001b[39m\n",
       "\u001b[34m\u001b[1mchain\u001b[22m\u001b[39m\n",
       "├─ \u001b[34m\u001b[1mchain\u001b[22m\u001b[39m\n",
       "│  ├─ \u001b[36m\u001b[1mput on (\u001b[22m\u001b[39m\u001b[36m\u001b[1m1\u001b[22m\u001b[39m\u001b[36m\u001b[1m)\u001b[22m\u001b[39m\n",
       "│  │  └─ \u001b[34m\u001b[1mchain\u001b[22m\u001b[39m\n",
       "│  │     ├─ rot(X gate, 1.6215589479174288)\n",
       "│  │     └─ rot(Z gate, 1.5887072912342408)\n",
       "│  ├─ \u001b[31m\u001b[1mcontrol(\u001b[22m\u001b[39m\u001b[31m\u001b[1m1\u001b[22m\u001b[39m\u001b[31m\u001b[1m)\u001b[22m\u001b[39m\n",
       "│  │  └─ \u001b[37m\u001b[1m(2,)\u001b[22m\u001b[39mX gate\n",
       "│  ├─ \u001b[36m\u001b[1mput on (\u001b[22m\u001b[39m\u001b[36m\u001b[1m1\u001b[22m\u001b[39m\u001b[36m\u001b[1m)\u001b[22m\u001b[39m\n",
       "│  │  └─ \u001b[34m\u001b[1mchain\u001b[22m\u001b[39m\n",
       "│  │     ├─ rot(X gate, 1.5326525740388321)\n",
       "│  │     └─ rot(Z gate, -0.7233968230557567)\n",
       "│  ├─ \u001b[31m\u001b[1mcontrol(\u001b[22m\u001b[39m\u001b[31m\u001b[1m1\u001b[22m\u001b[39m\u001b[31m\u001b[1m)\u001b[22m\u001b[39m\n",
       "│  │  └─ \u001b[37m\u001b[1m(2,)\u001b[22m\u001b[39mZ gate\n",
       "│  ├─ \u001b[36m\u001b[1mput on (\u001b[22m\u001b[39m\u001b[36m\u001b[1m1\u001b[22m\u001b[39m\u001b[36m\u001b[1m)\u001b[22m\u001b[39m\n",
       "│  │  └─ \u001b[34m\u001b[1mchain\u001b[22m\u001b[39m\n",
       "│  │     ├─ rot(Z gate, -0.5611127839119343)\n",
       "│  │     └─ rot(X gate, 1.5552827246394112)\n",
       "│  └─ Measure{2,1,AbstractBlock}\n",
       "├─ \u001b[34m\u001b[1mchain\u001b[22m\u001b[39m\n",
       "│  ├─ \u001b[36m\u001b[1mput on (\u001b[22m\u001b[39m\u001b[36m\u001b[1m1\u001b[22m\u001b[39m\u001b[36m\u001b[1m)\u001b[22m\u001b[39m\n",
       "│  │  └─ \u001b[34m\u001b[1mchain\u001b[22m\u001b[39m\n",
       "│  │     ├─ rot(X gate, 1.26499274878908)\n",
       "│  │     └─ rot(Z gate, -1.2865796118455897)\n",
       "│  ├─ \u001b[31m\u001b[1mcontrol(\u001b[22m\u001b[39m\u001b[31m\u001b[1m1\u001b[22m\u001b[39m\u001b[31m\u001b[1m)\u001b[22m\u001b[39m\n",
       "│  │  └─ \u001b[37m\u001b[1m(2,)\u001b[22m\u001b[39mX gate\n",
       "│  ├─ \u001b[36m\u001b[1mput on (\u001b[22m\u001b[39m\u001b[36m\u001b[1m1\u001b[22m\u001b[39m\u001b[36m\u001b[1m)\u001b[22m\u001b[39m\n",
       "│  │  └─ \u001b[34m\u001b[1mchain\u001b[22m\u001b[39m\n",
       "│  │     ├─ rot(X gate, 0.5024547738516401)\n",
       "│  │     └─ rot(Z gate, 0.711152223818645)\n",
       "│  ├─ \u001b[31m\u001b[1mcontrol(\u001b[22m\u001b[39m\u001b[31m\u001b[1m1\u001b[22m\u001b[39m\u001b[31m\u001b[1m)\u001b[22m\u001b[39m\n",
       "│  │  └─ \u001b[37m\u001b[1m(2,)\u001b[22m\u001b[39mZ gate\n",
       "│  ├─ \u001b[36m\u001b[1mput on (\u001b[22m\u001b[39m\u001b[36m\u001b[1m1\u001b[22m\u001b[39m\u001b[36m\u001b[1m)\u001b[22m\u001b[39m\n",
       "│  │  └─ \u001b[34m\u001b[1mchain\u001b[22m\u001b[39m\n",
       "│  │     ├─ rot(Z gate, 0.6918468399764044)\n",
       "│  │     └─ rot(X gate, -0.44821217530397484)\n",
       "│  └─ Measure{2,1,AbstractBlock}\n",
       "└─ \u001b[34m\u001b[1mchain\u001b[22m\u001b[39m\n",
       "   ├─ \u001b[36m\u001b[1mput on (\u001b[22m\u001b[39m\u001b[36m\u001b[1m1\u001b[22m\u001b[39m\u001b[36m\u001b[1m)\u001b[22m\u001b[39m\n",
       "   │  └─ \u001b[34m\u001b[1mchain\u001b[22m\u001b[39m\n",
       "   │     ├─ rot(X gate, 1.1541265618809657)\n",
       "   │     └─ rot(Z gate, -0.16227624836383175)\n",
       "   ├─ \u001b[31m\u001b[1mcontrol(\u001b[22m\u001b[39m\u001b[31m\u001b[1m1\u001b[22m\u001b[39m\u001b[31m\u001b[1m)\u001b[22m\u001b[39m\n",
       "   │  └─ \u001b[37m\u001b[1m(2,)\u001b[22m\u001b[39mX gate\n",
       "   ├─ \u001b[36m\u001b[1mput on (\u001b[22m\u001b[39m\u001b[36m\u001b[1m1\u001b[22m\u001b[39m\u001b[36m\u001b[1m)\u001b[22m\u001b[39m\n",
       "   │  └─ \u001b[34m\u001b[1mchain\u001b[22m\u001b[39m\n",
       "   │     ├─ rot(X gate, 1.5792164173095533)\n",
       "   │     └─ rot(Z gate, -0.03360400584164003)\n",
       "   ├─ \u001b[31m\u001b[1mcontrol(\u001b[22m\u001b[39m\u001b[31m\u001b[1m1\u001b[22m\u001b[39m\u001b[31m\u001b[1m)\u001b[22m\u001b[39m\n",
       "   │  └─ \u001b[37m\u001b[1m(2,)\u001b[22m\u001b[39mZ gate\n",
       "   ├─ \u001b[36m\u001b[1mput on (\u001b[22m\u001b[39m\u001b[36m\u001b[1m1\u001b[22m\u001b[39m\u001b[36m\u001b[1m)\u001b[22m\u001b[39m\n",
       "   │  └─ \u001b[34m\u001b[1mchain\u001b[22m\u001b[39m\n",
       "   │     ├─ rot(Z gate, 0.19831800017412932)\n",
       "   │     └─ rot(X gate, 1.9644597553354652)\n",
       "   ├─ Measure{2,1,AbstractBlock}\n",
       "   └─ Measure{2,1,AbstractBlock}\n"
      ]
     },
     "execution_count": 19,
     "metadata": {},
     "output_type": "execute_result"
    }
   ],
   "source": [
    "train(circuit, model)"
   ]
  },
  {
   "cell_type": "code",
   "execution_count": 21,
   "metadata": {},
   "outputs": [
    {
     "name": "stdout",
     "output_type": "stream",
     "text": [
      "EG / nspin = -0.29742315519647605\n"
     ]
    },
    {
     "data": {
      "text/plain": [
       "-0.29742315519647605"
      ]
     },
     "execution_count": 21,
     "metadata": {},
     "output_type": "execute_result"
    }
   ],
   "source": [
    "EG = eigen(mat(h) |> Matrix).values[1]\n",
    "@show EG/nspin"
   ]
  },
  {
   "cell_type": "code",
   "execution_count": 23,
   "metadata": {},
   "outputs": [
    {
     "data": {
      "text/plain": [
       "16-element Array{Complex{Float64},1}:\n",
       "  0.10878394077769024 + 0.0im\n",
       "  -0.1666666666666665 + 0.0im\n",
       " -0.25534814770632663 + 0.0im\n",
       "  0.14656420692863603 + 0.0im\n",
       "  -0.2553481477063265 + 0.0im\n",
       "   0.4798975402619696 + 0.0im\n",
       "  0.22454939255564377 + 0.0im\n",
       "  -0.1666666666666668 + 0.0im\n",
       " -0.16666666666666657 + 0.0im\n",
       "  0.22454939255564235 + 0.0im\n",
       "  0.47989754026197007 + 0.0im\n",
       "  -0.2553481477063253 + 0.0im\n",
       "    0.146564206928636 + 0.0im\n",
       "  -0.2553481477063251 + 0.0im\n",
       "  -0.1666666666666669 + 0.0im\n",
       "  0.10878394077768962 - 0.0im"
      ]
     },
     "execution_count": 23,
     "metadata": {},
     "output_type": "execute_result"
    }
   ],
   "source": [
    "EV = eigen(mat(h) |> Matrix).vectors[:,1]"
   ]
  },
  {
   "cell_type": "code",
   "execution_count": 32,
   "metadata": {},
   "outputs": [
    {
     "data": {
      "text/plain": [
       "ArrayReg{1, Complex{Float64}, Array...}\n",
       "    active qubits: 4/4"
      ]
     },
     "execution_count": 32,
     "metadata": {},
     "output_type": "execute_result"
    }
   ],
   "source": [
    "reg = ArrayReg(EV)"
   ]
  },
  {
   "cell_type": "code",
   "execution_count": 33,
   "metadata": {},
   "outputs": [
    {
     "data": {
      "text/plain": [
       "DensityMatrix{1,Complex{Float64},Array{Complex{Float64},3}}\n",
       "    active qubits: 2/2"
      ]
     },
     "execution_count": 33,
     "metadata": {},
     "output_type": "execute_result"
    }
   ],
   "source": [
    "r = reg |> focus!(1, 2) |> ρ"
   ]
  },
  {
   "cell_type": "code",
   "execution_count": 39,
   "metadata": {
    "scrolled": true
   },
   "outputs": [
    {
     "data": {
      "text/plain": [
       "entropy (generic function with 1 method)"
      ]
     },
     "execution_count": 39,
     "metadata": {},
     "output_type": "execute_result"
    }
   ],
   "source": [
    "entropy(spectrum) = -sum(spectrum .* log.(spectrum))/log(2)"
   ]
  },
  {
   "cell_type": "code",
   "execution_count": 40,
   "metadata": {},
   "outputs": [
    {
     "data": {
      "text/plain": [
       "0.41098665651454297"
      ]
     },
     "execution_count": 40,
     "metadata": {},
     "output_type": "execute_result"
    }
   ],
   "source": [
    "entropy(eigen(r.state[:,:,1]).values)"
   ]
  },
  {
   "cell_type": "code",
   "execution_count": null,
   "metadata": {},
   "outputs": [],
   "source": []
  }
 ],
 "metadata": {
  "@webio": {
   "lastCommId": null,
   "lastKernelId": null
  },
  "kernelspec": {
   "display_name": "Julia 1.1.0",
   "language": "julia",
   "name": "julia-1.1"
  },
  "language_info": {
   "file_extension": ".jl",
   "mimetype": "application/julia",
   "name": "julia",
   "version": "1.1.0"
  }
 },
 "nbformat": 4,
 "nbformat_minor": 2
}
