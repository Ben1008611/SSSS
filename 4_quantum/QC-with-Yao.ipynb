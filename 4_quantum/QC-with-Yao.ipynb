{
 "cells": [
  {
   "cell_type": "code",
   "execution_count": 1,
   "metadata": {
    "slideshow": {
     "slide_type": "skip"
    }
   },
   "outputs": [
    {
     "data": {
      "text/html": [
       "<style>\n",
       ".rendered_html table, .rendered_html th, .rendered_html tr, .rendered_html td {\n",
       "     font-size: 100%;\n",
       "}\n",
       "</style>\n"
      ],
      "text/plain": [
       "HTML{String}(\"<style>\\n.rendered_html table, .rendered_html th, .rendered_html tr, .rendered_html td {\\n     font-size: 100%;\\n}\\n</style>\\n\")"
      ]
     },
     "execution_count": 1,
     "metadata": {},
     "output_type": "execute_result"
    }
   ],
   "source": [
    "HTML(\"\"\"\n",
    "<style>\n",
    ".rendered_html table, .rendered_html th, .rendered_html tr, .rendered_html td {\n",
    "     font-size: 100%;\n",
    "}\n",
    "</style>\n",
    "\"\"\")"
   ]
  },
  {
   "cell_type": "markdown",
   "metadata": {
    "slideshow": {
     "slide_type": "slide"
    }
   },
   "source": [
    "## 1.1 为什么需要量子计算"
   ]
  },
  {
   "cell_type": "markdown",
   "metadata": {
    "slideshow": {
     "slide_type": "slide"
    }
   },
   "source": [
    "### 后摩尔时代\n",
    "\n",
    "我们对算力的需求在不断增长，但是摩尔定律却不再有效了。"
   ]
  },
  {
   "cell_type": "markdown",
   "metadata": {
    "slideshow": {
     "slide_type": "subslide"
    }
   },
   "source": [
    "#### 摩尔定律\n",
    "\n",
    "<div>\n",
    "<img src=\"https://plot.ly/~rjprzy/4.png\" alt=\"Moore&#39;s Law Makes Computing Better Every 2 Years Since 1947\" style=\"max-width: 100%; height: 600px; width: 1000px;\"  height=\"600\" width=\"1000\" onerror=\"this.onerror=null;this.src='https://plot.ly/404.png';\" />\n",
    "</div>"
   ]
  },
  {
   "cell_type": "markdown",
   "metadata": {
    "slideshow": {
     "slide_type": "subslide"
    }
   },
   "source": [
    "- 新的思路（三维堆叠，etc）\n",
    "- 定制芯片（GPU，TPU，FPGA，etc）\n",
    "- 更换计算模型（量子计算，etc）"
   ]
  },
  {
   "cell_type": "markdown",
   "metadata": {
    "slideshow": {
     "slide_type": "slide"
    }
   },
   "source": [
    "### 量子多体物理的维度诅咒"
   ]
  },
  {
   "cell_type": "markdown",
   "metadata": {
    "slideshow": {
     "slide_type": "subslide"
    }
   },
   "source": [
    "**量子多体物理**是指多个具有量子效应的物理对象所构成的系统。这种系统所构成的状态空间往往随着它的粒子数目的增长而指数增长。而量子多体物理的理论研究，将直接对新型材料，新型药物的研究造成影响。\n",
    "\n",
    "<div>\n",
    "<img src=\"https://upload.wikimedia.org/wikipedia/commons/thumb/1/1a/Kagome-lattice-bw.svg/1298px-Kagome-lattice-bw.svg.png\" alt=\"kagome\"  width=\"300\"/>\n",
    "</div>"
   ]
  },
  {
   "cell_type": "markdown",
   "metadata": {
    "slideshow": {
     "slide_type": "subslide"
    }
   },
   "source": [
    "而由于指数增长的空间大小，经典计算机难以精确模拟复杂的多体系统，而需要进行一些假设，简化等，常见的方法包括但不限于：\n",
    "\n",
    "- DFT，密度泛函"
   ]
  },
  {
   "cell_type": "markdown",
   "metadata": {
    "slideshow": {
     "slide_type": "fragment"
    }
   },
   "source": [
    "- DMRG，密度矩阵重整化，张量网络"
   ]
  },
  {
   "cell_type": "markdown",
   "metadata": {
    "slideshow": {
     "slide_type": "fragment"
    }
   },
   "source": [
    "- QMC，量子蒙特卡洛，变分量子蒙特卡洛"
   ]
  },
  {
   "cell_type": "markdown",
   "metadata": {
    "slideshow": {
     "slide_type": "fragment"
    }
   },
   "source": [
    "其中的很多方法对于计算资源的消耗是巨大的。例如[PEPS++](https://arxiv.org/abs/1806.03761)这个工作甚至用上了中国最强的超级计算机神威太湖之光整机。"
   ]
  },
  {
   "cell_type": "markdown",
   "metadata": {
    "slideshow": {
     "slide_type": "subslide"
    }
   },
   "source": [
    "所以有人就想：**能不能用量子系统模拟量子系统呢？**"
   ]
  },
  {
   "cell_type": "markdown",
   "metadata": {
    "slideshow": {
     "slide_type": "fragment"
    }
   },
   "source": [
    "这个人就是：费恩曼（Feynman）[Simulating Physics with Computers](https://people.eecs.berkeley.edu/~christos/classics/Feynman.pdf)\n",
    "\n",
    "![](https://upload.wikimedia.org/wikipedia/en/4/42/Richard_Feynman_Nobel.jpg)"
   ]
  },
  {
   "cell_type": "markdown",
   "metadata": {
    "slideshow": {
     "slide_type": "subslide"
    }
   },
   "source": [
    "当然后来在这个想法上有很多工作，用一个可以精确操纵的量子系统模拟另外一个量子系统也称为量子模拟（Quantum Simulation）。这也是被认为一个在近期最有可能成为量子计算机的杀手级应用的方向。"
   ]
  },
  {
   "cell_type": "markdown",
   "metadata": {
    "slideshow": {
     "slide_type": "slide"
    }
   },
   "source": [
    "### 作为基础学科的启发性研究"
   ]
  },
  {
   "cell_type": "markdown",
   "metadata": {
    "slideshow": {
     "slide_type": "subslide"
    }
   },
   "source": [
    "#### 启发经典算法设计\n",
    "\n",
    "- [Quantum Inspired Recommendation System](https://arxiv.org/abs/1807.04271)\n",
    "- [Quantum Inspired PCA](https://arxiv.org/abs/1811.00414)\n",
    "- [Simulated Quantum Annealing Can Be Exponentially Faster than Classical Simulated Annealing](https://arxiv.org/abs/1601.03030)"
   ]
  },
  {
   "cell_type": "markdown",
   "metadata": {
    "slideshow": {
     "slide_type": "subslide"
    }
   },
   "source": [
    "#### 帮助我们获得精确控制量子系统的能力\n",
    "\n",
    "- 控制单量子比特系统\n",
    "- 控制多量子比特系统\n",
    "- etc..."
   ]
  },
  {
   "cell_type": "markdown",
   "metadata": {
    "slideshow": {
     "slide_type": "subslide"
    }
   },
   "source": [
    "#### 帮助我们理解这个世界\n",
    "\n",
    "- 量子机器学习\n",
    "- 宇宙学：[Quantum Circuit Cosmology: The Expansion of the Universe Since the First Qubit](https://arxiv.org/abs/1702.06959)\n",
    "- 黑洞：[Quantum Circuit Model of Black Hole Evaporation](https://arxiv.org/abs/1807.07672)\n",
    "- etc."
   ]
  },
  {
   "cell_type": "markdown",
   "metadata": {
    "slideshow": {
     "slide_type": "slide"
    }
   },
   "source": [
    "### 阅读材料（可能需要VPN）\n",
    "\n",
    "- [Why we need quantum computing](https://www.research.ibm.com/ibm-q/learn/what-is-quantum-computing/#)\n",
    "- [Julia语言入门](https://www.bilibili.com/video/av28178443/)\n"
   ]
  },
  {
   "cell_type": "markdown",
   "metadata": {
    "slideshow": {
     "slide_type": "slide"
    }
   },
   "source": [
    "### 课程将用到的材料\n",
    "\n",
    "- Michael A. Nielsen & Isaac L. Chuang, Quantum Computation & Quantum Information\n",
    "- Yao.jl - Extensible Efficient Quantum Algorithm Design for Humans"
   ]
  },
  {
   "cell_type": "markdown",
   "metadata": {
    "slideshow": {
     "slide_type": "slide"
    }
   },
   "source": [
    "## 1.2 经典的逻辑电路"
   ]
  },
  {
   "cell_type": "markdown",
   "metadata": {
    "slideshow": {
     "slide_type": "subslide"
    }
   },
   "source": [
    "经典的逻辑电路构成了我们现代计算机的基础，本章我们将着重学习一些经典逻辑电路的基础知识，然后之后我将介绍如何从经典的逻辑电路过度到量子线路。"
   ]
  },
  {
   "cell_type": "markdown",
   "metadata": {
    "slideshow": {
     "slide_type": "slide"
    }
   },
   "source": [
    "### 逻辑比特"
   ]
  },
  {
   "cell_type": "markdown",
   "metadata": {
    "slideshow": {
     "slide_type": "subslide"
    }
   },
   "source": [
    "一般情况下我们往往使用比特，也就是两种不同的物理状态来进行计算，我们将其称为**比特**。而理论上，我们将这两种状态抽象出来，用数学符号表示之，从而简化问题。我们将这样的抽象称为**逻辑比特**，一个理论的逻辑比特，在实际的物理实现上有可能对应多个**物理比特**。"
   ]
  },
  {
   "cell_type": "markdown",
   "metadata": {
    "slideshow": {
     "slide_type": "subslide"
    }
   },
   "source": [
    "我们可以使用我们的**Yao**来定义一组逻辑比特"
   ]
  },
  {
   "cell_type": "code",
   "execution_count": 2,
   "metadata": {},
   "outputs": [
    {
     "data": {
      "text/plain": [
       "ArrayReg{1, Complex{Float64}, Array...}\n",
       "    active qubits: 3/3"
      ]
     },
     "execution_count": 2,
     "metadata": {},
     "output_type": "execute_result"
    }
   ],
   "source": [
    "using Yao\n",
    "\n",
    "ArrayReg(bit\"000\")"
   ]
  },
  {
   "cell_type": "markdown",
   "metadata": {
    "slideshow": {
     "slide_type": "subslide"
    }
   },
   "source": [
    "逻辑比特的向量表示，实际上我们也可以用一个one hot向量表示逻辑比特，例如逻辑比特01，可以表示为\n",
    "\n",
    "\n",
    "| 向量的元素值 | 对应的逻辑比特 |\n",
    "| ---------- | ------------ |\n",
    "|     0      |     00       |\n",
    "|     1      |     01       |\n",
    "|     0      |     10       |\n",
    "|     0      |     11       |"
   ]
  },
  {
   "cell_type": "markdown",
   "metadata": {
    "slideshow": {
     "slide_type": "slide"
    }
   },
   "source": [
    "### 逻辑门"
   ]
  },
  {
   "cell_type": "markdown",
   "metadata": {
    "slideshow": {
     "slide_type": "subslide"
    }
   },
   "source": [
    "逻辑门是操作逻辑比特的一种特殊函数，它的输入是二进制的比特，输出是另外一组二进制的比特。我们常见的操作有逻辑：与，或，非\n",
    "\n",
    "与：\n",
    "\n",
    "- 如果两个输入的比特都为0，那么输出0\n",
    "- 如果两个输入的比特都为1，那么输出1\n",
    "- 如果两个输入的比特不同，那么也输出0"
   ]
  },
  {
   "cell_type": "markdown",
   "metadata": {
    "slideshow": {
     "slide_type": "subslide"
    }
   },
   "source": [
    "### 布尔代数和真值表"
   ]
  },
  {
   "cell_type": "markdown",
   "metadata": {
    "slideshow": {
     "slide_type": "subslide"
    }
   },
   "source": [
    "用文字描述上面的操作非常麻烦，数学上我们有布尔代数和真值表来描述逻辑电路。例如非门：\n",
    "\n",
    "非：\n",
    "\n",
    "- 如果输入的比特为 0，那么输出1\n",
    "- 如果输入的比特为 1，那么输出0\n",
    "\n",
    "真值表\n",
    "\n",
    "| $A$ | $\\neg A$ |\n",
    "|-----|----------|\n",
    "|  0  |    1     |\n",
    "|  1  |    0     |"
   ]
  },
  {
   "cell_type": "markdown",
   "metadata": {
    "slideshow": {
     "slide_type": "subslide"
    }
   },
   "source": [
    "如果我们用一个独热编码（onehot）的向量来表示一个逻辑比特，那么我们可以用线性代数来表示逻辑门的运算，例如我们用如下的方式表示单个比特\n",
    "\n",
    "$$\n",
    "0 = \\begin{pmatrix} 1\\\\ 0 \\end{pmatrix}, \\quad 1 = \\begin{pmatrix} 0 \\\\ 1 \\end{pmatrix}\n",
    "$$\n",
    "\n",
    "我们有\n",
    "\n",
    "$$\n",
    "\\neg 0 = \\begin{pmatrix} 0 & 1\\\\1 & 0 \\end{pmatrix} \\begin{pmatrix} 1\\\\ 0 \\end{pmatrix} = \\begin{pmatrix} 0\\\\ 1\\end{pmatrix} = 1\n",
    "$$"
   ]
  },
  {
   "cell_type": "markdown",
   "metadata": {
    "slideshow": {
     "slide_type": "subslide"
    }
   },
   "source": [
    "同理有\n",
    "\n",
    "$$\n",
    "\\neg 1 = \\begin{pmatrix} 0 & 1\\\\1 & 0 \\end{pmatrix} \\begin{pmatrix} 0\\\\ 1 \\end{pmatrix} = \\begin{pmatrix} 1\\\\ 0\\end{pmatrix}\n",
    "$$\n",
    "\n",
    "我们以后为了简便，将这个矩阵记为 **X**"
   ]
  },
  {
   "cell_type": "markdown",
   "metadata": {
    "slideshow": {
     "slide_type": "subslide"
    }
   },
   "source": [
    "你可以用Yao来验证上述结论，其中 **X** 即为我们所说的非门"
   ]
  },
  {
   "cell_type": "code",
   "execution_count": 4,
   "metadata": {
    "slideshow": {
     "slide_type": "-"
    }
   },
   "outputs": [
    {
     "data": {
      "text/plain": [
       "true"
      ]
     },
     "execution_count": 4,
     "metadata": {},
     "output_type": "execute_result"
    }
   ],
   "source": [
    "apply!(ArrayReg(bit\"0\"), X) == ArrayReg(bit\"1\")"
   ]
  },
  {
   "cell_type": "markdown",
   "metadata": {
    "slideshow": {
     "slide_type": "subslide"
    }
   },
   "source": [
    "#### 练习\n",
    "\n",
    "1. 或门（**OR**）是一个两比特门，它的定义是只要两个比特中有一个比特是 1 那么就输出 1，写出它的真值表和矩阵形式\n",
    "2. Toffli门是一个三比特门，它的输入是 **A,B,C**，定义为 **A, B** 为控制比特，当**A，B** 都为1时，翻转 **C**"
   ]
  },
  {
   "cell_type": "markdown",
   "metadata": {
    "slideshow": {
     "slide_type": "subslide"
    }
   },
   "source": [
    "#### 答案"
   ]
  },
  {
   "cell_type": "markdown",
   "metadata": {
    "slideshow": {
     "slide_type": "subslide"
    }
   },
   "source": [
    "#### 1. 或门（**OR**）\n",
    "\n",
    "真值表\n",
    "\n",
    "| AB | **OR**(A, B) |\n",
    "| -- | ------------ |\n",
    "| 00 | 0            |\n",
    "| 01 | 1            |\n",
    "| 10 | 1            |\n",
    "| 11 | 1            |"
   ]
  },
  {
   "cell_type": "markdown",
   "metadata": {
    "slideshow": {
     "slide_type": "subslide"
    }
   },
   "source": [
    "矩阵形式\n",
    "\n",
    "$$\n",
    "OR = \\begin{pmatrix}\n",
    "1 & 0 & 0 & 0\\\\\n",
    "0 & 1 & 1 & 1\n",
    "\\end{pmatrix}\n",
    "$$\n",
    "\n",
    "我们有\n",
    "\n",
    "$$\n",
    "\\begin{pmatrix}1\\\\0\\\\0\\\\0 \\end{pmatrix} \\cdot OR = \\begin{pmatrix}1\\\\0\\end{pmatrix}\\quad\n",
    "\\begin{pmatrix}0\\\\1\\\\0\\\\0 \\end{pmatrix} \\cdot OR = \\begin{pmatrix}0\\\\1\\end{pmatrix}\\quad\n",
    "\\begin{pmatrix}0\\\\0\\\\1\\\\0 \\end{pmatrix} \\cdot OR = \\begin{pmatrix}0\\\\1\\end{pmatrix}\\quad\n",
    "\\begin{pmatrix}0\\\\0\\\\0\\\\1 \\end{pmatrix} \\cdot OR = \\begin{pmatrix}0\\\\1\\end{pmatrix}\n",
    "$$"
   ]
  },
  {
   "cell_type": "markdown",
   "metadata": {
    "slideshow": {
     "slide_type": "subslide"
    }
   },
   "source": [
    "#### 2. Toffli门\n",
    "\n",
    "真值表\n",
    "\n",
    "|     ABC     | 000 | 001 | 010 | 011 | 100 | 101 | 110 | 111 |\n",
    "|:-----------:|:---:|:---:|:---:|:---:|:---:|:---:|:---:|:---:|\n",
    "| Toffli(ABC) | 000 | 001 | 010 | 011 | 100 | 101 | 111 | 110 |"
   ]
  },
  {
   "cell_type": "markdown",
   "metadata": {
    "slideshow": {
     "slide_type": "subslide"
    }
   },
   "source": [
    "矩阵"
   ]
  },
  {
   "cell_type": "code",
   "execution_count": 7,
   "metadata": {
    "slideshow": {
     "slide_type": "subslide"
    }
   },
   "outputs": [
    {
     "data": {
      "text/latex": [
       "\\begin{equation}\n",
       "\\left[\n",
       "\\begin{array}{cccccccc}\n",
       "1 & 0 & 0 & 0 & 0 & 0 & 0 & 0 \\\\\n",
       "0 & 1 & 0 & 0 & 0 & 0 & 0 & 0 \\\\\n",
       "0 & 0 & 1 & 0 & 0 & 0 & 0 & 0 \\\\\n",
       "0 & 0 & 0 & 0 & 0 & 0 & 0 & 1 \\\\\n",
       "0 & 0 & 0 & 0 & 1 & 0 & 0 & 0 \\\\\n",
       "0 & 0 & 0 & 0 & 0 & 1 & 0 & 0 \\\\\n",
       "0 & 0 & 0 & 0 & 0 & 0 & 1 & 0 \\\\\n",
       "0 & 0 & 0 & 1 & 0 & 0 & 0 & 0 \\\\\n",
       "\\end{array}\n",
       "\\right]\n",
       "\\end{equation}\n"
      ],
      "text/plain": [
       "L\"\\begin{equation}\n",
       "\\left[\n",
       "\\begin{array}{cccccccc}\n",
       "1 & 0 & 0 & 0 & 0 & 0 & 0 & 0 \\\\\n",
       "0 & 1 & 0 & 0 & 0 & 0 & 0 & 0 \\\\\n",
       "0 & 0 & 1 & 0 & 0 & 0 & 0 & 0 \\\\\n",
       "0 & 0 & 0 & 0 & 0 & 0 & 0 & 1 \\\\\n",
       "0 & 0 & 0 & 0 & 1 & 0 & 0 & 0 \\\\\n",
       "0 & 0 & 0 & 0 & 0 & 1 & 0 & 0 \\\\\n",
       "0 & 0 & 0 & 0 & 0 & 0 & 1 & 0 \\\\\n",
       "0 & 0 & 0 & 1 & 0 & 0 & 0 & 0 \\\\\n",
       "\\end{array}\n",
       "\\right]\n",
       "\\end{equation}\n",
       "\""
      ]
     },
     "execution_count": 7,
     "metadata": {},
     "output_type": "execute_result"
    }
   ],
   "source": [
    "using Latexify\n",
    "\n",
    "latexarray(Int.(mat(ConstGate.Toffoli)))"
   ]
  },
  {
   "cell_type": "markdown",
   "metadata": {
    "slideshow": {
     "slide_type": "slide"
    }
   },
   "source": [
    "### 可逆计算"
   ]
  },
  {
   "cell_type": "markdown",
   "metadata": {
    "slideshow": {
     "slide_type": "fragment"
    }
   },
   "source": [
    "可逆计算，顾名思义是说计算过程中不会丢失信息，可以从结果反推出初始状态的计算过程。"
   ]
  },
  {
   "cell_type": "code",
   "execution_count": 9,
   "metadata": {},
   "outputs": [
    {
     "data": {
      "text/plain": [
       "8×8 Array{Int64,2}:\n",
       " 1  0  0  0  0  0  0  0\n",
       " 0  1  0  0  0  0  0  0\n",
       " 0  0  1  0  0  0  0  0\n",
       " 0  0  0  0  0  0  0  1\n",
       " 0  0  0  0  1  0  0  0\n",
       " 0  0  0  0  0  1  0  0\n",
       " 0  0  0  0  0  0  1  0\n",
       " 0  0  0  1  0  0  0  0"
      ]
     },
     "execution_count": 9,
     "metadata": {},
     "output_type": "execute_result"
    }
   ],
   "source": [
    "Int.(inv(mat(ConstGate.Toffoli)))"
   ]
  },
  {
   "cell_type": "markdown",
   "metadata": {
    "slideshow": {
     "slide_type": "subslide"
    }
   },
   "source": [
    "对一个比特，可逆计算的门有哪些？"
   ]
  },
  {
   "cell_type": "markdown",
   "metadata": {
    "slideshow": {
     "slide_type": "fragment"
    }
   },
   "source": [
    "两个比特呢？"
   ]
  },
  {
   "cell_type": "markdown",
   "metadata": {
    "slideshow": {
     "slide_type": "fragment"
    }
   },
   "source": [
    "CNOT（控制翻转）就是一种，因为连续进行两次翻转就会回到原先的状态"
   ]
  },
  {
   "cell_type": "code",
   "execution_count": 14,
   "metadata": {
    "slideshow": {
     "slide_type": "fragment"
    }
   },
   "outputs": [
    {
     "data": {
      "text/plain": [
       "4×4 Array{Int64,2}:\n",
       " 1  0  0  0\n",
       " 0  1  0  0\n",
       " 0  0  0  1\n",
       " 0  0  1  0"
      ]
     },
     "execution_count": 14,
     "metadata": {},
     "output_type": "execute_result"
    }
   ],
   "source": [
    "CNOT = control(2, 2, 1=>X)\n",
    "Int.(mat(CNOT))"
   ]
  },
  {
   "cell_type": "markdown",
   "metadata": {
    "slideshow": {
     "slide_type": "subslide"
    }
   },
   "source": [
    "三个比特呢？"
   ]
  },
  {
   "cell_type": "markdown",
   "metadata": {
    "slideshow": {
     "slide_type": "fragment"
    }
   },
   "source": [
    "Toffli门就是三个比特的可逆门，试试看用Toffli连续作用两次会发生什么？"
   ]
  },
  {
   "cell_type": "code",
   "execution_count": 16,
   "metadata": {
    "slideshow": {
     "slide_type": "fragment"
    }
   },
   "outputs": [
    {
     "data": {
      "text/plain": [
       "true"
      ]
     },
     "execution_count": 16,
     "metadata": {},
     "output_type": "execute_result"
    }
   ],
   "source": [
    "using Yao\n",
    "\n",
    "r = rand_state(3)\n",
    "r1 = copy(r) |> ConstGate.Toffoli |> ConstGate.Toffoli\n",
    "r1 ≈ r"
   ]
  },
  {
   "cell_type": "markdown",
   "metadata": {
    "slideshow": {
     "slide_type": "subslide"
    }
   },
   "source": [
    "可逆计算要求，存在对应矩阵的逆矩阵，对于一个门的矩阵形式 $A$，存在 $B$ 使得他们的乘积为1\n",
    "\n",
    "$$\n",
    "A B = I, \\quad \\exists B\n",
    "$$"
   ]
  },
  {
   "cell_type": "markdown",
   "metadata": {
    "slideshow": {
     "slide_type": "fragment"
    }
   },
   "source": [
    "### 从经典到量子\n",
    "\n",
    "如果我们不限制这些门矩阵只能是实数0或者1，也不限制状态向量是onehot向量呢？"
   ]
  },
  {
   "cell_type": "markdown",
   "metadata": {
    "slideshow": {
     "slide_type": "slide"
    }
   },
   "source": [
    "## 量子线路模型\n",
    "\n",
    "上一节我们学习了经典线路模型。而量子线路模型可以看作是经典线路模型的推广"
   ]
  },
  {
   "cell_type": "markdown",
   "metadata": {
    "slideshow": {
     "slide_type": "subslide"
    }
   },
   "source": [
    "### 量子态\n",
    "\n",
    "量子线路使用量子态表示当前的计算状态，我们将经典线路中对状态为onehot的要求放松一些：\n",
    "\n",
    "允许**任意复数，模为1的向量作为当前计算的状态表示。**\n",
    "\n",
    "而它的物理意义即为量子力学中的量子态。很自然的，他们可以这样叠加"
   ]
  },
  {
   "cell_type": "code",
   "execution_count": 22,
   "metadata": {
    "slideshow": {
     "slide_type": "subslide"
    }
   },
   "outputs": [
    {
     "data": {
      "text/plain": [
       "ArrayReg{1, Complex{Float64}, Array...}\n",
       "    active qubits: 3/3"
      ]
     },
     "execution_count": 22,
     "metadata": {},
     "output_type": "execute_result"
    }
   ],
   "source": [
    "r = ArrayReg(bit\"010\") + ArrayReg(bit\"110\")"
   ]
  },
  {
   "cell_type": "code",
   "execution_count": 23,
   "metadata": {},
   "outputs": [
    {
     "data": {
      "text/plain": [
       "8×1 Array{Complex{Float64},2}:\n",
       " 0.0 + 0.0im\n",
       " 0.0 + 0.0im\n",
       " 1.0 + 0.0im\n",
       " 0.0 + 0.0im\n",
       " 0.0 + 0.0im\n",
       " 0.0 + 0.0im\n",
       " 1.0 + 0.0im\n",
       " 0.0 + 0.0im"
      ]
     },
     "execution_count": 23,
     "metadata": {},
     "output_type": "execute_result"
    }
   ],
   "source": [
    "state(r)"
   ]
  },
  {
   "cell_type": "markdown",
   "metadata": {
    "slideshow": {
     "slide_type": "subslide"
    }
   },
   "source": [
    "而量子态可以在物理过程上用Unitary矩阵进行演化。\n",
    "\n",
    "所以我们要求量子线路中的门也都是unitary，回想上一节的结论：**量子计算的是一种可逆计算**，每个量子门的逆就是它的共轭转置（adjoint，dagger）"
   ]
  },
  {
   "cell_type": "markdown",
   "metadata": {
    "slideshow": {
     "slide_type": "subslide"
    }
   },
   "source": [
    "恰好，我们上一节介绍的几个可逆的门都是unitary矩阵，例如CNOT和Toffli"
   ]
  },
  {
   "cell_type": "code",
   "execution_count": 17,
   "metadata": {},
   "outputs": [
    {
     "data": {
      "text/plain": [
       "true"
      ]
     },
     "execution_count": 17,
     "metadata": {},
     "output_type": "execute_result"
    }
   ],
   "source": [
    "isunitary(CNOT)"
   ]
  },
  {
   "cell_type": "code",
   "execution_count": 18,
   "metadata": {},
   "outputs": [
    {
     "data": {
      "text/plain": [
       "true"
      ]
     },
     "execution_count": 18,
     "metadata": {},
     "output_type": "execute_result"
    }
   ],
   "source": [
    "isunitary(ConstGate.Toffoli)"
   ]
  },
  {
   "cell_type": "markdown",
   "metadata": {
    "slideshow": {
     "slide_type": "subslide"
    }
   },
   "source": [
    "## Bloch球"
   ]
  },
  {
   "cell_type": "markdown",
   "metadata": {
    "slideshow": {
     "slide_type": "subslide"
    }
   },
   "source": [
    "对于一个量子比特，它的向量表示为\n",
    "\n",
    "$$\n",
    "\\begin{pmatrix}\n",
    "a\\\\\n",
    "b\n",
    "\\end{pmatrix}\n",
    "$$\n",
    "\n",
    "由于我们要求它的模为1，很自然的，由于 $a^2 + b^2 = 1$ 我们有\n",
    "\n",
    "$$\n",
    "a = cos{\\theta} e^{i\\delta}, \\quad b = sin{\\theta} e^{i(\\phi + \\delta)}\n",
    "$$\n",
    "\n",
    "忽略全局global phase （为什么？）就可以得到\n",
    "\n",
    "$$\n",
    "\\Psi = cos{\\theta} |0\\rangle + sin{\\theta} e^{i\\phi} |1\\rangle\n",
    "$$"
   ]
  },
  {
   "cell_type": "markdown",
   "metadata": {},
   "source": [
    "这也就意味着，任何对单比特的操作都可以看成是Bloch球上的旋转。让我们来试几个单比特门\n",
    "\n",
    "(打开[bloch_sphere.jl]())"
   ]
  },
  {
   "cell_type": "code",
   "execution_count": null,
   "metadata": {},
   "outputs": [],
   "source": []
  }
 ],
 "metadata": {
  "celltoolbar": "幻灯片",
  "kernelspec": {
   "display_name": "Julia 1.1.0",
   "language": "julia",
   "name": "julia-1.1"
  },
  "language_info": {
   "file_extension": ".jl",
   "mimetype": "application/julia",
   "name": "julia",
   "version": "1.1.0"
  }
 },
 "nbformat": 4,
 "nbformat_minor": 2
}
