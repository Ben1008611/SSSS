{
 "cells": [
  {
   "cell_type": "markdown",
   "metadata": {
    "slideshow": {
     "slide_type": "slide"
    }
   },
   "source": [
    "# Solving A transverse field Ising model"
   ]
  },
  {
   "cell_type": "code",
   "execution_count": 1,
   "metadata": {},
   "outputs": [],
   "source": [
    "using Yao\n",
    "using Statistics: mean\n",
    "using LinearAlgebra\n",
    "using Plots"
   ]
  },
  {
   "cell_type": "markdown",
   "metadata": {
    "slideshow": {
     "slide_type": "slide"
    }
   },
   "source": [
    "## Model Hamiltonians"
   ]
  },
  {
   "cell_type": "markdown",
   "metadata": {},
   "source": [
    "### Transverse field Ising Model\n",
    "\n",
    "$H = \\sum\\limits_{i=1}^{N-1} s_i^z s^z_{i+1} + h\\sum\\limits^{N}_{i=1} s_i^x$\n",
    "\n",
    "where $s^\\alpha = \\frac 1 2 \\sigma^\\alpha$ is the spin operator."
   ]
  },
  {
   "cell_type": "code",
   "execution_count": 38,
   "metadata": {
    "slideshow": {
     "slide_type": "slide"
    }
   },
   "outputs": [
    {
     "data": {
      "text/plain": [
       "nspin (generic function with 1 method)"
      ]
     },
     "execution_count": 38,
     "metadata": {},
     "output_type": "execute_result"
    }
   ],
   "source": [
    "\"\"\"\n",
    "for simplicity, we require an AbstractModel contains `size` and `periodic` members.\n",
    "\"\"\"\n",
    "abstract type AbstractModel{D} end\n",
    "\n",
    "nspin(model::AbstractModel) = prod(model.size)"
   ]
  },
  {
   "cell_type": "code",
   "execution_count": 39,
   "metadata": {
    "slideshow": {
     "slide_type": "slide"
    }
   },
   "outputs": [
    {
     "data": {
      "text/plain": [
       "TFI"
      ]
     },
     "execution_count": 39,
     "metadata": {},
     "output_type": "execute_result"
    }
   ],
   "source": [
    "\"\"\"\n",
    "transverse field ising model, `h` is the strength of transverse field.\n",
    "\"\"\"\n",
    "struct TFI{D} <:AbstractModel{1}\n",
    "    size::NTuple{D, Int}\n",
    "    h::Float64\n",
    "    periodic::Bool\n",
    "    TFI(size::Int...; h::Real, periodic::Bool) = new{length(size)}(size, Float64(h), periodic)\n",
    "end"
   ]
  },
  {
   "cell_type": "code",
   "execution_count": 40,
   "metadata": {
    "slideshow": {
     "slide_type": "slide"
    }
   },
   "outputs": [
    {
     "data": {
      "text/plain": [
       "get_bonds"
      ]
     },
     "execution_count": 40,
     "metadata": {},
     "output_type": "execute_result"
    }
   ],
   "source": [
    "\"\"\"\n",
    "get the bonds of a chain model.\n",
    "\"\"\"\n",
    "function get_bonds(model::AbstractModel{1})\n",
    "    nbit, = model.size\n",
    "    [(i, i%nbit+1) for i in 1:(model.periodic ? nbit : nbit-1)]\n",
    "end"
   ]
  },
  {
   "cell_type": "code",
   "execution_count": 41,
   "metadata": {
    "slideshow": {
     "slide_type": "slide"
    }
   },
   "outputs": [
    {
     "data": {
      "text/plain": [
       "hamiltonian"
      ]
     },
     "execution_count": 41,
     "metadata": {},
     "output_type": "execute_result"
    }
   ],
   "source": [
    "\"\"\"\n",
    "Get the hamiltonian of a TFI model\n",
    "\"\"\"\n",
    "function hamiltonian(model::TFI)\n",
    "    nbit = nspin(model)\n",
    "    sum(repeat(nbit, Z, (i,j)) for (i,j) in get_bonds(model))*0.25 +\n",
    "    sum(put(nbit, i=>X) for i=1:nbit)*0.5model.h\n",
    "end"
   ]
  },
  {
   "cell_type": "code",
   "execution_count": 42,
   "metadata": {
    "slideshow": {
     "slide_type": "slide"
    }
   },
   "outputs": [
    {
     "data": {
      "text/plain": [
       "TFI{1}((4,), 0.5, false)"
      ]
     },
     "execution_count": 42,
     "metadata": {},
     "output_type": "execute_result"
    }
   ],
   "source": [
    "tfi_model = TFI(4; h=0.5, periodic=false)"
   ]
  },
  {
   "cell_type": "code",
   "execution_count": 43,
   "metadata": {
    "scrolled": true
   },
   "outputs": [
    {
     "data": {
      "text/plain": [
       "\u001b[36mnqubits: 4, datatype: Complex{Float64}\u001b[39m\n",
       "\u001b[34m\u001b[1msum\u001b[22m\u001b[39m\n",
       "├─ \u001b[33m\u001b[1m[scale: 0.25] \u001b[22m\u001b[39m\u001b[34m\u001b[1msum\u001b[22m\u001b[39m\n",
       "│     ├─ \u001b[36m\u001b[1mrepeat on (\u001b[22m\u001b[39m\u001b[36m\u001b[1m1\u001b[22m\u001b[39m\u001b[36m\u001b[1m, \u001b[22m\u001b[39m\u001b[36m\u001b[1m2\u001b[22m\u001b[39m\u001b[36m\u001b[1m)\u001b[22m\u001b[39m\n",
       "│     │  └─ Z gate\n",
       "│     ├─ \u001b[36m\u001b[1mrepeat on (\u001b[22m\u001b[39m\u001b[36m\u001b[1m2\u001b[22m\u001b[39m\u001b[36m\u001b[1m, \u001b[22m\u001b[39m\u001b[36m\u001b[1m3\u001b[22m\u001b[39m\u001b[36m\u001b[1m)\u001b[22m\u001b[39m\n",
       "│     │  └─ Z gate\n",
       "│     └─ \u001b[36m\u001b[1mrepeat on (\u001b[22m\u001b[39m\u001b[36m\u001b[1m3\u001b[22m\u001b[39m\u001b[36m\u001b[1m, \u001b[22m\u001b[39m\u001b[36m\u001b[1m4\u001b[22m\u001b[39m\u001b[36m\u001b[1m)\u001b[22m\u001b[39m\n",
       "│        └─ Z gate\n",
       "└─ \u001b[33m\u001b[1m[scale: 0.25] \u001b[22m\u001b[39m\u001b[34m\u001b[1msum\u001b[22m\u001b[39m\n",
       "      ├─ \u001b[36m\u001b[1mput on (\u001b[22m\u001b[39m\u001b[36m\u001b[1m1\u001b[22m\u001b[39m\u001b[36m\u001b[1m)\u001b[22m\u001b[39m\n",
       "      │  └─ X gate\n",
       "      ├─ \u001b[36m\u001b[1mput on (\u001b[22m\u001b[39m\u001b[36m\u001b[1m2\u001b[22m\u001b[39m\u001b[36m\u001b[1m)\u001b[22m\u001b[39m\n",
       "      │  └─ X gate\n",
       "      ├─ \u001b[36m\u001b[1mput on (\u001b[22m\u001b[39m\u001b[36m\u001b[1m3\u001b[22m\u001b[39m\u001b[36m\u001b[1m)\u001b[22m\u001b[39m\n",
       "      │  └─ X gate\n",
       "      └─ \u001b[36m\u001b[1mput on (\u001b[22m\u001b[39m\u001b[36m\u001b[1m4\u001b[22m\u001b[39m\u001b[36m\u001b[1m)\u001b[22m\u001b[39m\n",
       "         └─ X gate\n"
      ]
     },
     "execution_count": 43,
     "metadata": {},
     "output_type": "execute_result"
    }
   ],
   "source": [
    "tfi_h = hamiltonian(tfi_model)"
   ]
  },
  {
   "cell_type": "markdown",
   "metadata": {
    "slideshow": {
     "slide_type": "slide"
    }
   },
   "source": [
    "# A quantum circuit as an ansatz\n",
    "\n",
    "Construct the following circuit as our ansatz\n",
    "\n",
    "<div style=\"display:inline-block\"><img style=\"float:left\", src=\"images/fourqubit.png\" width=\"500\"></div>"
   ]
  },
  {
   "cell_type": "code",
   "execution_count": 92,
   "metadata": {
    "slideshow": {
     "slide_type": "slide"
    }
   },
   "outputs": [
    {
     "data": {
      "text/plain": [
       "ansatz_circuit (generic function with 1 method)"
      ]
     },
     "execution_count": 92,
     "metadata": {},
     "output_type": "execute_result"
    }
   ],
   "source": [
    "Rxz() = chain(Rx(0.0), Rz(0.0))\n",
    "MeasureAndReset(nbit::Int, i::Int) = Measure{nbit, 1, AbstractBlock}(Z, (i,), 0, false)\n",
    "\n",
    "function ansatz_circuit(nbit::Int, d::Int)\n",
    "    circuit = chain(nbit)\n",
    "\n",
    "    for i=1:nbit-1\n",
    "        unit = chain(nbit)\n",
    "        for j=1:d\n",
    "            push!(unit, put(nbit, i=>Rxz()))\n",
    "            push!(unit, put(nbit, nbit=>Rxz()))\n",
    "            push!(unit, control(nbit, 1, 2=>shift(0.0)))\n",
    "        end\n",
    "        push!(circuit, unit)\n",
    "    end\n",
    "    push!(circuit, chain([MeasureAndReset(nbit, i) for i=1:nbit]))\n",
    "    circuit\n",
    "end"
   ]
  },
  {
   "cell_type": "code",
   "execution_count": 93,
   "metadata": {
    "scrolled": true,
    "slideshow": {
     "slide_type": "slide"
    }
   },
   "outputs": [
    {
     "data": {
      "text/plain": [
       "\u001b[36mnqubits: 4, datatype: Complex{Float64}\u001b[39m\n",
       "\u001b[34m\u001b[1mchain\u001b[22m\u001b[39m\n",
       "├─ \u001b[34m\u001b[1mchain\u001b[22m\u001b[39m\n",
       "│  ├─ \u001b[36m\u001b[1mput on (\u001b[22m\u001b[39m\u001b[36m\u001b[1m1\u001b[22m\u001b[39m\u001b[36m\u001b[1m)\u001b[22m\u001b[39m\n",
       "│  │  └─ \u001b[34m\u001b[1mchain\u001b[22m\u001b[39m\n",
       "│  │     ├─ rot(X gate, 0.0)\n",
       "│  │     └─ rot(Z gate, 0.0)\n",
       "│  ├─ \u001b[36m\u001b[1mput on (\u001b[22m\u001b[39m\u001b[36m\u001b[1m4\u001b[22m\u001b[39m\u001b[36m\u001b[1m)\u001b[22m\u001b[39m\n",
       "│  │  └─ \u001b[34m\u001b[1mchain\u001b[22m\u001b[39m\n",
       "│  │     ├─ rot(X gate, 0.0)\n",
       "│  │     └─ rot(Z gate, 0.0)\n",
       "│  └─ \u001b[31m\u001b[1mcontrol(\u001b[22m\u001b[39m\u001b[31m\u001b[1m1\u001b[22m\u001b[39m\u001b[31m\u001b[1m)\u001b[22m\u001b[39m\n",
       "│     └─ \u001b[37m\u001b[1m(2,)\u001b[22m\u001b[39m shift(0.0)\n",
       "├─ \u001b[34m\u001b[1mchain\u001b[22m\u001b[39m\n",
       "│  ├─ \u001b[36m\u001b[1mput on (\u001b[22m\u001b[39m\u001b[36m\u001b[1m2\u001b[22m\u001b[39m\u001b[36m\u001b[1m)\u001b[22m\u001b[39m\n",
       "│  │  └─ \u001b[34m\u001b[1mchain\u001b[22m\u001b[39m\n",
       "│  │     ├─ rot(X gate, 0.0)\n",
       "│  │     └─ rot(Z gate, 0.0)\n",
       "│  ├─ \u001b[36m\u001b[1mput on (\u001b[22m\u001b[39m\u001b[36m\u001b[1m4\u001b[22m\u001b[39m\u001b[36m\u001b[1m)\u001b[22m\u001b[39m\n",
       "│  │  └─ \u001b[34m\u001b[1mchain\u001b[22m\u001b[39m\n",
       "│  │     ├─ rot(X gate, 0.0)\n",
       "│  │     └─ rot(Z gate, 0.0)\n",
       "│  └─ \u001b[31m\u001b[1mcontrol(\u001b[22m\u001b[39m\u001b[31m\u001b[1m1\u001b[22m\u001b[39m\u001b[31m\u001b[1m)\u001b[22m\u001b[39m\n",
       "│     └─ \u001b[37m\u001b[1m(2,)\u001b[22m\u001b[39m shift(0.0)\n",
       "├─ \u001b[34m\u001b[1mchain\u001b[22m\u001b[39m\n",
       "│  ├─ \u001b[36m\u001b[1mput on (\u001b[22m\u001b[39m\u001b[36m\u001b[1m3\u001b[22m\u001b[39m\u001b[36m\u001b[1m)\u001b[22m\u001b[39m\n",
       "│  │  └─ \u001b[34m\u001b[1mchain\u001b[22m\u001b[39m\n",
       "│  │     ├─ rot(X gate, 0.0)\n",
       "│  │     └─ rot(Z gate, 0.0)\n",
       "│  ├─ \u001b[36m\u001b[1mput on (\u001b[22m\u001b[39m\u001b[36m\u001b[1m4\u001b[22m\u001b[39m\u001b[36m\u001b[1m)\u001b[22m\u001b[39m\n",
       "│  │  └─ \u001b[34m\u001b[1mchain\u001b[22m\u001b[39m\n",
       "│  │     ├─ rot(X gate, 0.0)\n",
       "│  │     └─ rot(Z gate, 0.0)\n",
       "│  └─ \u001b[31m\u001b[1mcontrol(\u001b[22m\u001b[39m\u001b[31m\u001b[1m1\u001b[22m\u001b[39m\u001b[31m\u001b[1m)\u001b[22m\u001b[39m\n",
       "│     └─ \u001b[37m\u001b[1m(2,)\u001b[22m\u001b[39m shift(0.0)\n",
       "└─ \u001b[34m\u001b[1mchain\u001b[22m\u001b[39m\n",
       "   ├─ Measure(4;operator=Z gate, locs=(1,), collapseto=0)\n",
       "   ├─ Measure(4;operator=Z gate, locs=(2,), collapseto=0)\n",
       "   ├─ Measure(4;operator=Z gate, locs=(3,), collapseto=0)\n",
       "   └─ Measure(4;operator=Z gate, locs=(4,), collapseto=0)\n"
      ]
     },
     "execution_count": 93,
     "metadata": {},
     "output_type": "execute_result"
    }
   ],
   "source": [
    "example_circuit = ansatz_circuit(4, 1)"
   ]
  },
  {
   "cell_type": "code",
   "execution_count": 94,
   "metadata": {},
   "outputs": [
    {
     "data": {
      "text/plain": [
       "15"
      ]
     },
     "execution_count": 94,
     "metadata": {},
     "output_type": "execute_result"
    }
   ],
   "source": [
    "nparameters(example_circuit)"
   ]
  },
  {
   "cell_type": "code",
   "execution_count": 95,
   "metadata": {
    "slideshow": {
     "slide_type": "slide"
    }
   },
   "outputs": [
    {
     "data": {
      "text/plain": [
       "gensample"
      ]
     },
     "execution_count": 95,
     "metadata": {},
     "output_type": "execute_result"
    }
   ],
   "source": [
    "\"\"\"\n",
    "    gensample(circuit, operator; nbatch=1024) -> Vector of Measure\n",
    "\n",
    "Generate samples from MPS-inspired circuit. Here, `nbatch` means nshot.\n",
    "`operator` is the operator to measure.\n",
    "This function returns a vector of `Measure` gates, results are stored in `m.results`.\n",
    "\"\"\"\n",
    "function gensample(circuit, operator; nbatch=1024)\n",
    "    mblocks = collect_blocks(Measure, circuit)\n",
    "    for m in mblocks\n",
    "        m.operator = operator\n",
    "    end\n",
    "    reg = zero_state(nqubits(circuit); nbatch=nbatch)\n",
    "    reg |> circuit\n",
    "    mblocks\n",
    "end"
   ]
  },
  {
   "cell_type": "code",
   "execution_count": 96,
   "metadata": {
    "slideshow": {
     "slide_type": "slide"
    }
   },
   "outputs": [
    {
     "data": {
      "text/plain": [
       "4-element Array{Measure,1}:\n",
       " Measure(4;operator=X gate, locs=(1,), collapseto=0)\n",
       " Measure(4;operator=X gate, locs=(2,), collapseto=0)\n",
       " Measure(4;operator=X gate, locs=(3,), collapseto=0)\n",
       " Measure(4;operator=X gate, locs=(4,), collapseto=0)"
      ]
     },
     "execution_count": 96,
     "metadata": {},
     "output_type": "execute_result"
    }
   ],
   "source": [
    "res = gensample(example_circuit, X; nbatch=1024)"
   ]
  },
  {
   "cell_type": "code",
   "execution_count": 91,
   "metadata": {
    "slideshow": {
     "slide_type": "slide"
    }
   },
   "outputs": [
    {
     "data": {
      "text/plain": [
       "1024-element Array{Int64,1}:\n",
       "  1\n",
       "  1\n",
       "  1\n",
       " -1\n",
       "  1\n",
       " -1\n",
       " -1\n",
       "  1\n",
       "  1\n",
       " -1\n",
       " -1\n",
       "  1\n",
       " -1\n",
       "  ⋮\n",
       "  1\n",
       "  1\n",
       " -1\n",
       " -1\n",
       " -1\n",
       " -1\n",
       " -1\n",
       "  1\n",
       "  1\n",
       "  1\n",
       " -1\n",
       "  1"
      ]
     },
     "execution_count": 91,
     "metadata": {},
     "output_type": "execute_result"
    }
   ],
   "source": [
    "res[1].results"
   ]
  },
  {
   "cell_type": "code",
   "execution_count": 50,
   "metadata": {
    "slideshow": {
     "slide_type": "slide"
    }
   },
   "outputs": [
    {
     "data": {
      "text/plain": [
       "VQE"
      ]
     },
     "execution_count": 50,
     "metadata": {},
     "output_type": "execute_result"
    }
   ],
   "source": [
    "\"\"\"\n",
    "    VQE{MT, BT<:AbstractBlock}\n",
    "\n",
    "Variational quantum eigensolver setup\n",
    "* `MT` is the type of hamiltonian model,\n",
    "* `BT` is the type of an input circuit.\n",
    "\"\"\"\n",
    "struct VQE{MT, BT<:AbstractBlock}\n",
    "    model::MT\n",
    "    circuit::BT\n",
    "    nshots::Int\n",
    "end\n",
    "\n",
    "VQE(model, circuit::AbstractBlock; nshots::Int=1024) = VQE(model, circuit, nshots)"
   ]
  },
  {
   "cell_type": "markdown",
   "metadata": {
    "slideshow": {
     "slide_type": "slide"
    }
   },
   "source": [
    "## Loss Function\n",
    "\n",
    "$$\\langle H\\rangle = \\mathbb{E}_{k}\\left[\\frac{J}{4}(\\sum_i Z_i^{(k)} Z_{i+1}^{(k)}) + \\frac{h}{2}\\sum_i X_i^{(k)}\\right]$$"
   ]
  },
  {
   "cell_type": "code",
   "execution_count": 55,
   "metadata": {},
   "outputs": [
    {
     "data": {
      "text/plain": [
       "ising_energy (generic function with 1 method)"
      ]
     },
     "execution_count": 55,
     "metadata": {},
     "output_type": "execute_result"
    }
   ],
   "source": [
    "\"\"\"\n",
    "Obtain the energy of a VQE application.\n",
    "\"\"\"\n",
    "function energy(vqe::VQE{<:TFI})\n",
    "    # measuring Z\n",
    "    eng = ising_energy(vqe.circuit, get_bonds(vqe.model), Z; nshots=vqe.nshots)\n",
    "    # measuring transverse field term on basis X\n",
    "    mblocks = gensample(vqe.circuit, X; nbatch=vqe.nshots)\n",
    "    engx = sum(mean.([m.results for m in mblocks]))\n",
    "    eng + vqe.model.h*engx/2\n",
    "end\n",
    "\n",
    "function ising_energy(circuit, bonds, basis; nshots::Int)\n",
    "    mblocks = gensample(circuit, basis; nbatch=nshots)\n",
    "    nspin = length(mblocks)\n",
    "    local eng = 0.0\n",
    "    for (a, b) in bonds\n",
    "        eng += mean(mblocks[a].results .* mblocks[b].results)\n",
    "    end\n",
    "    eng/=4\n",
    "end"
   ]
  },
  {
   "cell_type": "code",
   "execution_count": 56,
   "metadata": {
    "slideshow": {
     "slide_type": "slide"
    }
   },
   "outputs": [
    {
     "data": {
      "text/plain": [
       "0.755859375"
      ]
     },
     "execution_count": 56,
     "metadata": {},
     "output_type": "execute_result"
    }
   ],
   "source": [
    "# obtain the energy through sampling\n",
    "vqe = VQE(tfi_model, example_circuit; nshots=1024)\n",
    "dispatch!(vqe.circuit, :random)\n",
    "energy(vqe)"
   ]
  },
  {
   "cell_type": "code",
   "execution_count": 57,
   "metadata": {
    "slideshow": {
     "slide_type": "slide"
    }
   },
   "outputs": [
    {
     "data": {
      "text/plain": [
       "wave_function (generic function with 1 method)"
      ]
     },
     "execution_count": 57,
     "metadata": {},
     "output_type": "execute_result"
    }
   ],
   "source": [
    "wave_function(circuit) = zero_state(nqubits(circuit)) |> circuit[1:end-1]"
   ]
  },
  {
   "cell_type": "code",
   "execution_count": 59,
   "metadata": {},
   "outputs": [
    {
     "data": {
      "text/plain": [
       "0.7522941997757429"
      ]
     },
     "execution_count": 59,
     "metadata": {},
     "output_type": "execute_result"
    }
   ],
   "source": [
    "# obtain the exact <H> through wave function\n",
    "energy_exact(vqe) = expect(hamiltonian(vqe.model), wave_function(vqe.circuit)) |> real\n",
    "energy_exact(vqe)"
   ]
  },
  {
   "cell_type": "markdown",
   "metadata": {
    "slideshow": {
     "slide_type": "slide"
    }
   },
   "source": [
    "## Training\n",
    "\n",
    "Sequential optimization\n",
    "1. obtain the gradient of parameters $\\frac{\\partial E_\\theta}{\\partial \\theta} = \\frac 1 2 (E_{\\theta+\\pi/2}-E_{\\theta-\\pi/2})$\n",
    "2. feed gradient descents into Adam $\\theta\\rightarrow \\theta-\\tilde{\\alpha}_{\\rm history} \\frac{\\partial E_\\theta}{\\partial \\theta}$\n",
    "3. update parameters and repeat until convergence."
   ]
  },
  {
   "cell_type": "code",
   "execution_count": 97,
   "metadata": {
    "slideshow": {
     "slide_type": "slide"
    }
   },
   "outputs": [
    {
     "data": {
      "text/plain": [
       "opgrad"
      ]
     },
     "execution_count": 97,
     "metadata": {},
     "output_type": "execute_result"
    }
   ],
   "source": [
    "\"\"\"\n",
    "obtain the gradient of a parameter in a rotation gate/cphase gate.\n",
    "\"\"\"\n",
    "function opgrad(vqe::VQE, r)\n",
    "    dispatch!(+, r, π/2)\n",
    "    E₊ = energy(vqe)\n",
    "    dispatch!(-, r, π)\n",
    "    E₋ = energy(vqe)\n",
    "    dispatch!(+, r, π/2)\n",
    "    0.5*(E₊ - E₋)\n",
    "end"
   ]
  },
  {
   "cell_type": "code",
   "execution_count": 98,
   "metadata": {
    "slideshow": {
     "slide_type": "slide"
    }
   },
   "outputs": [],
   "source": [
    "using Flux: ADAM, Optimise"
   ]
  },
  {
   "cell_type": "code",
   "execution_count": 99,
   "metadata": {},
   "outputs": [
    {
     "data": {
      "text/plain": [
       "train! (generic function with 1 method)"
      ]
     },
     "execution_count": 99,
     "metadata": {},
     "output_type": "execute_result"
    }
   ],
   "source": [
    "function train!(vqe::VQE; maxiter::Int=200, α::Real=0.3)\n",
    "    circuit, model = vqe.circuit, vqe.model\n",
    "    rots = collect_blocks(Union{RotationGate, ControlBlock{<:Any, <:ShiftGate}}, circuit)\n",
    "    loss_history = Float64[]\n",
    "    params = vcat(parameters.(rots)...)\n",
    "    optimizer = ADAM(α)\n",
    "    for i in 0:maxiter\n",
    "        grad = opgrad.(Ref(vqe), rots)\n",
    "        Optimise.update!(optimizer, params, grad)\n",
    "        dispatch!.(rots, params)\n",
    "        push!(loss_history, energy_exact(circuit, model, nbatch=nbatch)/nspin(model))\n",
    "        \n",
    "        i%10 == 0 && println(\"Iter $i, E/N = $(loss_history[end])\")\n",
    "    end\n",
    "    loss_history, circuit\n",
    "end"
   ]
  },
  {
   "cell_type": "code",
   "execution_count": 100,
   "metadata": {
    "slideshow": {
     "slide_type": "slide"
    }
   },
   "outputs": [],
   "source": [
    "lattice_size = 4\n",
    "vqe = VQE(TFI(lattice_size; h=0.5, periodic=false),\n",
    "    ansatz_circuit(lattice_size, 2);\n",
    "    nshots=1024);"
   ]
  },
  {
   "cell_type": "code",
   "execution_count": 101,
   "metadata": {},
   "outputs": [
    {
     "name": "stdout",
     "output_type": "stream",
     "text": [
      "EG = -0.29742315519647605\n"
     ]
    }
   ],
   "source": [
    "# obtain the exact ground state energy\n",
    "res = eigen(mat(hamiltonian(vqe.model)) |> Matrix)\n",
    "EG = res.values[1]/nspin(model)\n",
    "@show EG\n",
    "VG = res.vectors[:,1];"
   ]
  },
  {
   "cell_type": "code",
   "execution_count": 103,
   "metadata": {
    "scrolled": true,
    "slideshow": {
     "slide_type": "slide"
    }
   },
   "outputs": [
    {
     "name": "stdout",
     "output_type": "stream",
     "text": [
      "Iter 0, E/N = -0.024362648897917914\n",
      "Iter 10, E/N = -0.2191401252410583\n",
      "Iter 20, E/N = -0.2719215791264804\n",
      "Iter 30, E/N = -0.2744586282675524\n",
      "Iter 40, E/N = -0.276446838077148\n",
      "Iter 50, E/N = -0.278109919941845\n",
      "Iter 60, E/N = -0.27827321382642983\n",
      "Iter 70, E/N = -0.2780798319532818\n",
      "Iter 80, E/N = -0.2776838176833727\n",
      "Iter 90, E/N = -0.27757620223804014\n",
      "Iter 100, E/N = -0.27764366354257947\n"
     ]
    }
   ],
   "source": [
    "dispatch!(vqe.circuit, :random)\n",
    "loss_history, circuit = train!(vqe; maxiter=100, α=0.3);"
   ]
  },
  {
   "cell_type": "code",
   "execution_count": 85,
   "metadata": {
    "scrolled": false,
    "slideshow": {
     "slide_type": "slide"
    }
   },
   "outputs": [
    {
     "data": {
      "image/svg+xml": [
       "<?xml version=\"1.0\" encoding=\"utf-8\"?>\n",
       "<svg xmlns=\"http://www.w3.org/2000/svg\" xmlns:xlink=\"http://www.w3.org/1999/xlink\" width=\"600\" height=\"400\" viewBox=\"0 0 2400 1600\">\n",
       "<defs>\n",
       "  <clipPath id=\"clip0100\">\n",
       "    <rect x=\"0\" y=\"0\" width=\"2400\" height=\"1600\"/>\n",
       "  </clipPath>\n",
       "</defs>\n",
       "<polygon clip-path=\"url(#clip0100)\" points=\"\n",
       "0,1600 2400,1600 2400,0 0,0 \n",
       "  \" fill=\"#ffffff\" fill-rule=\"evenodd\" fill-opacity=\"1\"/>\n",
       "<defs>\n",
       "  <clipPath id=\"clip0101\">\n",
       "    <rect x=\"480\" y=\"0\" width=\"1681\" height=\"1600\"/>\n",
       "  </clipPath>\n",
       "</defs>\n",
       "<polygon clip-path=\"url(#clip0100)\" points=\"\n",
       "279.259,1503.47 2321.26,1503.47 2321.26,47.2441 279.259,47.2441 \n",
       "  \" fill=\"#ffffff\" fill-rule=\"evenodd\" fill-opacity=\"1\"/>\n",
       "<defs>\n",
       "  <clipPath id=\"clip0102\">\n",
       "    <rect x=\"279\" y=\"47\" width=\"2043\" height=\"1457\"/>\n",
       "  </clipPath>\n",
       "</defs>\n",
       "<polyline clip-path=\"url(#clip0102)\" style=\"stroke:#000000; stroke-width:2; stroke-opacity:0.1; fill:none\" points=\"\n",
       "  337.051,1503.47 337.051,47.2441 \n",
       "  \"/>\n",
       "<polyline clip-path=\"url(#clip0102)\" style=\"stroke:#000000; stroke-width:2; stroke-opacity:0.1; fill:none\" points=\"\n",
       "  818.655,1503.47 818.655,47.2441 \n",
       "  \"/>\n",
       "<polyline clip-path=\"url(#clip0102)\" style=\"stroke:#000000; stroke-width:2; stroke-opacity:0.1; fill:none\" points=\"\n",
       "  1300.26,1503.47 1300.26,47.2441 \n",
       "  \"/>\n",
       "<polyline clip-path=\"url(#clip0102)\" style=\"stroke:#000000; stroke-width:2; stroke-opacity:0.1; fill:none\" points=\"\n",
       "  1781.86,1503.47 1781.86,47.2441 \n",
       "  \"/>\n",
       "<polyline clip-path=\"url(#clip0102)\" style=\"stroke:#000000; stroke-width:2; stroke-opacity:0.1; fill:none\" points=\"\n",
       "  2263.47,1503.47 2263.47,47.2441 \n",
       "  \"/>\n",
       "<polyline clip-path=\"url(#clip0102)\" style=\"stroke:#000000; stroke-width:2; stroke-opacity:0.1; fill:none\" points=\"\n",
       "  279.259,1482.22 2321.26,1482.22 \n",
       "  \"/>\n",
       "<polyline clip-path=\"url(#clip0102)\" style=\"stroke:#000000; stroke-width:2; stroke-opacity:0.1; fill:none\" points=\"\n",
       "  279.259,1094.99 2321.26,1094.99 \n",
       "  \"/>\n",
       "<polyline clip-path=\"url(#clip0102)\" style=\"stroke:#000000; stroke-width:2; stroke-opacity:0.1; fill:none\" points=\"\n",
       "  279.259,707.772 2321.26,707.772 \n",
       "  \"/>\n",
       "<polyline clip-path=\"url(#clip0102)\" style=\"stroke:#000000; stroke-width:2; stroke-opacity:0.1; fill:none\" points=\"\n",
       "  279.259,320.55 2321.26,320.55 \n",
       "  \"/>\n",
       "<polyline clip-path=\"url(#clip0100)\" style=\"stroke:#000000; stroke-width:4; stroke-opacity:1; fill:none\" points=\"\n",
       "  279.259,1503.47 2321.26,1503.47 \n",
       "  \"/>\n",
       "<polyline clip-path=\"url(#clip0100)\" style=\"stroke:#000000; stroke-width:4; stroke-opacity:1; fill:none\" points=\"\n",
       "  279.259,1503.47 279.259,47.2441 \n",
       "  \"/>\n",
       "<polyline clip-path=\"url(#clip0100)\" style=\"stroke:#000000; stroke-width:4; stroke-opacity:1; fill:none\" points=\"\n",
       "  337.051,1503.47 337.051,1481.63 \n",
       "  \"/>\n",
       "<polyline clip-path=\"url(#clip0100)\" style=\"stroke:#000000; stroke-width:4; stroke-opacity:1; fill:none\" points=\"\n",
       "  818.655,1503.47 818.655,1481.63 \n",
       "  \"/>\n",
       "<polyline clip-path=\"url(#clip0100)\" style=\"stroke:#000000; stroke-width:4; stroke-opacity:1; fill:none\" points=\"\n",
       "  1300.26,1503.47 1300.26,1481.63 \n",
       "  \"/>\n",
       "<polyline clip-path=\"url(#clip0100)\" style=\"stroke:#000000; stroke-width:4; stroke-opacity:1; fill:none\" points=\"\n",
       "  1781.86,1503.47 1781.86,1481.63 \n",
       "  \"/>\n",
       "<polyline clip-path=\"url(#clip0100)\" style=\"stroke:#000000; stroke-width:4; stroke-opacity:1; fill:none\" points=\"\n",
       "  2263.47,1503.47 2263.47,1481.63 \n",
       "  \"/>\n",
       "<polyline clip-path=\"url(#clip0100)\" style=\"stroke:#000000; stroke-width:4; stroke-opacity:1; fill:none\" points=\"\n",
       "  279.259,1482.22 309.889,1482.22 \n",
       "  \"/>\n",
       "<polyline clip-path=\"url(#clip0100)\" style=\"stroke:#000000; stroke-width:4; stroke-opacity:1; fill:none\" points=\"\n",
       "  279.259,1094.99 309.889,1094.99 \n",
       "  \"/>\n",
       "<polyline clip-path=\"url(#clip0100)\" style=\"stroke:#000000; stroke-width:4; stroke-opacity:1; fill:none\" points=\"\n",
       "  279.259,707.772 309.889,707.772 \n",
       "  \"/>\n",
       "<polyline clip-path=\"url(#clip0100)\" style=\"stroke:#000000; stroke-width:4; stroke-opacity:1; fill:none\" points=\"\n",
       "  279.259,320.55 309.889,320.55 \n",
       "  \"/>\n",
       "<g clip-path=\"url(#clip0100)\">\n",
       "<text style=\"fill:#000000; fill-opacity:1; font-family:Arial,Helvetica Neue,Helvetica,sans-serif; font-size:48px; text-anchor:middle;\" transform=\"rotate(0, 337.051, 1557.47)\" x=\"337.051\" y=\"1557.47\">0</text>\n",
       "</g>\n",
       "<g clip-path=\"url(#clip0100)\">\n",
       "<text style=\"fill:#000000; fill-opacity:1; font-family:Arial,Helvetica Neue,Helvetica,sans-serif; font-size:48px; text-anchor:middle;\" transform=\"rotate(0, 818.655, 1557.47)\" x=\"818.655\" y=\"1557.47\">25</text>\n",
       "</g>\n",
       "<g clip-path=\"url(#clip0100)\">\n",
       "<text style=\"fill:#000000; fill-opacity:1; font-family:Arial,Helvetica Neue,Helvetica,sans-serif; font-size:48px; text-anchor:middle;\" transform=\"rotate(0, 1300.26, 1557.47)\" x=\"1300.26\" y=\"1557.47\">50</text>\n",
       "</g>\n",
       "<g clip-path=\"url(#clip0100)\">\n",
       "<text style=\"fill:#000000; fill-opacity:1; font-family:Arial,Helvetica Neue,Helvetica,sans-serif; font-size:48px; text-anchor:middle;\" transform=\"rotate(0, 1781.86, 1557.47)\" x=\"1781.86\" y=\"1557.47\">75</text>\n",
       "</g>\n",
       "<g clip-path=\"url(#clip0100)\">\n",
       "<text style=\"fill:#000000; fill-opacity:1; font-family:Arial,Helvetica Neue,Helvetica,sans-serif; font-size:48px; text-anchor:middle;\" transform=\"rotate(0, 2263.47, 1557.47)\" x=\"2263.47\" y=\"1557.47\">100</text>\n",
       "</g>\n",
       "<g clip-path=\"url(#clip0100)\">\n",
       "<text style=\"fill:#000000; fill-opacity:1; font-family:Arial,Helvetica Neue,Helvetica,sans-serif; font-size:48px; text-anchor:end;\" transform=\"rotate(0, 255.259, 1499.72)\" x=\"255.259\" y=\"1499.72\">-0.30</text>\n",
       "</g>\n",
       "<g clip-path=\"url(#clip0100)\">\n",
       "<text style=\"fill:#000000; fill-opacity:1; font-family:Arial,Helvetica Neue,Helvetica,sans-serif; font-size:48px; text-anchor:end;\" transform=\"rotate(0, 255.259, 1112.49)\" x=\"255.259\" y=\"1112.49\">-0.25</text>\n",
       "</g>\n",
       "<g clip-path=\"url(#clip0100)\">\n",
       "<text style=\"fill:#000000; fill-opacity:1; font-family:Arial,Helvetica Neue,Helvetica,sans-serif; font-size:48px; text-anchor:end;\" transform=\"rotate(0, 255.259, 725.272)\" x=\"255.259\" y=\"725.272\">-0.20</text>\n",
       "</g>\n",
       "<g clip-path=\"url(#clip0100)\">\n",
       "<text style=\"fill:#000000; fill-opacity:1; font-family:Arial,Helvetica Neue,Helvetica,sans-serif; font-size:48px; text-anchor:end;\" transform=\"rotate(0, 255.259, 338.05)\" x=\"255.259\" y=\"338.05\">-0.15</text>\n",
       "</g>\n",
       "<g clip-path=\"url(#clip0100)\">\n",
       "<text style=\"fill:#000000; fill-opacity:1; font-family:Arial,Helvetica Neue,Helvetica,sans-serif; font-size:66px; text-anchor:middle;\" transform=\"rotate(-90, 156.859, 775.359)\" x=\"156.859\" y=\"775.359\">Energy</text>\n",
       "</g>\n",
       "<polyline clip-path=\"url(#clip0102)\" style=\"stroke:#009af9; stroke-width:12; stroke-opacity:1; fill:none\" points=\"\n",
       "  337.051,567.433 356.315,88.4582 375.579,559.679 394.844,996.604 414.108,1061.77 433.372,987.897 452.636,955.444 471.9,982.309 491.164,999.162 510.429,979.839 \n",
       "  529.693,991.821 548.957,1070.37 568.221,1161.98 587.485,1218.21 606.749,1216.88 626.014,1196.6 645.278,1189.51 664.542,1204.62 683.806,1230.28 703.07,1234.79 \n",
       "  722.334,1229.99 741.598,1248.09 760.863,1269.96 780.127,1280.57 799.391,1284.43 818.655,1285.99 837.919,1283.13 857.183,1276.8 876.448,1278.91 895.712,1293.19 \n",
       "  914.976,1304.84 934.24,1303.23 953.504,1296.17 972.768,1293.59 992.033,1291.61 1011.3,1290.48 1030.56,1298.1 1049.83,1307.46 1069.09,1307.35 1088.35,1310.87 \n",
       "  1107.62,1313.44 1126.88,1308.41 1146.15,1303.23 1165.41,1300.92 1184.67,1304.03 1203.94,1309.52 1223.2,1310.23 1242.47,1308.89 1261.73,1308.68 1281,1311.95 \n",
       "  1300.26,1310.82 1319.52,1305.66 1338.79,1305.88 1358.05,1308.32 1377.32,1309.37 1396.58,1310.19 1415.84,1309.85 1435.11,1309.88 1454.37,1311.87 1473.64,1312.57 \n",
       "  1492.9,1312.6 1512.17,1311.36 1531.43,1312.69 1550.69,1313.23 1569.96,1314.55 1589.22,1315.36 1608.49,1314.83 1627.75,1314.04 1647.01,1312.58 1666.28,1312.01 \n",
       "  1685.54,1313.02 1704.81,1315.93 1724.07,1316.28 1743.33,1313.16 1762.6,1312.18 1781.86,1312.07 1801.13,1311.24 1820.39,1310.63 1839.66,1310.15 1858.92,1312.17 \n",
       "  1878.18,1314.29 1897.45,1313.67 1916.71,1313.95 1935.98,1311.09 1955.24,1312.69 1974.5,1315.07 1993.77,1313.85 2013.03,1312.39 2032.3,1312.72 2051.56,1314.86 \n",
       "  2070.83,1314.27 2090.09,1310.5 2109.35,1305.94 2128.62,1309.39 2147.88,1315.05 2167.15,1312.53 2186.41,1306.99 2205.67,1306.1 2224.94,1307.47 2244.2,1311.3 \n",
       "  2263.47,1311.73 \n",
       "  \"/>\n",
       "<polyline clip-path=\"url(#clip0102)\" style=\"stroke:#e26f46; stroke-width:12; stroke-opacity:1; fill:none\" points=\"\n",
       "  337.051,1462.26 356.315,1462.26 375.579,1462.26 394.844,1462.26 414.108,1462.26 433.372,1462.26 452.636,1462.26 471.9,1462.26 491.164,1462.26 510.429,1462.26 \n",
       "  529.693,1462.26 548.957,1462.26 568.221,1462.26 587.485,1462.26 606.749,1462.26 626.014,1462.26 645.278,1462.26 664.542,1462.26 683.806,1462.26 703.07,1462.26 \n",
       "  722.334,1462.26 741.598,1462.26 760.863,1462.26 780.127,1462.26 799.391,1462.26 818.655,1462.26 837.919,1462.26 857.183,1462.26 876.448,1462.26 895.712,1462.26 \n",
       "  914.976,1462.26 934.24,1462.26 953.504,1462.26 972.768,1462.26 992.033,1462.26 1011.3,1462.26 1030.56,1462.26 1049.83,1462.26 1069.09,1462.26 1088.35,1462.26 \n",
       "  1107.62,1462.26 1126.88,1462.26 1146.15,1462.26 1165.41,1462.26 1184.67,1462.26 1203.94,1462.26 1223.2,1462.26 1242.47,1462.26 1261.73,1462.26 1281,1462.26 \n",
       "  1300.26,1462.26 1319.52,1462.26 1338.79,1462.26 1358.05,1462.26 1377.32,1462.26 1396.58,1462.26 1415.84,1462.26 1435.11,1462.26 1454.37,1462.26 1473.64,1462.26 \n",
       "  1492.9,1462.26 1512.17,1462.26 1531.43,1462.26 1550.69,1462.26 1569.96,1462.26 1589.22,1462.26 1608.49,1462.26 1627.75,1462.26 1647.01,1462.26 1666.28,1462.26 \n",
       "  1685.54,1462.26 1704.81,1462.26 1724.07,1462.26 1743.33,1462.26 1762.6,1462.26 1781.86,1462.26 1801.13,1462.26 1820.39,1462.26 1839.66,1462.26 1858.92,1462.26 \n",
       "  1878.18,1462.26 1897.45,1462.26 1916.71,1462.26 1935.98,1462.26 1955.24,1462.26 1974.5,1462.26 1993.77,1462.26 2013.03,1462.26 2032.3,1462.26 2051.56,1462.26 \n",
       "  2070.83,1462.26 2090.09,1462.26 2109.35,1462.26 2128.62,1462.26 2147.88,1462.26 2167.15,1462.26 2186.41,1462.26 2205.67,1462.26 2224.94,1462.26 2244.2,1462.26 \n",
       "  2263.47,1462.26 \n",
       "  \"/>\n",
       "<polygon clip-path=\"url(#clip0100)\" points=\"\n",
       "1867.51,312.204 2249.26,312.204 2249.26,130.764 1867.51,130.764 \n",
       "  \" fill=\"#ffffff\" fill-rule=\"evenodd\" fill-opacity=\"1\"/>\n",
       "<polyline clip-path=\"url(#clip0100)\" style=\"stroke:#000000; stroke-width:4; stroke-opacity:1; fill:none\" points=\"\n",
       "  1867.51,312.204 2249.26,312.204 2249.26,130.764 1867.51,130.764 1867.51,312.204 \n",
       "  \"/>\n",
       "<polyline clip-path=\"url(#clip0100)\" style=\"stroke:#009af9; stroke-width:12; stroke-opacity:1; fill:none\" points=\"\n",
       "  1891.51,191.244 2035.51,191.244 \n",
       "  \"/>\n",
       "<g clip-path=\"url(#clip0100)\">\n",
       "<text style=\"fill:#000000; fill-opacity:1; font-family:Arial,Helvetica Neue,Helvetica,sans-serif; font-size:48px; text-anchor:start;\" transform=\"rotate(0, 2059.51, 208.744)\" x=\"2059.51\" y=\"208.744\">QMPS</text>\n",
       "</g>\n",
       "<polyline clip-path=\"url(#clip0100)\" style=\"stroke:#e26f46; stroke-width:12; stroke-opacity:1; fill:none\" points=\"\n",
       "  1891.51,251.724 2035.51,251.724 \n",
       "  \"/>\n",
       "<g clip-path=\"url(#clip0100)\">\n",
       "<text style=\"fill:#000000; fill-opacity:1; font-family:Arial,Helvetica Neue,Helvetica,sans-serif; font-size:48px; text-anchor:start;\" transform=\"rotate(0, 2059.51, 269.224)\" x=\"2059.51\" y=\"269.224\">Exact</text>\n",
       "</g>\n",
       "</svg>\n"
      ]
     },
     "execution_count": 85,
     "metadata": {},
     "output_type": "execute_result"
    }
   ],
   "source": [
    "M = length(loss_history)\n",
    "plot(0:M-1, [loss_history, fill(EG, M)], label=[\"QMPS\", \"Exact\"], lw=3, ylabel=\"Energy\")"
   ]
  },
  {
   "cell_type": "markdown",
   "metadata": {},
   "source": [
    "## Quantum circuit inspired by an MPS\n",
    "\n",
    "Hadamard Gate with dashed box is applied only when measuring on the X basis.\n",
    "<div style=\"display:inline-block\"><img style=\"float: left\", src=\"images/hgate.png\" width=\"50\"/></div>\n",
    "\n",
    "The following gates Measure and Reset a qubit to 0.\n",
    "\n",
    "<div style=\"display:inline-block\"><img style=\"float:left\", src=\"images/mreset.png\" width=\"100\"></div>\n",
    "\n",
    "The goal of this section is to build the MPS-inspired sampler as our ansatz\n",
    "\n",
    "<div style=\"display:inline-block\"><img style=\"float:left\", src=\"images/twoqubit.png\"></div>"
   ]
  },
  {
   "cell_type": "markdown",
   "metadata": {},
   "source": [
    "### Reference: Variational Quantum Eigensolver with Fewer Qubits\n",
    "\n",
    "*Jin-Guo Liu, Yi-Hong Zhang, Yuan Wan, Lei Wang*\n",
    "\n",
    "https://arxiv.org/abs/1902.02663"
   ]
  },
  {
   "cell_type": "code",
   "execution_count": 369,
   "metadata": {
    "scrolled": true
   },
   "outputs": [
    {
     "data": {
      "text/plain": [
       "twoqubit_circuit"
      ]
     },
     "execution_count": 369,
     "metadata": {},
     "output_type": "execute_result"
    }
   ],
   "source": [
    "\"\"\"\n",
    "    ansatz_circuit(nlayer::Int, nrepeat::Int)\n",
    "\n",
    "Construct the above ansatz, `nrepeat` is the number of measure operations,\n",
    "`nlayer` is the length of each block.\n",
    "\"\"\"\n",
    "function ansatz_circuit(nbit::Int, d::Int, nrepeat::Int)\n",
    "    nbit_measure = nbit_virtual = 1\n",
    "    nbit_used = nbit_measure + nbit_virtual\n",
    "    circuit = chain(nbit_used)\n",
    "\n",
    "    for i=1:nrepeat\n",
    "        unit = chain(nbit_used)\n",
    "        #push!(unit, put(nbit_used, 2=>H))\n",
    "        for j=1:d\n",
    "            push!(unit, put(nbit_used, 1=>Rxz()))\n",
    "            push!(unit, put(nbit_used, 2=>Rxz()))\n",
    "            push!(unit, control(nbit_used, 1, 2=>shift(0.0)))\n",
    "        end\n",
    "        push!(unit, MeasureAndReset())\n",
    "        if i==nrepeat\n",
    "            for k=2:nbit_used\n",
    "                push!(unit, MeasureAndReset())\n",
    "            end\n",
    "        end\n",
    "        push!(circuit, unit)\n",
    "    end\n",
    "    dispatch!(circuit, :random)\n",
    "end"
   ]
  },
  {
   "cell_type": "code",
   "execution_count": 370,
   "metadata": {
    "scrolled": false
   },
   "outputs": [
    {
     "data": {
      "text/plain": [
       "\u001b[36mnqubits: 2, datatype: Complex{Float64}\u001b[39m\n",
       "\u001b[34m\u001b[1mchain\u001b[22m\u001b[39m\n",
       "├─ \u001b[34m\u001b[1mchain\u001b[22m\u001b[39m\n",
       "│  ├─ \u001b[36m\u001b[1mput on (\u001b[22m\u001b[39m\u001b[36m\u001b[1m1\u001b[22m\u001b[39m\u001b[36m\u001b[1m)\u001b[22m\u001b[39m\n",
       "│  │  └─ \u001b[34m\u001b[1mchain\u001b[22m\u001b[39m\n",
       "│  │     ├─ rot(X gate, 0.21095863334236697)\n",
       "│  │     └─ rot(Z gate, 0.7061513298045752)\n",
       "│  ├─ \u001b[36m\u001b[1mput on (\u001b[22m\u001b[39m\u001b[36m\u001b[1m2\u001b[22m\u001b[39m\u001b[36m\u001b[1m)\u001b[22m\u001b[39m\n",
       "│  │  └─ H gate\n",
       "│  ├─ \u001b[36m\u001b[1mput on (\u001b[22m\u001b[39m\u001b[36m\u001b[1m2\u001b[22m\u001b[39m\u001b[36m\u001b[1m)\u001b[22m\u001b[39m\n",
       "│  │  └─ rot(Z gate, 0.606758675085191)\n",
       "│  ├─ \u001b[31m\u001b[1mcontrol(\u001b[22m\u001b[39m\u001b[31m\u001b[1m1\u001b[22m\u001b[39m\u001b[31m\u001b[1m)\u001b[22m\u001b[39m\n",
       "│  │  └─ \u001b[37m\u001b[1m(2,)\u001b[22m\u001b[39mshift(0.8692942974976297)\n",
       "│  ├─ \u001b[36m\u001b[1mput on (\u001b[22m\u001b[39m\u001b[36m\u001b[1m1\u001b[22m\u001b[39m\u001b[36m\u001b[1m)\u001b[22m\u001b[39m\n",
       "│  │  └─ \u001b[34m\u001b[1mchain\u001b[22m\u001b[39m\n",
       "│  │     ├─ rot(X gate, 0.9742930709729192)\n",
       "│  │     └─ rot(Z gate, 0.2511950574828521)\n",
       "│  ├─ \u001b[36m\u001b[1mput on (\u001b[22m\u001b[39m\u001b[36m\u001b[1m2\u001b[22m\u001b[39m\u001b[36m\u001b[1m)\u001b[22m\u001b[39m\n",
       "│  │  └─ H gate\n",
       "│  ├─ \u001b[36m\u001b[1mput on (\u001b[22m\u001b[39m\u001b[36m\u001b[1m2\u001b[22m\u001b[39m\u001b[36m\u001b[1m)\u001b[22m\u001b[39m\n",
       "│  │  └─ rot(Z gate, 0.8950395744932531)\n",
       "│  └─ Measure{2,1,AbstractBlock}\n",
       "├─ \u001b[34m\u001b[1mchain\u001b[22m\u001b[39m\n",
       "│  ├─ \u001b[36m\u001b[1mput on (\u001b[22m\u001b[39m\u001b[36m\u001b[1m1\u001b[22m\u001b[39m\u001b[36m\u001b[1m)\u001b[22m\u001b[39m\n",
       "│  │  └─ \u001b[34m\u001b[1mchain\u001b[22m\u001b[39m\n",
       "│  │     ├─ rot(X gate, 0.8280959771285328)\n",
       "│  │     └─ rot(Z gate, 0.6397794287466416)\n",
       "│  ├─ \u001b[36m\u001b[1mput on (\u001b[22m\u001b[39m\u001b[36m\u001b[1m2\u001b[22m\u001b[39m\u001b[36m\u001b[1m)\u001b[22m\u001b[39m\n",
       "│  │  └─ H gate\n",
       "│  ├─ \u001b[36m\u001b[1mput on (\u001b[22m\u001b[39m\u001b[36m\u001b[1m2\u001b[22m\u001b[39m\u001b[36m\u001b[1m)\u001b[22m\u001b[39m\n",
       "│  │  └─ rot(Z gate, 0.43658892015653006)\n",
       "│  ├─ \u001b[31m\u001b[1mcontrol(\u001b[22m\u001b[39m\u001b[31m\u001b[1m1\u001b[22m\u001b[39m\u001b[31m\u001b[1m)\u001b[22m\u001b[39m\n",
       "│  │  └─ \u001b[37m\u001b[1m(2,)\u001b[22m\u001b[39mshift(0.22277943843476922)\n",
       "│  ├─ \u001b[36m\u001b[1mput on (\u001b[22m\u001b[39m\u001b[36m\u001b[1m1\u001b[22m\u001b[39m\u001b[36m\u001b[1m)\u001b[22m\u001b[39m\n",
       "│  │  └─ \u001b[34m\u001b[1mchain\u001b[22m\u001b[39m\n",
       "│  │     ├─ rot(X gate, 0.6583878015555824)\n",
       "│  │     └─ rot(Z gate, 0.054800922397594265)\n",
       "│  ├─ \u001b[36m\u001b[1mput on (\u001b[22m\u001b[39m\u001b[36m\u001b[1m2\u001b[22m\u001b[39m\u001b[36m\u001b[1m)\u001b[22m\u001b[39m\n",
       "│  │  └─ H gate\n",
       "│  ├─ \u001b[36m\u001b[1mput on (\u001b[22m\u001b[39m\u001b[36m\u001b[1m2\u001b[22m\u001b[39m\u001b[36m\u001b[1m)\u001b[22m\u001b[39m\n",
       "│  │  └─ rot(Z gate, 0.6029031531918727)\n",
       "│  └─ Measure{2,1,AbstractBlock}\n",
       "└─ \u001b[34m\u001b[1mchain\u001b[22m\u001b[39m\n",
       "   ├─ \u001b[36m\u001b[1mput on (\u001b[22m\u001b[39m\u001b[36m\u001b[1m1\u001b[22m\u001b[39m\u001b[36m\u001b[1m)\u001b[22m\u001b[39m\n",
       "   │  └─ \u001b[34m\u001b[1mchain\u001b[22m\u001b[39m\n",
       "   │     ├─ rot(X gate, 0.5187383397135643)\n",
       "   │     └─ rot(Z gate, 0.34841339767803015)\n",
       "   ├─ \u001b[36m\u001b[1mput on (\u001b[22m\u001b[39m\u001b[36m\u001b[1m2\u001b[22m\u001b[39m\u001b[36m\u001b[1m)\u001b[22m\u001b[39m\n",
       "   │  └─ H gate\n",
       "   ├─ \u001b[36m\u001b[1mput on (\u001b[22m\u001b[39m\u001b[36m\u001b[1m2\u001b[22m\u001b[39m\u001b[36m\u001b[1m)\u001b[22m\u001b[39m\n",
       "   │  └─ rot(Z gate, 0.7031413016787984)\n",
       "   ├─ \u001b[31m\u001b[1mcontrol(\u001b[22m\u001b[39m\u001b[31m\u001b[1m1\u001b[22m\u001b[39m\u001b[31m\u001b[1m)\u001b[22m\u001b[39m\n",
       "   │  └─ \u001b[37m\u001b[1m(2,)\u001b[22m\u001b[39mshift(0.5361579854441212)\n",
       "   ├─ \u001b[36m\u001b[1mput on (\u001b[22m\u001b[39m\u001b[36m\u001b[1m1\u001b[22m\u001b[39m\u001b[36m\u001b[1m)\u001b[22m\u001b[39m\n",
       "   │  └─ \u001b[34m\u001b[1mchain\u001b[22m\u001b[39m\n",
       "   │     ├─ rot(X gate, 0.8057911183128879)\n",
       "   │     └─ rot(Z gate, 0.37193762663808716)\n",
       "   ├─ \u001b[36m\u001b[1mput on (\u001b[22m\u001b[39m\u001b[36m\u001b[1m2\u001b[22m\u001b[39m\u001b[36m\u001b[1m)\u001b[22m\u001b[39m\n",
       "   │  └─ H gate\n",
       "   ├─ \u001b[36m\u001b[1mput on (\u001b[22m\u001b[39m\u001b[36m\u001b[1m2\u001b[22m\u001b[39m\u001b[36m\u001b[1m)\u001b[22m\u001b[39m\n",
       "   │  └─ rot(Z gate, 0.6136187886652058)\n",
       "   ├─ Measure{2,1,AbstractBlock}\n",
       "   └─ Measure{2,1,AbstractBlock}\n"
      ]
     },
     "execution_count": 370,
     "metadata": {},
     "output_type": "execute_result"
    }
   ],
   "source": [
    "circuit = ansatz_circuit(1, 3)"
   ]
  },
  {
   "cell_type": "markdown",
   "metadata": {},
   "source": [
    "## Using the finite difference method, see what will happen"
   ]
  },
  {
   "cell_type": "code",
   "execution_count": 80,
   "metadata": {},
   "outputs": [
    {
     "data": {
      "text/plain": [
       "numgrad (generic function with 2 methods)"
      ]
     },
     "execution_count": 80,
     "metadata": {},
     "output_type": "execute_result"
    }
   ],
   "source": [
    "function numgrad(vqe::VQE, r; δ=0.01)\n",
    "    dispatch!(+, r, (δ/2,))\n",
    "    E₊ = energy(vqe)\n",
    "    dispatch!(-, r, (δ,))\n",
    "    E₋ = energy(vqe)\n",
    "    dispatch!(+, r, (δ/2,))\n",
    "    (E₊ - E₋)/δ\n",
    "end"
   ]
  },
  {
   "cell_type": "code",
   "execution_count": null,
   "metadata": {},
   "outputs": [],
   "source": []
  }
 ],
 "metadata": {
  "@webio": {
   "lastCommId": null,
   "lastKernelId": null
  },
  "celltoolbar": "Slideshow",
  "kernelspec": {
   "display_name": "Julia 1.1.0",
   "language": "julia",
   "name": "julia-1.1"
  },
  "language_info": {
   "file_extension": ".jl",
   "mimetype": "application/julia",
   "name": "julia",
   "version": "1.1.0"
  }
 },
 "nbformat": 4,
 "nbformat_minor": 2
}
