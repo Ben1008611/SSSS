{
 "cells": [
  {
   "cell_type": "markdown",
   "metadata": {},
   "source": [
    "# Solving A transverse field Ising model"
   ]
  },
  {
   "cell_type": "code",
   "execution_count": null,
   "metadata": {},
   "outputs": [],
   "source": [
    "using Yao\n",
    "using Statistics: mean\n",
    "using LinearAlgebra\n",
    "using Plots"
   ]
  },
  {
   "cell_type": "markdown",
   "metadata": {},
   "source": [
    "## Model Hamiltonians"
   ]
  },
  {
   "cell_type": "markdown",
   "metadata": {},
   "source": [
    "### Transverse field Ising Model\n",
    "\n",
    "$H = \\sum\\limits_{i=1}^{N-1} s_i^z s^z_{i+1} + h\\sum\\limits^{N}_{i=1} s_i^x$\n",
    "\n",
    "where $s^\\alpha = \\frac 1 2 \\sigma^\\alpha$ is the spin operator."
   ]
  },
  {
   "cell_type": "code",
   "execution_count": null,
   "metadata": {},
   "outputs": [],
   "source": [
    "\"\"\"\n",
    "for simplicity, we require an AbstractModel contains `size` and `periodic` members.\n",
    "\"\"\"\n",
    "abstract type AbstractModel{D} end\n",
    "\n",
    "nspin(model::AbstractModel) = prod(model.size)"
   ]
  },
  {
   "cell_type": "code",
   "execution_count": null,
   "metadata": {},
   "outputs": [],
   "source": [
    "\"\"\"\n",
    "transverse field ising model, `h` is the strength of transverse field.\n",
    "\"\"\"\n",
    "struct TFI{D} <:AbstractModel{1}\n",
    "    size::NTuple{D, Int}\n",
    "    h::Float64\n",
    "    periodic::Bool\n",
    "    TFI(size::Int...; h::Real, periodic::Bool) = new{length(size)}(size, Float64(h), periodic)\n",
    "end"
   ]
  },
  {
   "cell_type": "code",
   "execution_count": null,
   "metadata": {},
   "outputs": [],
   "source": [
    "\"\"\"\n",
    "get the bonds of a chain model.\n",
    "\"\"\"\n",
    "function get_bonds(model::AbstractModel{1})\n",
    "    nbit, = model.size\n",
    "    [(i, i%nbit+1) for i in 1:(model.periodic ? nbit : nbit-1)]\n",
    "end"
   ]
  },
  {
   "cell_type": "code",
   "execution_count": null,
   "metadata": {},
   "outputs": [],
   "source": [
    "\"\"\"\n",
    "Get the hamiltonian of a TFI model\n",
    "\"\"\"\n",
    "function hamiltonian(model::TFI)\n",
    "    nbit = nspin(model)\n",
    "    sum(repeat(nbit, Z, (i,j)) for (i,j) in get_bonds(model))*0.25 +\n",
    "    sum(put(nbit, i=>X) for i=1:nbit)*0.5model.h\n",
    "end"
   ]
  },
  {
   "cell_type": "code",
   "execution_count": null,
   "metadata": {},
   "outputs": [],
   "source": [
    "tfi_model = TFI(4; h=0.5, periodic=false)"
   ]
  },
  {
   "cell_type": "code",
   "execution_count": null,
   "metadata": {
    "scrolled": true
   },
   "outputs": [],
   "source": [
    "tfi_h = hamiltonian(tfi_model)"
   ]
  },
  {
   "cell_type": "markdown",
   "metadata": {},
   "source": [
    "# A quantum circuit as an ansatz\n",
    "\n",
    "Construct the following circuit as our ansatz\n",
    "\n",
    "<div style=\"display:inline-block\"><img style=\"float:left\", src=\"images/fourqubit.png\" width=\"500\"></div>"
   ]
  },
  {
   "cell_type": "code",
   "execution_count": null,
   "metadata": {},
   "outputs": [],
   "source": [
    "dump(Measure)"
   ]
  },
  {
   "cell_type": "code",
   "execution_count": null,
   "metadata": {},
   "outputs": [],
   "source": [
    "Rxz() = chain(Rx(0.0), Rz(0.0))\n",
    "MeasureOp(nbit::Int, i::Int) = Measure{nbit, 1, AbstractBlock}(Z, (i,), nothing, false)\n",
    "\n",
    "function ansatz_circuit(nbit::Int, d::Int)\n",
    "    circuit = chain(nbit)\n",
    "\n",
    "    for i=1:nbit-1\n",
    "        unit = chain(nbit)\n",
    "        for j=1:d\n",
    "            push!(unit, put(nbit, i=>Rxz()))\n",
    "            push!(unit, put(nbit, nbit=>Rxz()))\n",
    "            push!(unit, control(nbit, 1, 2=>shift(0.0)))\n",
    "        end\n",
    "        push!(circuit, unit)\n",
    "    end\n",
    "    push!(circuit, chain([MeasureOp(nbit, i) for i=1:nbit]))\n",
    "    circuit\n",
    "end"
   ]
  },
  {
   "cell_type": "code",
   "execution_count": null,
   "metadata": {
    "scrolled": true
   },
   "outputs": [],
   "source": [
    "example_circuit = ansatz_circuit(4, 1)"
   ]
  },
  {
   "cell_type": "code",
   "execution_count": null,
   "metadata": {},
   "outputs": [],
   "source": [
    "nparameters(example_circuit)"
   ]
  },
  {
   "cell_type": "code",
   "execution_count": null,
   "metadata": {},
   "outputs": [],
   "source": [
    "\"\"\"\n",
    "    gensample(circuit, operator; nbatch=1024) -> Vector of Measure\n",
    "\n",
    "Generate samples from MPS-inspired circuit. Here, `nbatch` means nshot.\n",
    "`operator` is the operator to measure.\n",
    "This function returns a vector of `Measure` gates, results are stored in `m.results`.\n",
    "\"\"\"\n",
    "function gensample(circuit, operator; nbatch=1024)\n",
    "    mblocks = collect_blocks(Measure, circuit)\n",
    "    for m in mblocks\n",
    "        m.operator = operator\n",
    "    end\n",
    "    reg = zero_state(nqubits(circuit); nbatch=nbatch)\n",
    "    reg |> circuit\n",
    "    mblocks\n",
    "end"
   ]
  },
  {
   "cell_type": "code",
   "execution_count": null,
   "metadata": {},
   "outputs": [],
   "source": [
    "res = gensample(example_circuit, X; nbatch=1024)"
   ]
  },
  {
   "cell_type": "code",
   "execution_count": null,
   "metadata": {},
   "outputs": [],
   "source": [
    "res[1].results"
   ]
  },
  {
   "cell_type": "markdown",
   "metadata": {},
   "source": [
    "Get the energy through sampling"
   ]
  },
  {
   "cell_type": "code",
   "execution_count": null,
   "metadata": {},
   "outputs": [],
   "source": [
    "\"\"\"\n",
    "    VQE{MT, BT<:AbstractBlock}\n",
    "\n",
    "Variational quantum eigensolver setup\n",
    "* `MT` is the type of hamiltonian model,\n",
    "* `BT` is the type of an input circuit.\n",
    "\"\"\"\n",
    "struct VQE{MT, BT<:AbstractBlock}\n",
    "    model::MT\n",
    "    circuit::BT\n",
    "    nshots::Int\n",
    "end\n",
    "\n",
    "VQE(model, circuit::AbstractBlock; nshots::Int=1024) = VQE(model, circuit, nshots)"
   ]
  },
  {
   "cell_type": "markdown",
   "metadata": {},
   "source": [
    "## Loss Function"
   ]
  },
  {
   "cell_type": "code",
   "execution_count": null,
   "metadata": {},
   "outputs": [],
   "source": [
    "\"\"\"\n",
    "Obtain the energy of a VQE application.\n",
    "\"\"\"\n",
    "function energy(vqe::VQE{<:TFI})\n",
    "    # measuring Z\n",
    "    eng = ising_energy(vqe.circuit, get_bonds(vqe.model), Z; nshots=vqe.nshots)\n",
    "    # measuring transverse field term on basis X\n",
    "    mblocks = gensample(vqe.circuit, X; nbatch=vqe.nshots)\n",
    "    engx = sum(mean.([m.results for m in mblocks]))\n",
    "    eng + vqe.model.h*engx/2\n",
    "end\n",
    "\n",
    "function ising_energy(circuit, bonds, basis; nshots::Int)\n",
    "    mblocks = gensample(circuit, basis; nbatch=nshots)\n",
    "    nspin = length(mblocks)\n",
    "    local eng = 0.0\n",
    "    for (a, b) in bonds\n",
    "        eng += mean(mblocks[a].results .* mblocks[b].results)\n",
    "    end\n",
    "    eng/=4\n",
    "end"
   ]
  },
  {
   "cell_type": "code",
   "execution_count": null,
   "metadata": {},
   "outputs": [],
   "source": [
    "# obtain the energy through sampling\n",
    "vqe = VQE(tfi_model, example_circuit; nshots=1024)\n",
    "dispatch!(vqe.circuit, :random)\n",
    "energy(vqe)"
   ]
  },
  {
   "cell_type": "code",
   "execution_count": null,
   "metadata": {},
   "outputs": [],
   "source": [
    "wave_function(circuit) = zero_state(nqubits(circuit)) |> circuit[1:end-1]"
   ]
  },
  {
   "cell_type": "code",
   "execution_count": null,
   "metadata": {},
   "outputs": [],
   "source": [
    "# obtain the exact <H> through wave function\n",
    "energy_exact(vqe) = expect(hamiltonian(vqe.model), wave_function(vqe.circuit)) |> real\n",
    "energy_exact(vqe)"
   ]
  },
  {
   "cell_type": "markdown",
   "metadata": {},
   "source": [
    "## Training\n",
    "\n",
    "Sequential optimization\n",
    "1. obtain the gradient of one parameter a time $\\frac{\\partial E_\\theta}{\\partial \\theta} = \\frac 1 2 (E_{\\theta+\\pi/2}-E_{\\theta-\\pi/2})$\n",
    "2. perform gradient descent update of this parameter $\\theta\\rightarrow \\theta-\\alpha \\frac{\\partial E_\\theta}{\\partial \\theta}$\n",
    "3. sweep all parameters until convergence."
   ]
  },
  {
   "cell_type": "code",
   "execution_count": null,
   "metadata": {},
   "outputs": [],
   "source": [
    "fidelity(psi, VG) = abs(psi' * VG)"
   ]
  },
  {
   "cell_type": "code",
   "execution_count": null,
   "metadata": {},
   "outputs": [],
   "source": [
    "nparameters(vqe.circuit)"
   ]
  },
  {
   "cell_type": "code",
   "execution_count": null,
   "metadata": {},
   "outputs": [],
   "source": [
    "\"\"\"\n",
    "obtain the gradient of a parameter in a rotation gate/cphase gate.\n",
    "\"\"\"\n",
    "function opgrad(vqe::VQE, r)\n",
    "    dispatch!(+, r, π/2)\n",
    "    E₊ = energy(vqe)\n",
    "    dispatch!(-, r, π)\n",
    "    E₋ = energy(vqe)\n",
    "    dispatch!(+, r, π/2)\n",
    "    0.5*(E₊ - E₋)\n",
    "end"
   ]
  },
  {
   "cell_type": "code",
   "execution_count": null,
   "metadata": {},
   "outputs": [],
   "source": [
    "using Flux: ADAM, Optimise"
   ]
  },
  {
   "cell_type": "code",
   "execution_count": null,
   "metadata": {},
   "outputs": [],
   "source": [
    "function train!(vqe::VQE; maxiter::Int=200, α::Real=0.3)\n",
    "    circuit, model = vqe.circuit, vqe.model\n",
    "    rots = collect_blocks(Union{RotationGate, ControlBlock{<:Any, <:ShiftGate}}, circuit)\n",
    "    loss_history = Float64[]\n",
    "    params = vcat(parameters.(rots)...)\n",
    "    optimizer = ADAM(α)\n",
    "    for i in 0:maxiter\n",
    "        grad = opgrad.(Ref(vqe), rots)\n",
    "        Optimise.update!(optimizer, params, grad)\n",
    "        dispatch!.(rots, params)\n",
    "        push!(loss_history, energy_exact(vqe)/nspin(model))\n",
    "        \n",
    "        i%10 == 0 && println(\"Iter $i, E/N = $(loss_history[end])\")\n",
    "    end\n",
    "    loss_history, circuit\n",
    "end"
   ]
  },
  {
   "cell_type": "code",
   "execution_count": null,
   "metadata": {},
   "outputs": [],
   "source": [
    "lattice_size = 4\n",
    "vqe = VQE(TFI(lattice_size; h=0.5, periodic=false),\n",
    "    ansatz_circuit(lattice_size, 2);\n",
    "    nshots=1024);"
   ]
  },
  {
   "cell_type": "code",
   "execution_count": null,
   "metadata": {},
   "outputs": [],
   "source": [
    "# obtain the exact ground state energy\n",
    "res = eigen(mat(hamiltonian(vqe.model)) |> Matrix)\n",
    "EG = res.values[1]/nspin(vqe.model)\n",
    "@show EG\n",
    "VG = res.vectors[:,1];"
   ]
  },
  {
   "cell_type": "code",
   "execution_count": null,
   "metadata": {},
   "outputs": [],
   "source": [
    "nparameters(vqe.circuit)"
   ]
  },
  {
   "cell_type": "code",
   "execution_count": null,
   "metadata": {
    "scrolled": true
   },
   "outputs": [],
   "source": [
    "dispatch!(vqe.circuit, :random)\n",
    "loss_history, circuit = train!(vqe; maxiter=100, α=0.3);"
   ]
  },
  {
   "cell_type": "code",
   "execution_count": null,
   "metadata": {
    "scrolled": false
   },
   "outputs": [],
   "source": [
    "M = length(loss_history)\n",
    "plot(0:M-1, [loss_history, fill(EG, M)], label=[\"QMPS\", \"Exact\"], lw=3, ylabel=\"Energy\")"
   ]
  },
  {
   "cell_type": "markdown",
   "metadata": {},
   "source": [
    "## Task 1: The problem of vanishing gradient\n",
    "Change the circuit size (as well as model lattice size), show the variance of gradient items.\n",
    "\n",
    "#### Hint: useful functions\n",
    "* using Statistics: var\n",
    "* Use `energy_exact` instead of `energy` to avoid sampling error"
   ]
  },
  {
   "cell_type": "markdown",
   "metadata": {},
   "source": [
    "## Task 2: Two qubits simulating a four-qubit systems\n",
    "\n",
    "Hadamard Gate with dashed box is applied only when measuring on the X basis.\n",
    "<div style=\"display:inline-block\"><img style=\"float: left\", src=\"images/hgate.png\" width=\"50\"/></div>\n",
    "\n",
    "The following gates Measure and Reset a qubit to 0.\n",
    "\n",
    "<div style=\"display:inline-block\"><img style=\"float:left\", src=\"images/mreset.png\" width=\"100\"></div>\n",
    "\n",
    "The goal of this section is to build the MPS-inspired sampler as our ansatz\n",
    "\n",
    "<div style=\"display:inline-block\"><img style=\"float:left\", src=\"images/twoqubit.png\"></div>"
   ]
  },
  {
   "cell_type": "markdown",
   "metadata": {},
   "source": [
    "### Reference: Variational Quantum Eigensolver with Fewer Qubits\n",
    "\n",
    "*Jin-Guo Liu, Yi-Hong Zhang, Yuan Wan, Lei Wang*\n",
    "\n",
    "https://arxiv.org/abs/1902.02663"
   ]
  },
  {
   "cell_type": "code",
   "execution_count": null,
   "metadata": {},
   "outputs": [],
   "source": [
    "# Hint\n",
    "MeasureAndReset(nbit::Int, i::Int) = Measure{nbit, 1, AbstractBlock}(Z, (i,), 0, false)"
   ]
  },
  {
   "cell_type": "code",
   "execution_count": null,
   "metadata": {
    "scrolled": true
   },
   "outputs": [],
   "source": [
    "\"\"\"\n",
    "    ansatz_circuit_2qubit(nbit::Int, d::Int)\n",
    "\n",
    "Construct the above ansatz, `nrepeat` is the number of measure operations,\n",
    "`d` is the depth of each block between two measurements.\n",
    "\"\"\"\n",
    "function ansatz_circuit_2qubit(nbit::Int, d::Int)\n",
    "    # write your code here\n",
    "end"
   ]
  },
  {
   "cell_type": "code",
   "execution_count": null,
   "metadata": {},
   "outputs": [],
   "source": [
    "lattice_size = 4\n",
    "vqe = VQE(TFI(lattice_size; h=0.5, periodic=false),\n",
    "    ansatz_circuit_2qubit(lattice_size, 2);\n",
    "    nshots=1024);"
   ]
  },
  {
   "cell_type": "code",
   "execution_count": null,
   "metadata": {},
   "outputs": [],
   "source": [
    "nparameters(vqe.circuit)"
   ]
  },
  {
   "cell_type": "code",
   "execution_count": null,
   "metadata": {},
   "outputs": [],
   "source": [
    "dispatch!(vqe.circuit, :random)\n",
    "loss_history, circuit = train!(vqe; maxiter=100, α=0.3);"
   ]
  },
  {
   "cell_type": "code",
   "execution_count": null,
   "metadata": {},
   "outputs": [],
   "source": [
    "M = length(loss_history)\n",
    "plot(0:M-1, [loss_history, fill(EG, M)], label=[\"QMPS\", \"Exact\"], lw=3, ylabel=\"Energy\")"
   ]
  }
 ],
 "metadata": {
  "@webio": {
   "lastCommId": null,
   "lastKernelId": null
  },
  "kernelspec": {
   "display_name": "Julia 1.1.0",
   "language": "julia",
   "name": "julia-1.1"
  },
  "language_info": {
   "file_extension": ".jl",
   "mimetype": "application/julia",
   "name": "julia",
   "version": "1.1.0"
  }
 },
 "nbformat": 4,
 "nbformat_minor": 2
}
