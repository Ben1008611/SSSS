{
 "cells": [
  {
   "cell_type": "markdown",
   "metadata": {},
   "source": [
    "# Solving A transverse field Ising model"
   ]
  },
  {
   "cell_type": "code",
   "execution_count": 105,
   "metadata": {},
   "outputs": [],
   "source": [
    "using Yao\n",
    "using Statistics: mean\n",
    "using LinearAlgebra\n",
    "using Plots"
   ]
  },
  {
   "cell_type": "markdown",
   "metadata": {},
   "source": [
    "## Model Hamiltonians"
   ]
  },
  {
   "cell_type": "markdown",
   "metadata": {},
   "source": [
    "### Transverse field Ising Model\n",
    "\n",
    "$H = \\sum\\limits_{i=1}^{N-1} s_i^z s^z_{i+1} + h\\sum\\limits^{N}_{i=1} s_i^x$\n",
    "\n",
    "where $s^\\alpha = \\frac 1 2 \\sigma^\\alpha$ is the spin operator."
   ]
  },
  {
   "cell_type": "code",
   "execution_count": 106,
   "metadata": {},
   "outputs": [
    {
     "data": {
      "text/plain": [
       "nspin (generic function with 1 method)"
      ]
     },
     "execution_count": 106,
     "metadata": {},
     "output_type": "execute_result"
    }
   ],
   "source": [
    "\"\"\"\n",
    "for simplicity, we require an AbstractModel contains `size` and `periodic` members.\n",
    "\"\"\"\n",
    "abstract type AbstractModel{D} end\n",
    "\n",
    "nspin(model::AbstractModel) = prod(model.size)"
   ]
  },
  {
   "cell_type": "code",
   "execution_count": null,
   "metadata": {},
   "outputs": [],
   "source": [
    "\"\"\"\n",
    "transverse field ising model, `h` is the strength of transverse field.\n",
    "\"\"\"\n",
    "struct TFI{D} <:AbstractModel{1}\n",
    "    size::NTuple{D, Int}\n",
    "    h::Float64\n",
    "    periodic::Bool\n",
    "    TFI(size::Int...; h::Real, periodic::Bool) = new{length(size)}(size, Float64(h), periodic)\n",
    "end"
   ]
  },
  {
   "cell_type": "code",
   "execution_count": null,
   "metadata": {},
   "outputs": [],
   "source": [
    "\"\"\"\n",
    "get the bonds of a chain model.\n",
    "\"\"\"\n",
    "function get_bonds(model::AbstractModel{1})\n",
    "    nbit, = model.size\n",
    "    [(i, i%nbit+1) for i in 1:(model.periodic ? nbit : nbit-1)]\n",
    "end"
   ]
  },
  {
   "cell_type": "code",
   "execution_count": null,
   "metadata": {},
   "outputs": [],
   "source": [
    "\"\"\"\n",
    "Get the hamiltonian of a TFI model\n",
    "\"\"\"\n",
    "function hamiltonian(model::TFI)\n",
    "    nbit = nspin(model)\n",
    "    sum(repeat(nbit, Z, (i,j)) for (i,j) in get_bonds(model))*0.25 +\n",
    "    sum(put(nbit, i=>X) for i=1:nbit)*0.5model.h\n",
    "end"
   ]
  },
  {
   "cell_type": "code",
   "execution_count": null,
   "metadata": {},
   "outputs": [],
   "source": [
    "tfi_model = TFI(4; h=0.5, periodic=false)"
   ]
  },
  {
   "cell_type": "code",
   "execution_count": null,
   "metadata": {
    "scrolled": true
   },
   "outputs": [],
   "source": [
    "tfi_h = hamiltonian(tfi_model)"
   ]
  },
  {
   "cell_type": "markdown",
   "metadata": {},
   "source": [
    "# A quantum circuit as an ansatz\n",
    "\n",
    "Construct the following circuit as our ansatz\n",
    "\n",
    "<div style=\"display:inline-block\"><img style=\"float:left\", src=\"images/fourqubit.png\" width=\"500\"></div>"
   ]
  },
  {
   "cell_type": "code",
   "execution_count": null,
   "metadata": {},
   "outputs": [],
   "source": [
    "dump(Measure)"
   ]
  },
  {
   "cell_type": "code",
   "execution_count": null,
   "metadata": {},
   "outputs": [],
   "source": [
    "Rxz() = chain(Rx(0.0), Rz(0.0))\n",
    "MeasureOp(nbit::Int, i::Int) = Measure{nbit, 1, AbstractBlock}(Z, (i,), nothing, false)\n",
    "\n",
    "function ansatz_circuit(nbit::Int, d::Int)\n",
    "    circuit = chain(nbit)\n",
    "\n",
    "    for i=1:nbit-1\n",
    "        unit = chain(nbit)\n",
    "        for j=1:d\n",
    "            push!(unit, put(nbit, i=>Rxz()))\n",
    "            push!(unit, put(nbit, nbit=>Rxz()))\n",
    "            push!(unit, control(nbit, 1, 2=>shift(0.0)))\n",
    "        end\n",
    "        push!(circuit, unit)\n",
    "    end\n",
    "    push!(circuit, chain([MeasureOp(nbit, i) for i=1:nbit]))\n",
    "    circuit\n",
    "end"
   ]
  },
  {
   "cell_type": "code",
   "execution_count": null,
   "metadata": {
    "scrolled": true
   },
   "outputs": [],
   "source": [
    "example_circuit = ansatz_circuit(4, 1)"
   ]
  },
  {
   "cell_type": "code",
   "execution_count": null,
   "metadata": {},
   "outputs": [],
   "source": [
    "nparameters(example_circuit)"
   ]
  },
  {
   "cell_type": "code",
   "execution_count": null,
   "metadata": {},
   "outputs": [],
   "source": [
    "\"\"\"\n",
    "    gensample(circuit, operator; nbatch=1024) -> Vector of Measure\n",
    "\n",
    "Generate samples from MPS-inspired circuit. Here, `nbatch` means nshot.\n",
    "`operator` is the operator to measure.\n",
    "This function returns a vector of `Measure` gates, results are stored in `m.results`.\n",
    "\"\"\"\n",
    "function gensample(circuit, operator; nbatch=1024)\n",
    "    mblocks = collect_blocks(Measure, circuit)\n",
    "    for m in mblocks\n",
    "        m.operator = operator\n",
    "    end\n",
    "    reg = zero_state(nqubits(circuit); nbatch=nbatch)\n",
    "    reg |> circuit\n",
    "    mblocks\n",
    "end"
   ]
  },
  {
   "cell_type": "code",
   "execution_count": null,
   "metadata": {},
   "outputs": [],
   "source": [
    "res = gensample(example_circuit, X; nbatch=1024)"
   ]
  },
  {
   "cell_type": "code",
   "execution_count": null,
   "metadata": {},
   "outputs": [],
   "source": [
    "res[1].results"
   ]
  },
  {
   "cell_type": "markdown",
   "metadata": {},
   "source": [
    "Get the energy through sampling"
   ]
  },
  {
   "cell_type": "code",
   "execution_count": null,
   "metadata": {},
   "outputs": [],
   "source": [
    "\"\"\"\n",
    "    VQE{MT, BT<:AbstractBlock}\n",
    "\n",
    "Variational quantum eigensolver setup\n",
    "* `MT` is the type of hamiltonian model,\n",
    "* `BT` is the type of an input circuit.\n",
    "\"\"\"\n",
    "struct VQE{MT, BT<:AbstractBlock}\n",
    "    model::MT\n",
    "    circuit::BT\n",
    "    nshots::Int\n",
    "end\n",
    "\n",
    "VQE(model, circuit::AbstractBlock; nshots::Int=1024) = VQE(model, circuit, nshots)"
   ]
  },
  {
   "cell_type": "markdown",
   "metadata": {},
   "source": [
    "## Loss Function"
   ]
  },
  {
   "cell_type": "code",
   "execution_count": null,
   "metadata": {},
   "outputs": [],
   "source": [
    "\"\"\"\n",
    "Obtain the energy of a VQE application.\n",
    "\"\"\"\n",
    "function energy(vqe::VQE{<:TFI})\n",
    "    # measuring Z\n",
    "    eng = ising_energy(vqe.circuit, get_bonds(vqe.model), Z; nshots=vqe.nshots)\n",
    "    # measuring transverse field term on basis X\n",
    "    mblocks = gensample(vqe.circuit, X; nbatch=vqe.nshots)\n",
    "    engx = sum(mean.([m.results for m in mblocks]))\n",
    "    eng + vqe.model.h*engx/2\n",
    "end\n",
    "\n",
    "function ising_energy(circuit, bonds, basis; nshots::Int)\n",
    "    mblocks = gensample(circuit, basis; nbatch=nshots)\n",
    "    nspin = length(mblocks)\n",
    "    local eng = 0.0\n",
    "    for (a, b) in bonds\n",
    "        eng += mean(mblocks[a].results .* mblocks[b].results)\n",
    "    end\n",
    "    eng/=4\n",
    "end"
   ]
  },
  {
   "cell_type": "code",
   "execution_count": null,
   "metadata": {},
   "outputs": [],
   "source": [
    "# obtain the energy through sampling\n",
    "vqe = VQE(tfi_model, example_circuit; nshots=1024)\n",
    "dispatch!(vqe.circuit, :random)\n",
    "energy(vqe)"
   ]
  },
  {
   "cell_type": "markdown",
   "metadata": {},
   "source": [
    "## Training\n",
    "\n",
    "Sequential optimization\n",
    "1. obtain the gradient of one parameter a time $\\frac{\\partial E_\\theta}{\\partial \\theta} = \\frac 1 2 (E_{\\theta+\\pi/2}-E_{\\theta-\\pi/2})$\n",
    "2. perform gradient descent update of this parameter $\\theta\\rightarrow \\theta-\\alpha \\frac{\\partial E_\\theta}{\\partial \\theta}$\n",
    "3. sweep all parameters until convergence."
   ]
  },
  {
   "cell_type": "code",
   "execution_count": null,
   "metadata": {},
   "outputs": [],
   "source": [
    "\"\"\"\n",
    "obtain the gradient of a parameter in a rotation gate/cphase gate.\n",
    "\"\"\"\n",
    "function opgrad(vqe::VQE, r)\n",
    "    dispatch!(+, r, π/2)\n",
    "    E₊ = energy(vqe)\n",
    "    dispatch!(-, r, π)\n",
    "    E₋ = energy(vqe)\n",
    "    dispatch!(+, r, π/2)\n",
    "    0.5*(E₊ - E₋)\n",
    "end"
   ]
  },
  {
   "cell_type": "code",
   "execution_count": null,
   "metadata": {},
   "outputs": [],
   "source": [
    "using Flux: ADAM, Optimise"
   ]
  },
  {
   "cell_type": "code",
   "execution_count": 164,
   "metadata": {},
   "outputs": [
    {
     "data": {
      "text/plain": [
       "train! (generic function with 1 method)"
      ]
     },
     "execution_count": 164,
     "metadata": {},
     "output_type": "execute_result"
    }
   ],
   "source": [
    "function train!(vqe::VQE; maxiter::Int=200, α::Real=0.3)\n",
    "    circuit, model = vqe.circuit, vqe.model\n",
    "    rots = collect_blocks(Union{RotationGate, ControlBlock{<:Any, <:ShiftGate}}, circuit)\n",
    "    loss_history = Float64[]\n",
    "    params = vcat(parameters.(rots)...)\n",
    "    optimizer = ADAM(α)\n",
    "    for i in 0:maxiter\n",
    "        grad = opgrad.(Ref(vqe), rots)\n",
    "        Optimise.update!(optimizer, params, grad)\n",
    "        dispatch!.(rots, params)\n",
    "        push!(loss_history, energy(vqe)/nspin(model))\n",
    "        \n",
    "        i%10 == 0 && println(\"Iter $i, E/N = $(loss_history[end])\")\n",
    "    end\n",
    "    loss_history, circuit\n",
    "end"
   ]
  },
  {
   "cell_type": "code",
   "execution_count": 165,
   "metadata": {},
   "outputs": [],
   "source": [
    "lattice_size = 4\n",
    "vqe = VQE(TFI(lattice_size; h=0.5, periodic=false),\n",
    "    ansatz_circuit(lattice_size, 2);\n",
    "    nshots=1024);"
   ]
  },
  {
   "cell_type": "code",
   "execution_count": 166,
   "metadata": {},
   "outputs": [
    {
     "name": "stdout",
     "output_type": "stream",
     "text": [
      "EG = -0.29742315519647605\n"
     ]
    }
   ],
   "source": [
    "# obtain the exact ground state energy\n",
    "res = eigen(mat(hamiltonian(vqe.model)) |> Matrix)\n",
    "EG = res.values[1]/nspin(vqe.model)\n",
    "@show EG\n",
    "VG = res.vectors[:,1];"
   ]
  },
  {
   "cell_type": "code",
   "execution_count": 167,
   "metadata": {},
   "outputs": [
    {
     "data": {
      "text/plain": [
       "30"
      ]
     },
     "execution_count": 167,
     "metadata": {},
     "output_type": "execute_result"
    }
   ],
   "source": [
    "nparameters(vqe.circuit)"
   ]
  },
  {
   "cell_type": "code",
   "execution_count": 168,
   "metadata": {
    "scrolled": true
   },
   "outputs": [
    {
     "name": "stdout",
     "output_type": "stream",
     "text": [
      "Iter 0, E/N = -0.0887451171875\n",
      "Iter 10, E/N = -0.2269287109375\n",
      "Iter 20, E/N = -0.2728271484375\n",
      "Iter 30, E/N = -0.282470703125\n",
      "Iter 40, E/N = -0.2672119140625\n",
      "Iter 50, E/N = -0.2684326171875\n",
      "Iter 60, E/N = -0.2769775390625\n",
      "Iter 70, E/N = -0.277099609375\n",
      "Iter 80, E/N = -0.272705078125\n",
      "Iter 90, E/N = -0.278564453125\n",
      "Iter 100, E/N = -0.2783203125\n"
     ]
    }
   ],
   "source": [
    "dispatch!(vqe.circuit, :random)\n",
    "loss_history, circuit = train!(vqe; maxiter=100, α=0.3);"
   ]
  },
  {
   "cell_type": "code",
   "execution_count": 169,
   "metadata": {
    "scrolled": false
   },
   "outputs": [
    {
     "data": {
      "image/svg+xml": [
       "<?xml version=\"1.0\" encoding=\"utf-8\"?>\n",
       "<svg xmlns=\"http://www.w3.org/2000/svg\" xmlns:xlink=\"http://www.w3.org/1999/xlink\" width=\"600\" height=\"400\" viewBox=\"0 0 2400 1600\">\n",
       "<defs>\n",
       "  <clipPath id=\"clip5800\">\n",
       "    <rect x=\"0\" y=\"0\" width=\"2400\" height=\"1600\"/>\n",
       "  </clipPath>\n",
       "</defs>\n",
       "<polygon clip-path=\"url(#clip5800)\" points=\"\n",
       "0,1600 2400,1600 2400,0 0,0 \n",
       "  \" fill=\"#ffffff\" fill-rule=\"evenodd\" fill-opacity=\"1\"/>\n",
       "<defs>\n",
       "  <clipPath id=\"clip5801\">\n",
       "    <rect x=\"480\" y=\"0\" width=\"1681\" height=\"1600\"/>\n",
       "  </clipPath>\n",
       "</defs>\n",
       "<polygon clip-path=\"url(#clip5800)\" points=\"\n",
       "279.259,1503.47 2321.26,1503.47 2321.26,47.2441 279.259,47.2441 \n",
       "  \" fill=\"#ffffff\" fill-rule=\"evenodd\" fill-opacity=\"1\"/>\n",
       "<defs>\n",
       "  <clipPath id=\"clip5802\">\n",
       "    <rect x=\"279\" y=\"47\" width=\"2043\" height=\"1457\"/>\n",
       "  </clipPath>\n",
       "</defs>\n",
       "<polyline clip-path=\"url(#clip5802)\" style=\"stroke:#000000; stroke-width:2; stroke-opacity:0.1; fill:none\" points=\"\n",
       "  337.051,1503.47 337.051,47.2441 \n",
       "  \"/>\n",
       "<polyline clip-path=\"url(#clip5802)\" style=\"stroke:#000000; stroke-width:2; stroke-opacity:0.1; fill:none\" points=\"\n",
       "  818.655,1503.47 818.655,47.2441 \n",
       "  \"/>\n",
       "<polyline clip-path=\"url(#clip5802)\" style=\"stroke:#000000; stroke-width:2; stroke-opacity:0.1; fill:none\" points=\"\n",
       "  1300.26,1503.47 1300.26,47.2441 \n",
       "  \"/>\n",
       "<polyline clip-path=\"url(#clip5802)\" style=\"stroke:#000000; stroke-width:2; stroke-opacity:0.1; fill:none\" points=\"\n",
       "  1781.86,1503.47 1781.86,47.2441 \n",
       "  \"/>\n",
       "<polyline clip-path=\"url(#clip5802)\" style=\"stroke:#000000; stroke-width:2; stroke-opacity:0.1; fill:none\" points=\"\n",
       "  2263.47,1503.47 2263.47,47.2441 \n",
       "  \"/>\n",
       "<polyline clip-path=\"url(#clip5802)\" style=\"stroke:#000000; stroke-width:2; stroke-opacity:0.1; fill:none\" points=\"\n",
       "  279.259,1479.22 2321.26,1479.22 \n",
       "  \"/>\n",
       "<polyline clip-path=\"url(#clip5802)\" style=\"stroke:#000000; stroke-width:2; stroke-opacity:0.1; fill:none\" points=\"\n",
       "  279.259,1150.06 2321.26,1150.06 \n",
       "  \"/>\n",
       "<polyline clip-path=\"url(#clip5802)\" style=\"stroke:#000000; stroke-width:2; stroke-opacity:0.1; fill:none\" points=\"\n",
       "  279.259,820.889 2321.26,820.889 \n",
       "  \"/>\n",
       "<polyline clip-path=\"url(#clip5802)\" style=\"stroke:#000000; stroke-width:2; stroke-opacity:0.1; fill:none\" points=\"\n",
       "  279.259,491.721 2321.26,491.721 \n",
       "  \"/>\n",
       "<polyline clip-path=\"url(#clip5802)\" style=\"stroke:#000000; stroke-width:2; stroke-opacity:0.1; fill:none\" points=\"\n",
       "  279.259,162.553 2321.26,162.553 \n",
       "  \"/>\n",
       "<polyline clip-path=\"url(#clip5800)\" style=\"stroke:#000000; stroke-width:4; stroke-opacity:1; fill:none\" points=\"\n",
       "  279.259,1503.47 2321.26,1503.47 \n",
       "  \"/>\n",
       "<polyline clip-path=\"url(#clip5800)\" style=\"stroke:#000000; stroke-width:4; stroke-opacity:1; fill:none\" points=\"\n",
       "  279.259,1503.47 279.259,47.2441 \n",
       "  \"/>\n",
       "<polyline clip-path=\"url(#clip5800)\" style=\"stroke:#000000; stroke-width:4; stroke-opacity:1; fill:none\" points=\"\n",
       "  337.051,1503.47 337.051,1481.63 \n",
       "  \"/>\n",
       "<polyline clip-path=\"url(#clip5800)\" style=\"stroke:#000000; stroke-width:4; stroke-opacity:1; fill:none\" points=\"\n",
       "  818.655,1503.47 818.655,1481.63 \n",
       "  \"/>\n",
       "<polyline clip-path=\"url(#clip5800)\" style=\"stroke:#000000; stroke-width:4; stroke-opacity:1; fill:none\" points=\"\n",
       "  1300.26,1503.47 1300.26,1481.63 \n",
       "  \"/>\n",
       "<polyline clip-path=\"url(#clip5800)\" style=\"stroke:#000000; stroke-width:4; stroke-opacity:1; fill:none\" points=\"\n",
       "  1781.86,1503.47 1781.86,1481.63 \n",
       "  \"/>\n",
       "<polyline clip-path=\"url(#clip5800)\" style=\"stroke:#000000; stroke-width:4; stroke-opacity:1; fill:none\" points=\"\n",
       "  2263.47,1503.47 2263.47,1481.63 \n",
       "  \"/>\n",
       "<polyline clip-path=\"url(#clip5800)\" style=\"stroke:#000000; stroke-width:4; stroke-opacity:1; fill:none\" points=\"\n",
       "  279.259,1479.22 309.889,1479.22 \n",
       "  \"/>\n",
       "<polyline clip-path=\"url(#clip5800)\" style=\"stroke:#000000; stroke-width:4; stroke-opacity:1; fill:none\" points=\"\n",
       "  279.259,1150.06 309.889,1150.06 \n",
       "  \"/>\n",
       "<polyline clip-path=\"url(#clip5800)\" style=\"stroke:#000000; stroke-width:4; stroke-opacity:1; fill:none\" points=\"\n",
       "  279.259,820.889 309.889,820.889 \n",
       "  \"/>\n",
       "<polyline clip-path=\"url(#clip5800)\" style=\"stroke:#000000; stroke-width:4; stroke-opacity:1; fill:none\" points=\"\n",
       "  279.259,491.721 309.889,491.721 \n",
       "  \"/>\n",
       "<polyline clip-path=\"url(#clip5800)\" style=\"stroke:#000000; stroke-width:4; stroke-opacity:1; fill:none\" points=\"\n",
       "  279.259,162.553 309.889,162.553 \n",
       "  \"/>\n",
       "<g clip-path=\"url(#clip5800)\">\n",
       "<text style=\"fill:#000000; fill-opacity:1; font-family:Arial,Helvetica Neue,Helvetica,sans-serif; font-size:48px; text-anchor:middle;\" transform=\"rotate(0, 337.051, 1557.47)\" x=\"337.051\" y=\"1557.47\">0</text>\n",
       "</g>\n",
       "<g clip-path=\"url(#clip5800)\">\n",
       "<text style=\"fill:#000000; fill-opacity:1; font-family:Arial,Helvetica Neue,Helvetica,sans-serif; font-size:48px; text-anchor:middle;\" transform=\"rotate(0, 818.655, 1557.47)\" x=\"818.655\" y=\"1557.47\">25</text>\n",
       "</g>\n",
       "<g clip-path=\"url(#clip5800)\">\n",
       "<text style=\"fill:#000000; fill-opacity:1; font-family:Arial,Helvetica Neue,Helvetica,sans-serif; font-size:48px; text-anchor:middle;\" transform=\"rotate(0, 1300.26, 1557.47)\" x=\"1300.26\" y=\"1557.47\">50</text>\n",
       "</g>\n",
       "<g clip-path=\"url(#clip5800)\">\n",
       "<text style=\"fill:#000000; fill-opacity:1; font-family:Arial,Helvetica Neue,Helvetica,sans-serif; font-size:48px; text-anchor:middle;\" transform=\"rotate(0, 1781.86, 1557.47)\" x=\"1781.86\" y=\"1557.47\">75</text>\n",
       "</g>\n",
       "<g clip-path=\"url(#clip5800)\">\n",
       "<text style=\"fill:#000000; fill-opacity:1; font-family:Arial,Helvetica Neue,Helvetica,sans-serif; font-size:48px; text-anchor:middle;\" transform=\"rotate(0, 2263.47, 1557.47)\" x=\"2263.47\" y=\"1557.47\">100</text>\n",
       "</g>\n",
       "<g clip-path=\"url(#clip5800)\">\n",
       "<text style=\"fill:#000000; fill-opacity:1; font-family:Arial,Helvetica Neue,Helvetica,sans-serif; font-size:48px; text-anchor:end;\" transform=\"rotate(0, 255.259, 1496.72)\" x=\"255.259\" y=\"1496.72\">-0.30</text>\n",
       "</g>\n",
       "<g clip-path=\"url(#clip5800)\">\n",
       "<text style=\"fill:#000000; fill-opacity:1; font-family:Arial,Helvetica Neue,Helvetica,sans-serif; font-size:48px; text-anchor:end;\" transform=\"rotate(0, 255.259, 1167.56)\" x=\"255.259\" y=\"1167.56\">-0.25</text>\n",
       "</g>\n",
       "<g clip-path=\"url(#clip5800)\">\n",
       "<text style=\"fill:#000000; fill-opacity:1; font-family:Arial,Helvetica Neue,Helvetica,sans-serif; font-size:48px; text-anchor:end;\" transform=\"rotate(0, 255.259, 838.389)\" x=\"255.259\" y=\"838.389\">-0.20</text>\n",
       "</g>\n",
       "<g clip-path=\"url(#clip5800)\">\n",
       "<text style=\"fill:#000000; fill-opacity:1; font-family:Arial,Helvetica Neue,Helvetica,sans-serif; font-size:48px; text-anchor:end;\" transform=\"rotate(0, 255.259, 509.221)\" x=\"255.259\" y=\"509.221\">-0.15</text>\n",
       "</g>\n",
       "<g clip-path=\"url(#clip5800)\">\n",
       "<text style=\"fill:#000000; fill-opacity:1; font-family:Arial,Helvetica Neue,Helvetica,sans-serif; font-size:48px; text-anchor:end;\" transform=\"rotate(0, 255.259, 180.053)\" x=\"255.259\" y=\"180.053\">-0.10</text>\n",
       "</g>\n",
       "<g clip-path=\"url(#clip5800)\">\n",
       "<text style=\"fill:#000000; fill-opacity:1; font-family:Arial,Helvetica Neue,Helvetica,sans-serif; font-size:66px; text-anchor:middle;\" transform=\"rotate(-90, 156.859, 775.359)\" x=\"156.859\" y=\"775.359\">Energy</text>\n",
       "</g>\n",
       "<polyline clip-path=\"url(#clip5802)\" style=\"stroke:#009af9; stroke-width:12; stroke-opacity:1; fill:none\" points=\"\n",
       "  337.051,88.4582 356.315,406.697 375.579,652.608 394.844,930.665 414.108,944.327 433.372,944.327 452.636,1165.33 471.9,1207.11 491.164,1156.49 510.429,1090.59 \n",
       "  529.693,998.17 548.957,1108.27 568.221,1169.34 587.485,1117.91 606.749,1166.13 626.014,1320.43 645.278,1268.19 664.542,1267.39 683.806,1238.46 703.07,1262.57 \n",
       "  722.334,1300.34 741.598,1243.28 760.863,1260.96 780.127,1288.28 799.391,1271.41 818.655,1277.03 837.919,1293.91 857.183,1300.34 876.448,1255.33 895.712,1240.06 \n",
       "  914.976,1363.82 934.24,1335.7 953.504,1312.39 972.768,1275.42 992.033,1286.67 1011.3,1338.91 1030.56,1331.68 1049.83,1301.94 1069.09,1359.81 1088.35,1359 \n",
       "  1107.62,1263.37 1126.88,1336.5 1146.15,1323.64 1165.41,1346.95 1184.67,1326.05 1203.94,1293.1 1223.2,1407.22 1242.47,1339.71 1261.73,1352.57 1281,1351.77 \n",
       "  1300.26,1271.41 1319.52,1345.34 1338.79,1274.62 1358.05,1241.67 1377.32,1297.12 1396.58,1335.7 1415.84,1362.22 1435.11,1364.63 1454.37,1376.68 1473.64,1343.73 \n",
       "  1492.9,1327.66 1512.17,1335.7 1531.43,1329.27 1550.69,1367.04 1569.96,1316.41 1589.22,1385.52 1608.49,1362.22 1627.75,1327.66 1647.01,1297.12 1666.28,1359 \n",
       "  1685.54,1328.46 1704.81,1366.23 1724.07,1334.89 1743.33,1317.21 1762.6,1309.18 1781.86,1335.7 1801.13,1352.57 1820.39,1281.05 1839.66,1322.03 1858.92,1338.91 \n",
       "  1878.18,1299.53 1897.45,1306.77 1916.71,1373.47 1935.98,1358.2 1955.24,1326.86 1974.5,1289.89 1993.77,1356.59 2013.03,1297.93 2032.3,1328.46 2051.56,1345.34 \n",
       "  2070.83,1338.11 2090.09,1359 2109.35,1341.32 2128.62,1357.39 2147.88,1302.75 2167.15,1350.97 2186.41,1322.84 2205.67,1389.54 2224.94,1273.82 2244.2,1356.59 \n",
       "  2263.47,1336.5 \n",
       "  \"/>\n",
       "<polyline clip-path=\"url(#clip5802)\" style=\"stroke:#e26f46; stroke-width:12; stroke-opacity:1; fill:none\" points=\"\n",
       "  337.051,1462.26 356.315,1462.26 375.579,1462.26 394.844,1462.26 414.108,1462.26 433.372,1462.26 452.636,1462.26 471.9,1462.26 491.164,1462.26 510.429,1462.26 \n",
       "  529.693,1462.26 548.957,1462.26 568.221,1462.26 587.485,1462.26 606.749,1462.26 626.014,1462.26 645.278,1462.26 664.542,1462.26 683.806,1462.26 703.07,1462.26 \n",
       "  722.334,1462.26 741.598,1462.26 760.863,1462.26 780.127,1462.26 799.391,1462.26 818.655,1462.26 837.919,1462.26 857.183,1462.26 876.448,1462.26 895.712,1462.26 \n",
       "  914.976,1462.26 934.24,1462.26 953.504,1462.26 972.768,1462.26 992.033,1462.26 1011.3,1462.26 1030.56,1462.26 1049.83,1462.26 1069.09,1462.26 1088.35,1462.26 \n",
       "  1107.62,1462.26 1126.88,1462.26 1146.15,1462.26 1165.41,1462.26 1184.67,1462.26 1203.94,1462.26 1223.2,1462.26 1242.47,1462.26 1261.73,1462.26 1281,1462.26 \n",
       "  1300.26,1462.26 1319.52,1462.26 1338.79,1462.26 1358.05,1462.26 1377.32,1462.26 1396.58,1462.26 1415.84,1462.26 1435.11,1462.26 1454.37,1462.26 1473.64,1462.26 \n",
       "  1492.9,1462.26 1512.17,1462.26 1531.43,1462.26 1550.69,1462.26 1569.96,1462.26 1589.22,1462.26 1608.49,1462.26 1627.75,1462.26 1647.01,1462.26 1666.28,1462.26 \n",
       "  1685.54,1462.26 1704.81,1462.26 1724.07,1462.26 1743.33,1462.26 1762.6,1462.26 1781.86,1462.26 1801.13,1462.26 1820.39,1462.26 1839.66,1462.26 1858.92,1462.26 \n",
       "  1878.18,1462.26 1897.45,1462.26 1916.71,1462.26 1935.98,1462.26 1955.24,1462.26 1974.5,1462.26 1993.77,1462.26 2013.03,1462.26 2032.3,1462.26 2051.56,1462.26 \n",
       "  2070.83,1462.26 2090.09,1462.26 2109.35,1462.26 2128.62,1462.26 2147.88,1462.26 2167.15,1462.26 2186.41,1462.26 2205.67,1462.26 2224.94,1462.26 2244.2,1462.26 \n",
       "  2263.47,1462.26 \n",
       "  \"/>\n",
       "<polygon clip-path=\"url(#clip5800)\" points=\"\n",
       "1676.17,312.204 2249.26,312.204 2249.26,130.764 1676.17,130.764 \n",
       "  \" fill=\"#ffffff\" fill-rule=\"evenodd\" fill-opacity=\"1\"/>\n",
       "<polyline clip-path=\"url(#clip5800)\" style=\"stroke:#000000; stroke-width:4; stroke-opacity:1; fill:none\" points=\"\n",
       "  1676.17,312.204 2249.26,312.204 2249.26,130.764 1676.17,130.764 1676.17,312.204 \n",
       "  \"/>\n",
       "<polyline clip-path=\"url(#clip5800)\" style=\"stroke:#009af9; stroke-width:12; stroke-opacity:1; fill:none\" points=\"\n",
       "  1700.17,191.244 1844.17,191.244 \n",
       "  \"/>\n",
       "<g clip-path=\"url(#clip5800)\">\n",
       "<text style=\"fill:#000000; fill-opacity:1; font-family:Arial,Helvetica Neue,Helvetica,sans-serif; font-size:48px; text-anchor:start;\" transform=\"rotate(0, 1868.17, 208.744)\" x=\"1868.17\" y=\"208.744\">QMPS-Expand</text>\n",
       "</g>\n",
       "<polyline clip-path=\"url(#clip5800)\" style=\"stroke:#e26f46; stroke-width:12; stroke-opacity:1; fill:none\" points=\"\n",
       "  1700.17,251.724 1844.17,251.724 \n",
       "  \"/>\n",
       "<g clip-path=\"url(#clip5800)\">\n",
       "<text style=\"fill:#000000; fill-opacity:1; font-family:Arial,Helvetica Neue,Helvetica,sans-serif; font-size:48px; text-anchor:start;\" transform=\"rotate(0, 1868.17, 269.224)\" x=\"1868.17\" y=\"269.224\">Exact</text>\n",
       "</g>\n",
       "</svg>\n"
      ]
     },
     "execution_count": 169,
     "metadata": {},
     "output_type": "execute_result"
    }
   ],
   "source": [
    "M = length(loss_history)\n",
    "plot(0:M-1, [loss_history, fill(EG, M)], label=[\"QMPS-Expand\", \"Exact\"], lw=3, ylabel=\"Energy\")"
   ]
  },
  {
   "cell_type": "markdown",
   "metadata": {},
   "source": [
    "## Task 1: The problem of vanishing gradient\n",
    "Change the circuit size (as well as model lattice size), show the variance of gradient items.\n",
    "\n",
    "#### Hint: useful functions\n",
    "* using Statistics: var\n",
    "* Use `energy_exact` instead of `energy` to avoid sampling error"
   ]
  },
  {
   "cell_type": "code",
   "execution_count": 170,
   "metadata": {},
   "outputs": [
    {
     "data": {
      "text/plain": [
       "wave_function (generic function with 1 method)"
      ]
     },
     "execution_count": 170,
     "metadata": {},
     "output_type": "execute_result"
    }
   ],
   "source": [
    "wave_function(circuit) = zero_state(nqubits(circuit)) |> circuit[1:end-1]"
   ]
  },
  {
   "cell_type": "code",
   "execution_count": 128,
   "metadata": {},
   "outputs": [
    {
     "data": {
      "text/plain": [
       "energy_exact (generic function with 1 method)"
      ]
     },
     "execution_count": 128,
     "metadata": {},
     "output_type": "execute_result"
    }
   ],
   "source": [
    "# obtain the exact <H> through wave function\n",
    "energy_exact(vqe) = expect(hamiltonian(vqe.model), wave_function(vqe.circuit)) |> real"
   ]
  },
  {
   "cell_type": "code",
   "execution_count": 153,
   "metadata": {},
   "outputs": [
    {
     "data": {
      "text/plain": [
       "opgrad_exact (generic function with 1 method)"
      ]
     },
     "execution_count": 153,
     "metadata": {},
     "output_type": "execute_result"
    }
   ],
   "source": [
    "function opgrad_exact(vqe::VQE, r)\n",
    "    dispatch!(+, r, π/2)\n",
    "    E₊ = energy_exact(vqe)\n",
    "    dispatch!(-, r, π)\n",
    "    E₋ = energy_exact(vqe)\n",
    "    dispatch!(+, r, π/2)\n",
    "    0.5*(E₊ - E₋)\n",
    "end"
   ]
  },
  {
   "cell_type": "code",
   "execution_count": 154,
   "metadata": {},
   "outputs": [
    {
     "name": "stdout",
     "output_type": "stream",
     "text": [
      "2\n",
      "3\n",
      "4\n",
      "5\n",
      "6\n",
      "7\n",
      "8\n",
      "9\n"
     ]
    },
    {
     "data": {
      "text/plain": [
       "8-element Array{Float64,1}:\n",
       " 0.07549153741128896\n",
       " 0.09583226381779932\n",
       " 0.11916702798334385\n",
       " 0.10823850341118278\n",
       " 0.09526693782285131\n",
       " 0.09561843871114195\n",
       " 0.10251840223865968\n",
       " 0.10697407003096228"
      ]
     },
     "execution_count": 154,
     "metadata": {},
     "output_type": "execute_result"
    }
   ],
   "source": [
    "using Statistics\n",
    "\n",
    "function rand_gradient(nbit::Int)\n",
    "    d = 3\n",
    "    circuit = ansatz_circuit(nbit, d)\n",
    "    model = TFI(nbit; h=0.5, periodic=false)\n",
    "    vqe = VQE(model, circuit, nshots=1)\n",
    "    dispatch!(circuit, :random)\n",
    "    r = rand(collect_blocks(RotationGate, circuit))\n",
    "    opgrad_exact(vqe, r)\n",
    "end\n",
    "\n",
    "maxN = 9\n",
    "grad_vars = [(println(N); mean([abs(rand_gradient(N)) for i=1:300])) for N=2:maxN]"
   ]
  },
  {
   "cell_type": "code",
   "execution_count": 157,
   "metadata": {},
   "outputs": [
    {
     "data": {
      "image/png": "[encoded data removed]"
     },
     "execution_count": 157,
     "metadata": {},
     "output_type": "execute_result"
    }
   ],
   "source": [
    "# there is no exponential gradient vanishing\n",
    "# please compare it with the result in notebook `variational_qantum_circuit.ipynb`\n",
    "pyplot()\n",
    "ax = plot(2:maxN, grad_vars, yscale=:log10)"
   ]
  },
  {
   "cell_type": "markdown",
   "metadata": {},
   "source": [
    "## Task 2: Two qubits simulating a four-qubit systems\n",
    "\n",
    "Hadamard Gate with dashed box is applied only when measuring on the X basis.\n",
    "<div style=\"display:inline-block\"><img style=\"float: left\", src=\"images/hgate.png\" width=\"50\"/></div>\n",
    "\n",
    "The following gates Measure and Reset a qubit to 0.\n",
    "\n",
    "<div style=\"display:inline-block\"><img style=\"float:left\", src=\"images/mreset.png\" width=\"100\"></div>\n",
    "\n",
    "The goal of this section is to build the MPS-inspired sampler as our ansatz\n",
    "\n",
    "<div style=\"display:inline-block\"><img style=\"float:left\", src=\"images/twoqubit.png\"></div>"
   ]
  },
  {
   "cell_type": "markdown",
   "metadata": {},
   "source": [
    "### Reference: Variational Quantum Eigensolver with Fewer Qubits\n",
    "\n",
    "*Jin-Guo Liu, Yi-Hong Zhang, Yuan Wan, Lei Wang*\n",
    "\n",
    "https://arxiv.org/abs/1902.02663"
   ]
  },
  {
   "cell_type": "code",
   "execution_count": 107,
   "metadata": {},
   "outputs": [
    {
     "data": {
      "text/plain": [
       "MeasureAndReset (generic function with 1 method)"
      ]
     },
     "execution_count": 107,
     "metadata": {},
     "output_type": "execute_result"
    }
   ],
   "source": [
    "# Hint\n",
    "MeasureAndReset(nbit::Int, i::Int) = Measure{nbit, 1, AbstractBlock}(Z, (i,), 0, false)"
   ]
  },
  {
   "cell_type": "code",
   "execution_count": 119,
   "metadata": {
    "scrolled": true
   },
   "outputs": [
    {
     "data": {
      "text/plain": [
       "ansatz_circuit_2qubit"
      ]
     },
     "execution_count": 119,
     "metadata": {},
     "output_type": "execute_result"
    }
   ],
   "source": [
    "\"\"\"\n",
    "    ansatz_circuit_2qubit(nbit::Int, d::Int)\n",
    "\n",
    "Construct the above ansatz, `nrepeat` is the number of measure operations,\n",
    "`d` is the depth of each block between two measurements.\n",
    "\"\"\"\n",
    "function ansatz_circuit_2qubit(nbit::Int, d::Int)\n",
    "    Nv = 1\n",
    "    nbit_used = 1+Nv\n",
    "    nrepeat = nbit - Nv\n",
    "    circuit = chain(nbit_used)\n",
    "\n",
    "    for i=1:nrepeat\n",
    "        unit = chain(nbit_used)\n",
    "        for j=1:d\n",
    "            push!(unit, put(nbit_used, 1=>Rxz()))\n",
    "            push!(unit, put(nbit_used, 2=>Rxz()))\n",
    "            push!(unit, control(nbit_used, 1, 2=>shift(0.0)))\n",
    "        end\n",
    "        push!(unit, MeasureAndReset(nbit_used, 1))\n",
    "        if i==nrepeat\n",
    "            for k=2:nbit_used\n",
    "                push!(unit, MeasureAndReset(nbit_used, k))\n",
    "            end\n",
    "        end\n",
    "        push!(circuit, unit)\n",
    "    end\n",
    "    circuit\n",
    "end"
   ]
  },
  {
   "cell_type": "code",
   "execution_count": 205,
   "metadata": {},
   "outputs": [],
   "source": [
    "lattice_size = 4\n",
    "vqe = VQE(TFI(lattice_size; h=0.5, periodic=false),\n",
    "    ansatz_circuit_2qubit(lattice_size, 2);\n",
    "    nshots=4000);"
   ]
  },
  {
   "cell_type": "code",
   "execution_count": 206,
   "metadata": {},
   "outputs": [
    {
     "data": {
      "text/plain": [
       "30"
      ]
     },
     "execution_count": 206,
     "metadata": {},
     "output_type": "execute_result"
    }
   ],
   "source": [
    "nparameters(vqe.circuit)"
   ]
  },
  {
   "cell_type": "code",
   "execution_count": 201,
   "metadata": {},
   "outputs": [
    {
     "data": {
      "text/plain": [
       "gensample"
      ]
     },
     "execution_count": 201,
     "metadata": {},
     "output_type": "execute_result"
    }
   ],
   "source": [
    "\"\"\"\n",
    "    gensample(circuit, operator; nbatch=1024) -> Vector of Measure\n",
    "\n",
    "Generate samples from MPS-inspired circuit. Here, `nbatch` means nshot.\n",
    "`operator` is the operator to measure.\n",
    "This function returns a vector of `Measure` gates, results are stored in `m.results`.\n",
    "\"\"\"\n",
    "function gensample(circuit, operator; nbatch=1024)\n",
    "    mblocks = collect_blocks(Measure, circuit)\n",
    "    for m in mblocks\n",
    "        m.operator = operator\n",
    "    end\n",
    "    reg = zero_state(nqubits(circuit); nbatch=nbatch)\n",
    "    reg |> circuit\n",
    "    mblocks\n",
    "end"
   ]
  },
  {
   "cell_type": "code",
   "execution_count": 202,
   "metadata": {},
   "outputs": [
    {
     "name": "stdout",
     "output_type": "stream",
     "text": [
      "Iter 0, E/N = 0.02584375\n",
      "Iter 10, E/N = -0.24709375\n",
      "Iter 20, E/N = -0.25425\n",
      "Iter 30, E/N = -0.27565625\n",
      "Iter 40, E/N = -0.27749999999999997\n",
      "Iter 50, E/N = -0.2753125\n",
      "Iter 60, E/N = -0.27965625\n",
      "Iter 70, E/N = -0.27903124999999995\n",
      "Iter 80, E/N = -0.27603125\n",
      "Iter 90, E/N = -0.27775\n",
      "Iter 100, E/N = -0.27890624999999997\n",
      "100.322192 seconds (1.15 G allocations: 130.021 GiB, 34.81% gc time)\n"
     ]
    }
   ],
   "source": [
    "dispatch!(vqe.circuit, :random)\n",
    "@time loss_history, circuit = train!(vqe; maxiter=100, α=0.3);"
   ]
  },
  {
   "cell_type": "code",
   "execution_count": 207,
   "metadata": {},
   "outputs": [],
   "source": [
    "using CuYao"
   ]
  },
  {
   "cell_type": "code",
   "execution_count": 208,
   "metadata": {},
   "outputs": [
    {
     "data": {
      "text/plain": [
       "gensample"
      ]
     },
     "execution_count": 208,
     "metadata": {},
     "output_type": "execute_result"
    }
   ],
   "source": [
    "\"\"\"\n",
    "    gensample(circuit, operator; nbatch=1024) -> Vector of Measure\n",
    "\n",
    "Generate samples from MPS-inspired circuit. Here, `nbatch` means nshot.\n",
    "`operator` is the operator to measure.\n",
    "This function returns a vector of `Measure` gates, results are stored in `m.results`.\n",
    "\"\"\"\n",
    "function gensample(circuit, operator; nbatch=1024)\n",
    "    mblocks = collect_blocks(Measure, circuit)\n",
    "    for m in mblocks\n",
    "        m.operator = operator\n",
    "    end\n",
    "    reg = zero_state(nqubits(circuit); nbatch=nbatch) |> cu\n",
    "    reg |> circuit\n",
    "    mblocks\n",
    "end"
   ]
  },
  {
   "cell_type": "code",
   "execution_count": 209,
   "metadata": {},
   "outputs": [
    {
     "name": "stdout",
     "output_type": "stream",
     "text": [
      "Iter 0, E/N = -0.0021562499999999984\n",
      "Iter 10, E/N = -0.24275000000000002\n",
      "Iter 20, E/N = -0.2655625\n",
      "Iter 30, E/N = -0.276625\n",
      "Iter 40, E/N = -0.277625\n",
      "Iter 50, E/N = -0.27696875\n",
      "Iter 60, E/N = -0.27659374999999997\n",
      "Iter 70, E/N = -0.28025\n",
      "Iter 80, E/N = -0.27690625\n",
      "Iter 90, E/N = -0.27653125\n",
      "Iter 100, E/N = -0.27893749999999995\n",
      " 81.006458 seconds (783.97 M allocations: 60.921 GiB, 22.79% gc time)\n"
     ]
    }
   ],
   "source": [
    "dispatch!(vqe.circuit, :random)\n",
    "@time loss_history, circuit = train!(vqe; maxiter=100, α=0.3);"
   ]
  },
  {
   "cell_type": "code",
   "execution_count": 163,
   "metadata": {},
   "outputs": [
    {
     "data": {
      "image/svg+xml": [
       "<?xml version=\"1.0\" encoding=\"utf-8\"?>\n",
       "<svg xmlns=\"http://www.w3.org/2000/svg\" xmlns:xlink=\"http://www.w3.org/1999/xlink\" width=\"600\" height=\"400\" viewBox=\"0 0 2400 1600\">\n",
       "<defs>\n",
       "  <clipPath id=\"clip5400\">\n",
       "    <rect x=\"0\" y=\"0\" width=\"2400\" height=\"1600\"/>\n",
       "  </clipPath>\n",
       "</defs>\n",
       "<polygon clip-path=\"url(#clip5400)\" points=\"\n",
       "0,1600 2400,1600 2400,0 0,0 \n",
       "  \" fill=\"#ffffff\" fill-rule=\"evenodd\" fill-opacity=\"1\"/>\n",
       "<defs>\n",
       "  <clipPath id=\"clip5401\">\n",
       "    <rect x=\"480\" y=\"0\" width=\"1681\" height=\"1600\"/>\n",
       "  </clipPath>\n",
       "</defs>\n",
       "<polygon clip-path=\"url(#clip5400)\" points=\"\n",
       "252.496,1503.47 2321.26,1503.47 2321.26,47.2441 252.496,47.2441 \n",
       "  \" fill=\"#ffffff\" fill-rule=\"evenodd\" fill-opacity=\"1\"/>\n",
       "<defs>\n",
       "  <clipPath id=\"clip5402\">\n",
       "    <rect x=\"252\" y=\"47\" width=\"2070\" height=\"1457\"/>\n",
       "  </clipPath>\n",
       "</defs>\n",
       "<polyline clip-path=\"url(#clip5402)\" style=\"stroke:#000000; stroke-width:2; stroke-opacity:0.1; fill:none\" points=\"\n",
       "  311.046,1503.47 311.046,47.2441 \n",
       "  \"/>\n",
       "<polyline clip-path=\"url(#clip5402)\" style=\"stroke:#000000; stroke-width:2; stroke-opacity:0.1; fill:none\" points=\"\n",
       "  798.962,1503.47 798.962,47.2441 \n",
       "  \"/>\n",
       "<polyline clip-path=\"url(#clip5402)\" style=\"stroke:#000000; stroke-width:2; stroke-opacity:0.1; fill:none\" points=\"\n",
       "  1286.88,1503.47 1286.88,47.2441 \n",
       "  \"/>\n",
       "<polyline clip-path=\"url(#clip5402)\" style=\"stroke:#000000; stroke-width:2; stroke-opacity:0.1; fill:none\" points=\"\n",
       "  1774.79,1503.47 1774.79,47.2441 \n",
       "  \"/>\n",
       "<polyline clip-path=\"url(#clip5402)\" style=\"stroke:#000000; stroke-width:2; stroke-opacity:0.1; fill:none\" points=\"\n",
       "  2262.71,1503.47 2262.71,47.2441 \n",
       "  \"/>\n",
       "<polyline clip-path=\"url(#clip5402)\" style=\"stroke:#000000; stroke-width:2; stroke-opacity:0.1; fill:none\" points=\"\n",
       "  252.496,1472.02 2321.26,1472.02 \n",
       "  \"/>\n",
       "<polyline clip-path=\"url(#clip5402)\" style=\"stroke:#000000; stroke-width:2; stroke-opacity:0.1; fill:none\" points=\"\n",
       "  252.496,1093.41 2321.26,1093.41 \n",
       "  \"/>\n",
       "<polyline clip-path=\"url(#clip5402)\" style=\"stroke:#000000; stroke-width:2; stroke-opacity:0.1; fill:none\" points=\"\n",
       "  252.496,714.794 2321.26,714.794 \n",
       "  \"/>\n",
       "<polyline clip-path=\"url(#clip5402)\" style=\"stroke:#000000; stroke-width:2; stroke-opacity:0.1; fill:none\" points=\"\n",
       "  252.496,336.182 2321.26,336.182 \n",
       "  \"/>\n",
       "<polyline clip-path=\"url(#clip5400)\" style=\"stroke:#000000; stroke-width:4; stroke-opacity:1; fill:none\" points=\"\n",
       "  252.496,1503.47 2321.26,1503.47 \n",
       "  \"/>\n",
       "<polyline clip-path=\"url(#clip5400)\" style=\"stroke:#000000; stroke-width:4; stroke-opacity:1; fill:none\" points=\"\n",
       "  252.496,1503.47 252.496,47.2441 \n",
       "  \"/>\n",
       "<polyline clip-path=\"url(#clip5400)\" style=\"stroke:#000000; stroke-width:4; stroke-opacity:1; fill:none\" points=\"\n",
       "  311.046,1503.47 311.046,1481.63 \n",
       "  \"/>\n",
       "<polyline clip-path=\"url(#clip5400)\" style=\"stroke:#000000; stroke-width:4; stroke-opacity:1; fill:none\" points=\"\n",
       "  798.962,1503.47 798.962,1481.63 \n",
       "  \"/>\n",
       "<polyline clip-path=\"url(#clip5400)\" style=\"stroke:#000000; stroke-width:4; stroke-opacity:1; fill:none\" points=\"\n",
       "  1286.88,1503.47 1286.88,1481.63 \n",
       "  \"/>\n",
       "<polyline clip-path=\"url(#clip5400)\" style=\"stroke:#000000; stroke-width:4; stroke-opacity:1; fill:none\" points=\"\n",
       "  1774.79,1503.47 1774.79,1481.63 \n",
       "  \"/>\n",
       "<polyline clip-path=\"url(#clip5400)\" style=\"stroke:#000000; stroke-width:4; stroke-opacity:1; fill:none\" points=\"\n",
       "  2262.71,1503.47 2262.71,1481.63 \n",
       "  \"/>\n",
       "<polyline clip-path=\"url(#clip5400)\" style=\"stroke:#000000; stroke-width:4; stroke-opacity:1; fill:none\" points=\"\n",
       "  252.496,1472.02 283.528,1472.02 \n",
       "  \"/>\n",
       "<polyline clip-path=\"url(#clip5400)\" style=\"stroke:#000000; stroke-width:4; stroke-opacity:1; fill:none\" points=\"\n",
       "  252.496,1093.41 283.528,1093.41 \n",
       "  \"/>\n",
       "<polyline clip-path=\"url(#clip5400)\" style=\"stroke:#000000; stroke-width:4; stroke-opacity:1; fill:none\" points=\"\n",
       "  252.496,714.794 283.528,714.794 \n",
       "  \"/>\n",
       "<polyline clip-path=\"url(#clip5400)\" style=\"stroke:#000000; stroke-width:4; stroke-opacity:1; fill:none\" points=\"\n",
       "  252.496,336.182 283.528,336.182 \n",
       "  \"/>\n",
       "<g clip-path=\"url(#clip5400)\">\n",
       "<text style=\"fill:#000000; fill-opacity:1; font-family:Arial,Helvetica Neue,Helvetica,sans-serif; font-size:48px; text-anchor:middle;\" transform=\"rotate(0, 311.046, 1557.47)\" x=\"311.046\" y=\"1557.47\">0</text>\n",
       "</g>\n",
       "<g clip-path=\"url(#clip5400)\">\n",
       "<text style=\"fill:#000000; fill-opacity:1; font-family:Arial,Helvetica Neue,Helvetica,sans-serif; font-size:48px; text-anchor:middle;\" transform=\"rotate(0, 798.962, 1557.47)\" x=\"798.962\" y=\"1557.47\">25</text>\n",
       "</g>\n",
       "<g clip-path=\"url(#clip5400)\">\n",
       "<text style=\"fill:#000000; fill-opacity:1; font-family:Arial,Helvetica Neue,Helvetica,sans-serif; font-size:48px; text-anchor:middle;\" transform=\"rotate(0, 1286.88, 1557.47)\" x=\"1286.88\" y=\"1557.47\">50</text>\n",
       "</g>\n",
       "<g clip-path=\"url(#clip5400)\">\n",
       "<text style=\"fill:#000000; fill-opacity:1; font-family:Arial,Helvetica Neue,Helvetica,sans-serif; font-size:48px; text-anchor:middle;\" transform=\"rotate(0, 1774.79, 1557.47)\" x=\"1774.79\" y=\"1557.47\">75</text>\n",
       "</g>\n",
       "<g clip-path=\"url(#clip5400)\">\n",
       "<text style=\"fill:#000000; fill-opacity:1; font-family:Arial,Helvetica Neue,Helvetica,sans-serif; font-size:48px; text-anchor:middle;\" transform=\"rotate(0, 2262.71, 1557.47)\" x=\"2262.71\" y=\"1557.47\">100</text>\n",
       "</g>\n",
       "<g clip-path=\"url(#clip5400)\">\n",
       "<text style=\"fill:#000000; fill-opacity:1; font-family:Arial,Helvetica Neue,Helvetica,sans-serif; font-size:48px; text-anchor:end;\" transform=\"rotate(0, 228.496, 1489.52)\" x=\"228.496\" y=\"1489.52\">-0.3</text>\n",
       "</g>\n",
       "<g clip-path=\"url(#clip5400)\">\n",
       "<text style=\"fill:#000000; fill-opacity:1; font-family:Arial,Helvetica Neue,Helvetica,sans-serif; font-size:48px; text-anchor:end;\" transform=\"rotate(0, 228.496, 1110.91)\" x=\"228.496\" y=\"1110.91\">-0.2</text>\n",
       "</g>\n",
       "<g clip-path=\"url(#clip5400)\">\n",
       "<text style=\"fill:#000000; fill-opacity:1; font-family:Arial,Helvetica Neue,Helvetica,sans-serif; font-size:48px; text-anchor:end;\" transform=\"rotate(0, 228.496, 732.294)\" x=\"228.496\" y=\"732.294\">-0.1</text>\n",
       "</g>\n",
       "<g clip-path=\"url(#clip5400)\">\n",
       "<text style=\"fill:#000000; fill-opacity:1; font-family:Arial,Helvetica Neue,Helvetica,sans-serif; font-size:48px; text-anchor:end;\" transform=\"rotate(0, 228.496, 353.682)\" x=\"228.496\" y=\"353.682\">0.0</text>\n",
       "</g>\n",
       "<g clip-path=\"url(#clip5400)\">\n",
       "<text style=\"fill:#000000; fill-opacity:1; font-family:Arial,Helvetica Neue,Helvetica,sans-serif; font-size:66px; text-anchor:middle;\" transform=\"rotate(-90, 130.096, 775.359)\" x=\"130.096\" y=\"775.359\">Energy</text>\n",
       "</g>\n",
       "<polyline clip-path=\"url(#clip5402)\" style=\"stroke:#009af9; stroke-width:12; stroke-opacity:1; fill:none\" points=\"\n",
       "  311.046,88.4582 330.563,463.28 350.079,724.869 369.596,916.671 389.113,998.013 408.629,1071.5 428.146,1131.58 447.663,1169.02 467.179,1206.91 486.696,1244.35 \n",
       "  506.213,1240.65 525.729,1254.98 545.246,1267.46 564.762,1299.81 584.279,1257.75 603.796,1257.29 623.312,1320.15 642.829,1349.26 662.346,1319.68 681.862,1327.54 \n",
       "  701.379,1338.17 720.896,1336.32 740.412,1336.32 759.929,1356.2 779.445,1361.28 798.962,1354.81 818.479,1368.21 837.995,1385.78 857.512,1372.83 877.029,1352.5 \n",
       "  896.545,1347.88 916.062,1387.62 935.579,1333.55 955.095,1343.72 974.612,1400.57 994.128,1374.68 1013.65,1367.75 1033.16,1371.45 1052.68,1341.41 1072.2,1360.36 \n",
       "  1091.71,1340.02 1111.23,1347.42 1130.74,1408.42 1150.26,1394.09 1169.78,1374.68 1189.29,1373.3 1208.81,1389.47 1228.33,1395.94 1247.84,1400.57 1267.36,1378.84 \n",
       "  1286.88,1388.55 1306.39,1377.46 1325.91,1362.67 1345.43,1410.73 1364.94,1375.61 1384.46,1380.69 1403.98,1391.32 1423.49,1355.27 1443.01,1383.93 1462.53,1372.83 \n",
       "  1482.04,1386.24 1501.56,1364.52 1521.08,1407.5 1540.59,1399.18 1560.11,1389.01 1579.63,1374.68 1599.14,1361.28 1618.66,1361.28 1638.18,1412.12 1657.69,1414.43 \n",
       "  1677.21,1406.57 1696.73,1384.85 1716.24,1360.36 1735.76,1377.46 1755.28,1381.15 1774.79,1390.4 1794.31,1389.47 1813.83,1387.62 1833.34,1385.31 1852.86,1382.54 \n",
       "  1872.38,1389.01 1891.89,1404.72 1911.41,1407.04 1930.93,1414.43 1950.44,1372.83 1969.96,1380.69 1989.48,1424.14 2008.99,1409.81 2028.51,1381.62 2048.03,1396.41 \n",
       "  2067.54,1390.86 2087.06,1372.37 2106.58,1364.52 2126.09,1420.9 2145.61,1370.52 2165.13,1403.8 2184.64,1374.22 2204.16,1379.77 2223.68,1367.29 2243.19,1401.03 \n",
       "  2262.71,1380.69 \n",
       "  \"/>\n",
       "<polyline clip-path=\"url(#clip5402)\" style=\"stroke:#e26f46; stroke-width:12; stroke-opacity:1; fill:none\" points=\"\n",
       "  311.046,1462.26 330.563,1462.26 350.079,1462.26 369.596,1462.26 389.113,1462.26 408.629,1462.26 428.146,1462.26 447.663,1462.26 467.179,1462.26 486.696,1462.26 \n",
       "  506.213,1462.26 525.729,1462.26 545.246,1462.26 564.762,1462.26 584.279,1462.26 603.796,1462.26 623.312,1462.26 642.829,1462.26 662.346,1462.26 681.862,1462.26 \n",
       "  701.379,1462.26 720.896,1462.26 740.412,1462.26 759.929,1462.26 779.445,1462.26 798.962,1462.26 818.479,1462.26 837.995,1462.26 857.512,1462.26 877.029,1462.26 \n",
       "  896.545,1462.26 916.062,1462.26 935.579,1462.26 955.095,1462.26 974.612,1462.26 994.128,1462.26 1013.65,1462.26 1033.16,1462.26 1052.68,1462.26 1072.2,1462.26 \n",
       "  1091.71,1462.26 1111.23,1462.26 1130.74,1462.26 1150.26,1462.26 1169.78,1462.26 1189.29,1462.26 1208.81,1462.26 1228.33,1462.26 1247.84,1462.26 1267.36,1462.26 \n",
       "  1286.88,1462.26 1306.39,1462.26 1325.91,1462.26 1345.43,1462.26 1364.94,1462.26 1384.46,1462.26 1403.98,1462.26 1423.49,1462.26 1443.01,1462.26 1462.53,1462.26 \n",
       "  1482.04,1462.26 1501.56,1462.26 1521.08,1462.26 1540.59,1462.26 1560.11,1462.26 1579.63,1462.26 1599.14,1462.26 1618.66,1462.26 1638.18,1462.26 1657.69,1462.26 \n",
       "  1677.21,1462.26 1696.73,1462.26 1716.24,1462.26 1735.76,1462.26 1755.28,1462.26 1774.79,1462.26 1794.31,1462.26 1813.83,1462.26 1833.34,1462.26 1852.86,1462.26 \n",
       "  1872.38,1462.26 1891.89,1462.26 1911.41,1462.26 1930.93,1462.26 1950.44,1462.26 1969.96,1462.26 1989.48,1462.26 2008.99,1462.26 2028.51,1462.26 2048.03,1462.26 \n",
       "  2067.54,1462.26 2087.06,1462.26 2106.58,1462.26 2126.09,1462.26 2145.61,1462.26 2165.13,1462.26 2184.64,1462.26 2204.16,1462.26 2223.68,1462.26 2243.19,1462.26 \n",
       "  2262.71,1462.26 \n",
       "  \"/>\n",
       "<polygon clip-path=\"url(#clip5400)\" points=\"\n",
       "1700.29,312.204 2249.26,312.204 2249.26,130.764 1700.29,130.764 \n",
       "  \" fill=\"#ffffff\" fill-rule=\"evenodd\" fill-opacity=\"1\"/>\n",
       "<polyline clip-path=\"url(#clip5400)\" style=\"stroke:#000000; stroke-width:4; stroke-opacity:1; fill:none\" points=\"\n",
       "  1700.29,312.204 2249.26,312.204 2249.26,130.764 1700.29,130.764 1700.29,312.204 \n",
       "  \"/>\n",
       "<polyline clip-path=\"url(#clip5400)\" style=\"stroke:#009af9; stroke-width:12; stroke-opacity:1; fill:none\" points=\"\n",
       "  1724.29,191.244 1868.29,191.244 \n",
       "  \"/>\n",
       "<g clip-path=\"url(#clip5400)\">\n",
       "<text style=\"fill:#000000; fill-opacity:1; font-family:Arial,Helvetica Neue,Helvetica,sans-serif; font-size:48px; text-anchor:start;\" transform=\"rotate(0, 1892.29, 208.744)\" x=\"1892.29\" y=\"208.744\">QMPS-Reuse</text>\n",
       "</g>\n",
       "<polyline clip-path=\"url(#clip5400)\" style=\"stroke:#e26f46; stroke-width:12; stroke-opacity:1; fill:none\" points=\"\n",
       "  1724.29,251.724 1868.29,251.724 \n",
       "  \"/>\n",
       "<g clip-path=\"url(#clip5400)\">\n",
       "<text style=\"fill:#000000; fill-opacity:1; font-family:Arial,Helvetica Neue,Helvetica,sans-serif; font-size:48px; text-anchor:start;\" transform=\"rotate(0, 1892.29, 269.224)\" x=\"1892.29\" y=\"269.224\">Exact</text>\n",
       "</g>\n",
       "</svg>\n"
      ]
     },
     "execution_count": 163,
     "metadata": {},
     "output_type": "execute_result"
    }
   ],
   "source": [
    "M = length(loss_history)\n",
    "gr()\n",
    "plot(0:M-1, [loss_history, fill(EG, M)], labels=[\"QMPS-Reuse\", \"Exact\"], lw=3, ylabel=\"Energy\")"
   ]
  },
  {
   "cell_type": "code",
   "execution_count": null,
   "metadata": {},
   "outputs": [],
   "source": []
  }
 ],
 "metadata": {
  "@webio": {
   "lastCommId": null,
   "lastKernelId": null
  },
  "celltoolbar": "Slideshow",
  "kernelspec": {
   "display_name": "Julia 1.1.0",
   "language": "julia",
   "name": "julia-1.1"
  },
  "language_info": {
   "file_extension": ".jl",
   "mimetype": "application/julia",
   "name": "julia",
   "version": "1.1.0"
  }
 },
 "nbformat": 4,
 "nbformat_minor": 2
}
